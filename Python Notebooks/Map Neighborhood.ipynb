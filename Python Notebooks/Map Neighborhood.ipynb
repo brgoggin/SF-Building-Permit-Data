{
 "cells": [
  {
   "cell_type": "markdown",
   "metadata": {},
   "source": [
    "# Map Neighborhood\n",
    "In this notebook, I use the development pipeline data of SF development in order to create an online map of residential construction by Zillow neighborhood. \n"
   ]
  },
  {
   "cell_type": "code",
   "execution_count": 230,
   "metadata": {
    "collapsed": false
   },
   "outputs": [],
   "source": [
    "#import packages\n",
    "import pandas as pd\n",
    "import numpy as np\n",
    "import re as re\n",
    "import json    # library for working with JSON-formatted text strings\n",
    "import requests  # library for accessing content from web URLs\n",
    "import pprint  # library for making Python data structures readable\n",
    "pp = pprint.PrettyPrinter()\n",
    "import geopandas as gpd\n",
    "from geopandas import GeoDataFrame\n",
    "from shapely.geometry import Point\n",
    "from geopy.distance import great_circle\n",
    "# magic command to display matplotlib plots inline within the ipython notebook\n",
    "%matplotlib inline\n",
    "\n",
    "pd.options.display.float_format = '{:.2f}'.format #display series descriptions in normal format (i.e. not scientific notation)"
   ]
  },
  {
   "cell_type": "code",
   "execution_count": 231,
   "metadata": {
    "collapsed": true
   },
   "outputs": [],
   "source": [
    "#specify file paths\n",
    "import_path = \"/Users/briangoggin/Dropbox/CP 255/SF Development Project/Intermediate Files/\"\n",
    "code_path = \"/Users/briangoggin/Dropbox/CP 255/SF Development Project/Code/Maps/\""
   ]
  },
  {
   "cell_type": "markdown",
   "metadata": {},
   "source": [
    "# Section 1: Create polygons with recently completed development"
   ]
  },
  {
   "cell_type": "markdown",
   "metadata": {},
   "source": [
    "## Determine constructed units over time"
   ]
  },
  {
   "cell_type": "markdown",
   "metadata": {},
   "source": [
    "First, I assume that units were constructed in the latest quarter for which the project had \"construction\" as a project status. I identify these observations."
   ]
  },
  {
   "cell_type": "code",
   "execution_count": 232,
   "metadata": {
    "collapsed": false
   },
   "outputs": [],
   "source": [
    "full_df = pd.read_csv(import_path+\"/pipeline.csv\")"
   ]
  },
  {
   "cell_type": "code",
   "execution_count": 233,
   "metadata": {
    "collapsed": true
   },
   "outputs": [],
   "source": [
    "#(03/02/2016) dropping Hunters Point shipyard until more robust solution. See Github issues for further explanation\n",
    "full_df = full_df[full_df['address'] != 'HUNTERS POINT SHIPYARD, PHASE II']"
   ]
  },
  {
   "cell_type": "code",
   "execution_count": 234,
   "metadata": {
    "collapsed": false
   },
   "outputs": [],
   "source": [
    "#create dataframe for construction ending over time. This is a method to identify where construction ended,\n",
    "#at which point the data drops out of the pipeline\n",
    "cons_end = full_df[full_df['status'] == \"CONSTRUCTION\"].groupby(['lot_number'], as_index=False)['quarter_order'].max()\n",
    "cons_end.rename(columns = {'quarter_order': 'consdate'}, inplace = True)\n",
    "#merge data together to identify quarter that projects were built\n",
    "full_df2 = full_df.merge(cons_end, on = 'lot_number', how = \"outer\")\n",
    "full_df2 = full_df2[full_df2['consdate'] == full_df2['quarter_order']]\n",
    "full_df2 = full_df2[full_df2['quarter_order'] != 18]"
   ]
  },
  {
   "cell_type": "markdown",
   "metadata": {},
   "source": [
    "## Create Point Data"
   ]
  },
  {
   "cell_type": "code",
   "execution_count": 235,
   "metadata": {
    "collapsed": false
   },
   "outputs": [],
   "source": [
    "crs = {'init' :'epsg:4326'}\n",
    "geometry = [Point(xy) for xy in zip(full_df2.lon, full_df2.lat)]\n",
    "construction = GeoDataFrame(full_df2, crs=crs, geometry=geometry)\n",
    "#construction.plot();"
   ]
  },
  {
   "cell_type": "markdown",
   "metadata": {},
   "source": [
    "## Import Zillow Neighborhood Boundaries"
   ]
  },
  {
   "cell_type": "code",
   "execution_count": 236,
   "metadata": {
    "collapsed": false
   },
   "outputs": [],
   "source": [
    "root = '/Users/briangoggin/Dropbox/CP 255/SF Development Project/Raw Data'\n",
    "boundaries = gpd.read_file(root+'/ZillowNeighborhoods-CA/ZillowNeighborhoods-CA.shp')"
   ]
  },
  {
   "cell_type": "code",
   "execution_count": 237,
   "metadata": {
    "collapsed": false
   },
   "outputs": [],
   "source": [
    "boundaries = boundaries[boundaries['COUNTY']=='San Francisco'] #keep only SF neighborhoods\n",
    "#boundaries.plot();"
   ]
  },
  {
   "cell_type": "code",
   "execution_count": 238,
   "metadata": {
    "collapsed": false
   },
   "outputs": [],
   "source": [
    "#set boundaries into same geographic coordinate system as points\n",
    "boundaries.crs = {'init' :'epsg:4326'}"
   ]
  },
  {
   "cell_type": "markdown",
   "metadata": {},
   "source": [
    "## Combine Layers"
   ]
  },
  {
   "cell_type": "code",
   "execution_count": 239,
   "metadata": {
    "collapsed": true
   },
   "outputs": [],
   "source": [
    "#First, spatial join between points and neighborhood boundaries. Set 'how' to 'right' to preserve polygon geometries.\n",
    "nbcum = gpd.sjoin(construction, boundaries, how = 'right', op='within')"
   ]
  },
  {
   "cell_type": "code",
   "execution_count": 240,
   "metadata": {
    "collapsed": false
   },
   "outputs": [],
   "source": [
    "#Next, dissolve by neighborhoods to get sum of units\n",
    "nbcum['REGIONID'] = nbcum['REGIONID'].astype(int)\n",
    "nbcum = nbcum[['NAME','REGIONID', 'geometry', 'net_units', 'net_affordable_units']]\n",
    "nb_map = nbcum.dissolve(by=['NAME', 'REGIONID'], aggfunc='sum')\n",
    "\n",
    "nb_map['net_units'].fillna(0, inplace = True)\n",
    "nb_map['net_affordable_units'].fillna(0, inplace = True)\n",
    "\n",
    "nb_map['net_units'] = nb_map['net_units'].astype(int)\n",
    "nb_map['net_affordable_units'] = nb_map['net_affordable_units'].astype(int)\n",
    "\n",
    "nb_map['index'] = nb_map.index\n",
    "nb_map['name'] = nb_map['index'].astype(str).str.split(',').str[0].str.strip('(').str.replace(\"'\", '')\n",
    "nb_map['RegionID'] = nb_map['index'].astype(str).str.split(',').str[1].str.strip(')')\n",
    "nb_map.drop('index', axis = 1, inplace = True)\n",
    "#nb_map.head(20)"
   ]
  },
  {
   "cell_type": "code",
   "execution_count": 241,
   "metadata": {
    "collapsed": true
   },
   "outputs": [],
   "source": [
    "#Define function to create categories for javascript maps. Each category will be separate dot color\n",
    "def cats(value):\n",
    "    if (value['net_units'] >=0) & (value['net_units']<=50): \n",
    "        field = 0\n",
    "        \n",
    "    elif (value['net_units'] >=51) & (value['net_units']<=200):\n",
    "        field = 1\n",
    "        \n",
    "    elif (value['net_units'] >=201) & (value['net_units']<=500):\n",
    "        field = 2\n",
    "        \n",
    "    elif (value['net_units'] >=501) & (value['net_units']<=2000):\n",
    "        field = 3\n",
    "    else: \n",
    "        field = 4\n",
    "        \n",
    "    return field\n",
    "\n",
    "\n",
    "nb_map['unitcat'] = nb_map.apply(cats, axis = 1)"
   ]
  },
  {
   "cell_type": "code",
   "execution_count": 242,
   "metadata": {
    "collapsed": true
   },
   "outputs": [],
   "source": [
    "#make variables into a string with commas before export\n",
    "nb_map['net_units'] = nb_map['net_units'].astype(int)\n",
    "nb_map['net_units'] = nb_map['net_units'].map(lambda x: '{:,}'.format(x), na_action='ignore')"
   ]
  },
  {
   "cell_type": "code",
   "execution_count": 243,
   "metadata": {
    "collapsed": false
   },
   "outputs": [],
   "source": [
    "#export to geojson object\n",
    "export_path = code_path\n",
    "with open(export_path+'/Neighborhood Maps/nb_recent.js', 'w') as f:\n",
    "    f.write('var dataset1 = {};'.format(nb_map.to_json()))"
   ]
  },
  {
   "cell_type": "code",
   "execution_count": 244,
   "metadata": {
    "collapsed": true
   },
   "outputs": [],
   "source": [
    "#export to csv for affordability analysis - Part of final CP 255 Project\n",
    "export_path = import_path\n",
    "nb_map.to_csv(import_path+'/completed.csv')"
   ]
  },
  {
   "cell_type": "code",
   "execution_count": 245,
   "metadata": {
    "collapsed": false
   },
   "outputs": [
    {
     "data": {
      "text/plain": [
       "'9303531302311,80323926613173569657071483278562126153614659201708,845138942,175'"
      ]
     },
     "execution_count": 245,
     "metadata": {},
     "output_type": "execute_result"
    }
   ],
   "source": [
    "nb_map['net_units'].sum()"
   ]
  },
  {
   "cell_type": "markdown",
   "metadata": {
    "collapsed": true
   },
   "source": [
    "# Section 2: Create polygons with currently proposed development only"
   ]
  },
  {
   "cell_type": "code",
   "execution_count": 246,
   "metadata": {
    "collapsed": true
   },
   "outputs": [],
   "source": [
    "#isolate currently proposed development\n",
    "current = full_df[full_df['quarter']=='Q4-2016']"
   ]
  },
  {
   "cell_type": "code",
   "execution_count": 247,
   "metadata": {
    "collapsed": true
   },
   "outputs": [],
   "source": [
    "#create geodataframe for current development\n",
    "crs = {'init' :'epsg:4326'}\n",
    "geometry = [Point(xy) for xy in zip(current.lon, current.lat)]\n",
    "current_geo = GeoDataFrame(current, crs=crs, geometry=geometry)"
   ]
  },
  {
   "cell_type": "code",
   "execution_count": 248,
   "metadata": {
    "collapsed": true
   },
   "outputs": [],
   "source": [
    "#First, spatial join between points and neighborhood boundaries. Set 'how' to 'right' to preserve polygon geometries.\n",
    "final_geo = gpd.sjoin(current_geo, boundaries, how = 'right', op='within')"
   ]
  },
  {
   "cell_type": "code",
   "execution_count": 249,
   "metadata": {
    "collapsed": true
   },
   "outputs": [],
   "source": [
    "#Next, dissolve by neighborhoods to get sum of units\n",
    "final_geo['REGIONID'] = final_geo['REGIONID'].astype(int)\n",
    "final_geo = final_geo[['NAME','REGIONID', 'geometry', 'net_units', 'net_affordable_units']]\n",
    "final_geo = final_geo.dissolve(by=['NAME', 'REGIONID'], aggfunc='sum')\n",
    "\n",
    "final_geo['net_units'].fillna(0, inplace = True)\n",
    "final_geo['net_affordable_units'].fillna(0, inplace = True)\n",
    "final_geo['net_units'] = final_geo['net_units'].astype(int)\n",
    "final_geo['net_affordable_units'] = final_geo['net_affordable_units'].astype(int)\n",
    "\n",
    "final_geo['index'] = final_geo.index\n",
    "final_geo['name'] = final_geo['index'].astype(str).str.split(',').str[0].str.strip('(').str.replace(\"'\", '')\n",
    "final_geo['RegionID'] = final_geo['index'].astype(str).str.split(',').str[1].str.strip(')')\n",
    "final_geo.drop('index', axis = 1, inplace = True)"
   ]
  },
  {
   "cell_type": "code",
   "execution_count": 250,
   "metadata": {
    "collapsed": true
   },
   "outputs": [],
   "source": [
    "#Define function to create categories for javascript maps. Each category will be separate dot color\n",
    "def cats(value):\n",
    "    if (value['net_units'] >=0) & (value['net_units']<=50): \n",
    "        field = 0\n",
    "        \n",
    "    elif (value['net_units'] >=51) & (value['net_units']<=200):\n",
    "        field = 1\n",
    "        \n",
    "    elif (value['net_units'] >=201) & (value['net_units']<=500):\n",
    "        field = 2\n",
    "        \n",
    "    elif (value['net_units'] >=501) & (value['net_units']<=2000):\n",
    "        field = 3\n",
    "    else: \n",
    "        field = 4\n",
    "        \n",
    "    return field\n",
    "\n",
    "\n",
    "final_geo['unitcat'] = final_geo.apply(cats, axis = 1)"
   ]
  },
  {
   "cell_type": "code",
   "execution_count": 251,
   "metadata": {
    "collapsed": true
   },
   "outputs": [],
   "source": [
    "#make variables into a string with commas before export\n",
    "final_geo['net_units'] = final_geo['net_units'].astype(int)\n",
    "final_geo['net_units'] = final_geo['net_units'].map(lambda x: '{:,}'.format(x), na_action='ignore')"
   ]
  },
  {
   "cell_type": "code",
   "execution_count": 252,
   "metadata": {
    "collapsed": true
   },
   "outputs": [],
   "source": [
    "#export to geojson object\n",
    "export_path = code_path\n",
    "with open(export_path+'/Neighborhood Maps/nb_current.js', 'w') as f:\n",
    "    f.write('var dataset2 = {};'.format(final_geo.to_json()))"
   ]
  },
  {
   "cell_type": "markdown",
   "metadata": {
    "collapsed": true
   },
   "source": [
    "# Section 3. Create Polygons with Non-residential development - recently completed"
   ]
  },
  {
   "cell_type": "code",
   "execution_count": 253,
   "metadata": {
    "collapsed": true
   },
   "outputs": [],
   "source": [
    "#import commercial development data\n",
    "nr_df = pd.read_csv(import_path+\"/pipeline_com.csv\")"
   ]
  },
  {
   "cell_type": "code",
   "execution_count": 254,
   "metadata": {
    "collapsed": true
   },
   "outputs": [],
   "source": [
    "#some initial cleaning\n",
    "vars = ['comm_sqft', 'comm_sqft_net']\n",
    "#do some initial data cleaning\n",
    "for item in vars:\n",
    "    nr_df[item] = nr_df[item].fillna(0)"
   ]
  },
  {
   "cell_type": "code",
   "execution_count": 255,
   "metadata": {
    "collapsed": false
   },
   "outputs": [],
   "source": [
    "#create dataframe for construction ending over time. This is a method to identify where construction ended,\n",
    "#at which point the data drops out of the pipeline\n",
    "cons_end_nr = nr_df[nr_df['status'] == \"CONSTRUCTION\"].groupby(['lot_number'], as_index=False)['quarter_order'].max()\n",
    "cons_end_nr.rename(columns = {'quarter_order': 'consdate'}, inplace = True)\n",
    "#merge data together to identify quarter that projects were built\n",
    "nr_df2 = nr_df.merge(cons_end_nr, on = 'lot_number', how = \"outer\")\n",
    "nr_df2 = nr_df2[nr_df2['consdate'] == nr_df2['quarter_order']]\n",
    "nr_df2 = nr_df2[nr_df2['quarter_order'] != 18]"
   ]
  },
  {
   "cell_type": "code",
   "execution_count": 256,
   "metadata": {
    "collapsed": false
   },
   "outputs": [],
   "source": [
    "#create geodataframe for current development\n",
    "crs = {'init' :'epsg:4326'}\n",
    "geometry = [Point(xy) for xy in zip(nr_df2.lon, nr_df2.lat)]\n",
    "nr_geo = GeoDataFrame(nr_df2, crs=crs, geometry=geometry)"
   ]
  },
  {
   "cell_type": "code",
   "execution_count": 257,
   "metadata": {
    "collapsed": true
   },
   "outputs": [],
   "source": [
    "#First, spatial join between points and neighborhood boundaries. Set 'how' to 'right' to preserve polygon geometries.\n",
    "final_geo = gpd.sjoin(nr_geo, boundaries, how = 'right', op='within')"
   ]
  },
  {
   "cell_type": "code",
   "execution_count": 258,
   "metadata": {
    "collapsed": true
   },
   "outputs": [],
   "source": [
    "#Next, dissolve by neighborhoods to get sum of units\n",
    "final_geo['REGIONID'] = final_geo['REGIONID'].astype(int)\n",
    "final_geo = final_geo[['NAME','REGIONID', 'geometry', 'comm_sqft_net', 'comm_sqft']]\n",
    "final_geo = final_geo.dissolve(by=['NAME', 'REGIONID'], aggfunc='sum')\n",
    "\n",
    "final_geo['comm_sqft_net'].fillna(0, inplace = True)\n",
    "final_geo['comm_sqft'].fillna(0, inplace = True)\n",
    "final_geo['comm_sqft_net'] = final_geo['comm_sqft_net'].astype(int)\n",
    "final_geo['comm_sqft'] = final_geo['comm_sqft'].astype(int)\n",
    "\n",
    "final_geo['index'] = final_geo.index\n",
    "final_geo['name'] = final_geo['index'].astype(str).str.split(',').str[0].str.strip('(').str.replace(\"'\", '')\n",
    "final_geo['RegionID'] = final_geo['index'].astype(str).str.split(',').str[1].str.strip(')')\n",
    "final_geo.drop('index', axis = 1, inplace = True)"
   ]
  },
  {
   "cell_type": "code",
   "execution_count": 259,
   "metadata": {
    "collapsed": false
   },
   "outputs": [
    {
     "data": {
      "text/plain": [
       "count        34.00\n",
       "mean     131730.71\n",
       "std      414654.51\n",
       "min      -34895.00\n",
       "5%       -12289.55\n",
       "10%       -4236.50\n",
       "20%        -152.00\n",
       "30%           0.00\n",
       "40%           0.00\n",
       "50%           0.00\n",
       "60%        1598.20\n",
       "70%        4026.80\n",
       "80%        8979.20\n",
       "90%      268676.50\n",
       "95%      994280.40\n",
       "max     1720114.00\n",
       "Name: comm_sqft_net, dtype: float64"
      ]
     },
     "execution_count": 259,
     "metadata": {},
     "output_type": "execute_result"
    }
   ],
   "source": [
    "final_geo['comm_sqft_net'].describe(percentiles = [.05, .1, .2, .3, .4, .5, .6, .7, .8, .9, .95])"
   ]
  },
  {
   "cell_type": "code",
   "execution_count": 260,
   "metadata": {
    "collapsed": true
   },
   "outputs": [],
   "source": [
    "#Define function to create categories for javascript maps. Each category will be separate dot color\n",
    "def cats(value):\n",
    "    if value['comm_sqft_net'] < -5000: \n",
    "        field = 0\n",
    "        \n",
    "    elif (value['comm_sqft_net'] >= -5000) & (value['comm_sqft_net']< 0):\n",
    "        field = 1\n",
    "        \n",
    "    elif (value['comm_sqft_net'] >= 0) & (value['comm_sqft_net'] <= 5000):\n",
    "        field = 2\n",
    "        \n",
    "    elif (value['comm_sqft_net'] >= 5001) & (value['comm_sqft_net'] <= 10000):\n",
    "        field = 3\n",
    "        \n",
    "    elif (value['comm_sqft_net'] >=10001) & (value['comm_sqft_net'] <= 50000):\n",
    "        field = 4  \n",
    "        \n",
    "    else: \n",
    "        field = 5\n",
    "        \n",
    "    return field\n",
    "\n",
    "\n",
    "final_geo['unitcat'] = final_geo.apply(cats, axis = 1)"
   ]
  },
  {
   "cell_type": "code",
   "execution_count": 261,
   "metadata": {
    "collapsed": true
   },
   "outputs": [],
   "source": [
    "#make variables into a string with commas before export\n",
    "final_geo['comm_sqft_net'] = final_geo['comm_sqft_net'].astype(int)\n",
    "final_geo['comm_sqft_net'] = final_geo['comm_sqft_net'].map(lambda x: '{:,}'.format(x), na_action='ignore')"
   ]
  },
  {
   "cell_type": "code",
   "execution_count": 262,
   "metadata": {
    "collapsed": true
   },
   "outputs": [],
   "source": [
    "#export to geojson object\n",
    "export_path = code_path\n",
    "with open(export_path+'/Neighborhood Maps/nb_comm.js', 'w') as f:\n",
    "    f.write('var dataset3 = {};'.format(final_geo.to_json()))"
   ]
  },
  {
   "cell_type": "markdown",
   "metadata": {},
   "source": [
    "# Section 4. Create Polygons with Non-residential development -currently proposed"
   ]
  },
  {
   "cell_type": "code",
   "execution_count": 263,
   "metadata": {
    "collapsed": true
   },
   "outputs": [],
   "source": [
    "#isolate currently proposed development\n",
    "current = nr_df[nr_df['quarter']=='Q4-2016']"
   ]
  },
  {
   "cell_type": "code",
   "execution_count": 264,
   "metadata": {
    "collapsed": false
   },
   "outputs": [],
   "source": [
    "#create geodataframe for current development\n",
    "crs = {'init' :'epsg:4326'}\n",
    "geometry = [Point(xy) for xy in zip(current.lon, current.lat)]\n",
    "current_geo = GeoDataFrame(current, crs=crs, geometry=geometry)"
   ]
  },
  {
   "cell_type": "code",
   "execution_count": 265,
   "metadata": {
    "collapsed": true
   },
   "outputs": [],
   "source": [
    "#First, spatial join between points and neighborhood boundaries. Set 'how' to 'right' to preserve polygon geometries.\n",
    "final_geo = gpd.sjoin(current_geo, boundaries, how = 'right', op='within')"
   ]
  },
  {
   "cell_type": "code",
   "execution_count": 266,
   "metadata": {
    "collapsed": true
   },
   "outputs": [],
   "source": [
    "#Next, dissolve by neighborhoods to get sum of units\n",
    "final_geo['REGIONID'] = final_geo['REGIONID'].astype(int)\n",
    "final_geo = final_geo[['NAME','REGIONID', 'geometry', 'comm_sqft_net', 'comm_sqft']]\n",
    "final_geo = final_geo.dissolve(by=['NAME', 'REGIONID'], aggfunc='sum')\n",
    "\n",
    "final_geo['comm_sqft_net'].fillna(0, inplace = True)\n",
    "final_geo['comm_sqft'].fillna(0, inplace = True)\n",
    "final_geo['comm_sqft_net'] = final_geo['comm_sqft_net'].astype(int)\n",
    "final_geo['comm_sqft'] = final_geo['comm_sqft'].astype(int)\n",
    "\n",
    "final_geo['index'] = final_geo.index\n",
    "final_geo['name'] = final_geo['index'].astype(str).str.split(',').str[0].str.strip('(').str.replace(\"'\", '')\n",
    "final_geo['RegionID'] = final_geo['index'].astype(str).str.split(',').str[1].str.strip(')')\n",
    "final_geo.drop('index', axis = 1, inplace = True)"
   ]
  },
  {
   "cell_type": "code",
   "execution_count": 267,
   "metadata": {
    "collapsed": true
   },
   "outputs": [],
   "source": [
    "#Define function to create categories for javascript maps. Each category will be separate dot color\n",
    "def cats(value):\n",
    "    if value['comm_sqft_net'] < -5000: \n",
    "        field = 0\n",
    "        \n",
    "    elif (value['comm_sqft_net'] >= -5000) & (value['comm_sqft_net']< 0):\n",
    "        field = 1\n",
    "        \n",
    "    elif (value['comm_sqft_net'] >= 0) & (value['comm_sqft_net'] <= 5000):\n",
    "        field = 2\n",
    "        \n",
    "    elif (value['comm_sqft_net'] >= 5001) & (value['comm_sqft_net'] <= 10000):\n",
    "        field = 3\n",
    "        \n",
    "    elif (value['comm_sqft_net'] >=10001) & (value['comm_sqft_net'] <= 50000):\n",
    "        field = 4  \n",
    "        \n",
    "    else: \n",
    "        field = 5\n",
    "        \n",
    "    return field\n",
    "\n",
    "\n",
    "final_geo['unitcat'] = final_geo.apply(cats, axis = 1)"
   ]
  },
  {
   "cell_type": "code",
   "execution_count": 268,
   "metadata": {
    "collapsed": true
   },
   "outputs": [],
   "source": [
    "#make variables into a string with commas before export\n",
    "final_geo['comm_sqft_net'] = final_geo['comm_sqft_net'].astype(int)\n",
    "final_geo['comm_sqft_net'] = final_geo['comm_sqft_net'].map(lambda x: '{:,}'.format(x), na_action='ignore')"
   ]
  },
  {
   "cell_type": "code",
   "execution_count": 269,
   "metadata": {
    "collapsed": true
   },
   "outputs": [],
   "source": [
    "#export to geojson object\n",
    "export_path = code_path\n",
    "with open(export_path+'/Neighborhood Maps/nb_comm_curr.js', 'w') as f:\n",
    "    f.write('var dataset4 = {};'.format(final_geo.to_json()))"
   ]
  }
 ],
 "metadata": {
  "anaconda-cloud": {},
  "kernelspec": {
   "display_name": "Python [Root]",
   "language": "python",
   "name": "Python [Root]"
  },
  "language_info": {
   "codemirror_mode": {
    "name": "ipython",
    "version": 3
   },
   "file_extension": ".py",
   "mimetype": "text/x-python",
   "name": "python",
   "nbconvert_exporter": "python",
   "pygments_lexer": "ipython3",
   "version": "3.5.2"
  }
 },
 "nbformat": 4,
 "nbformat_minor": 0
}
