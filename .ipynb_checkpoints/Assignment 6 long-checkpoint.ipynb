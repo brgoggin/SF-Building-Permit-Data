{
 "cells": [
  {
   "cell_type": "markdown",
   "metadata": {},
   "source": [
    "# Assignment 6\n",
    "Brian Goggin"
   ]
  },
  {
   "cell_type": "code",
   "execution_count": 2,
   "metadata": {
    "collapsed": true
   },
   "outputs": [],
   "source": [
    "#import packages\n",
    "import pandas as pd\n",
    "import matplotlib as mpl\n",
    "import matplotlib.pyplot as plt\n",
    "import numpy as np\n",
    "import re as re\n",
    "import json    # library for working with JSON-formatted text strings\n",
    "import requests  # library for accessing content from web URLs\n",
    "import pprint  # library for making Python data structures readable\n",
    "pp = pprint.PrettyPrinter()\n"
   ]
  },
  {
   "cell_type": "code",
   "execution_count": 2,
   "metadata": {
    "collapsed": false
   },
   "outputs": [],
   "source": [
    "############################\n",
    "## Quarter 2 2016\n",
    "############################\n",
    "\n",
    "# Call to the SF Open data API to grab json object from server\n",
    "Q22016 = 'https://data.sfgov.org/resource/3n2r-nn4r.json' #API endpoint for quarter 2 2016 development pipeline data\n",
    "response = requests.get(Q22016)\n",
    "results = response.text #read the results from the server into a string\n"
   ]
  },
  {
   "cell_type": "code",
   "execution_count": 3,
   "metadata": {
    "collapsed": false
   },
   "outputs": [
    {
     "name": "stdout",
     "output_type": "stream",
     "text": [
      "<class 'list'>\n"
     ]
    }
   ],
   "source": [
    "# parse the string into a Python object\n",
    "data = json.loads(results)\n",
    "print (type(data))"
   ]
  },
  {
   "cell_type": "markdown",
   "metadata": {},
   "source": [
    "Note that the data is already in a list with each element corresponding to a dictionary with the attributes of a single development."
   ]
  },
  {
   "cell_type": "code",
   "execution_count": null,
   "metadata": {
    "collapsed": false
   },
   "outputs": [],
   "source": [
    "pp.pprint(data[0])"
   ]
  },
  {
   "cell_type": "code",
   "execution_count": 25,
   "metadata": {
    "collapsed": true
   },
   "outputs": [],
   "source": [
    "d = {'lot_number': [d['apn'] for d in data],\n",
    "    'status': [d['beststat'] for d in data],\n",
    "    'latest_date': [d['bestdate'] for d in data], \n",
    "    'units': [d['units'] for d in data], \n",
    "    'net_units': [d['unitsnet'] for d in data], \n",
    "    'affordable_units': [d['aff'] for d in data],\n",
    "    'net_affordable_units': [d['affnet'] for d in data],\n",
    "    'coordinates': [d['location']['coordinates'] for d in data], \n",
    "    'address': [d['nameaddr'] for d in data]}\n"
   ]
  },
  {
   "cell_type": "code",
   "execution_count": null,
   "metadata": {
    "collapsed": true
   },
   "outputs": [],
   "source": [
    "#Some of the keys do not exist for all elements of the list (i.e. observations from the API endpoint)\n",
    "# Therefore, we have to conditionally loop over these special cases to replace them with nans\n",
    "\n",
    "#First, make a list to contain the zoning codes with nans where they are missing\n",
    "zones = []\n",
    "\n",
    "for item in data: \n",
    "    if 'zoning_sim' in item.keys():\n",
    "        zones.append(item['zoning_sim'])\n",
    "    else:\n",
    "        zones.append(np.nan)\n",
    "        \n",
    "#next, make this list a key of the previous dictionary\n",
    "d['zoning'] = zones"
   ]
  },
  {
   "cell_type": "code",
   "execution_count": null,
   "metadata": {
    "collapsed": false
   },
   "outputs": [],
   "source": [
    "#Construction code to check if key exists for all observations\n",
    "\n",
    "i = 1\n",
    "\n",
    "for d in data:\n",
    "\n",
    "    if 'dbi_desc' in d.keys():\n",
    "        i = 1 + i\n",
    "    \n",
    "    else: \n",
    "        print (\"stopped at\", i)"
   ]
  },
  {
   "cell_type": "code",
   "execution_count": null,
   "metadata": {
    "collapsed": false
   },
   "outputs": [],
   "source": [
    "df = pd.DataFrame.from_dict(d)\n",
    "df.head(20)"
   ]
  },
  {
   "cell_type": "code",
   "execution_count": 26,
   "metadata": {
    "collapsed": false
   },
   "outputs": [
    {
     "name": "stdout",
     "output_type": "stream",
     "text": [
      "<class 'list'>\n"
     ]
    }
   ],
   "source": [
    "############################\n",
    "## Quarter 1 2016\n",
    "############################\n",
    "\n",
    "\n",
    "Q12016 = \"https://data.sfgov.org/resource/6iid-qfaz.json\"\n",
    "response = requests.get(Q12016)\n",
    "results = response.text #read the results from the server into a string\n",
    "# parse the string into a Python object\n",
    "data = json.loads(results)\n",
    "print (type(data))\n"
   ]
  },
  {
   "cell_type": "code",
   "execution_count": null,
   "metadata": {
    "collapsed": false
   },
   "outputs": [],
   "source": [
    "pp.pprint(data[0])"
   ]
  },
  {
   "cell_type": "code",
   "execution_count": 31,
   "metadata": {
    "collapsed": false
   },
   "outputs": [],
   "source": [
    "d = {}\n",
    "\n",
    "def includekey(field):\n",
    "    list = []\n",
    "    for item in data: \n",
    "        if field in item.keys():\n",
    "            list.append(item[field])\n",
    "        else:\n",
    "            list.append(np.nan)\n",
    "    return list\n",
    "\n",
    "def include_coor_key(field1, field2):\n",
    "    list = []\n",
    "    for item in data: \n",
    "        if field1 in item.keys():\n",
    "            list.append(item[field1][field2])\n",
    "        else:\n",
    "            list.append(np.nan)\n",
    "    return list\n",
    "        \n",
    "d['lot_number'] = includekey('apn')\n",
    "d['address'] = includekey('nameaddr')\n",
    "d['status'] = includekey('beststat')\n",
    "d['latest_date'] = includekey('bestdate')\n",
    "d['units'] = includekey('units')\n",
    "d['net_units'] = includekey('unitsnet')\n",
    "d['affordable_units'] = includekey('affordable')\n",
    "d['net_affordable_units'] = includekey('affordable_net')\n",
    "d['zone'] = includekey('zoning')\n",
    "d['lat_lon'] = include_coor_key('location', 'coordinates')\n"
   ]
  },
  {
   "cell_type": "code",
   "execution_count": null,
   "metadata": {
    "collapsed": false
   },
   "outputs": [],
   "source": [
    "df = pd.DataFrame.from_dict(d)\n",
    "df.head(20)"
   ]
  },
  {
   "cell_type": "code",
   "execution_count": 3,
   "metadata": {
    "collapsed": false
   },
   "outputs": [
    {
     "name": "stdout",
     "output_type": "stream",
     "text": [
      "<class 'list'>\n"
     ]
    }
   ],
   "source": [
    "############################\n",
    "## Quarter 4 2015\n",
    "############################\n",
    "\n",
    "Q42015 = \"https://data.sfgov.org/resource/6jnk-ty34.json\"\n",
    "response = requests.get(Q42015)\n",
    "results = response.text #read the results from the server into a string\n",
    "# parse the string into a Python object\n",
    "data = json.loads(results)\n",
    "print (type(data))"
   ]
  },
  {
   "cell_type": "code",
   "execution_count": null,
   "metadata": {
    "collapsed": true
   },
   "outputs": [],
   "source": [
    "##########################################################################\n",
    "#####################################\n",
    "##Construction Zone\n",
    "#####################################\n",
    "##########################################################################"
   ]
  },
  {
   "cell_type": "code",
   "execution_count": 23,
   "metadata": {
    "collapsed": false
   },
   "outputs": [
    {
     "name": "stdout",
     "output_type": "stream",
     "text": [
      "{'affordab_1': '0',\n",
      " 'affordable': '0',\n",
      " 'apn': 'APN ',\n",
      " 'bestdate': '2015-10-26T00:00:00.000',\n",
      " 'beststat': 'PL FILED',\n",
      " 'caseno': '2015-014275PRJ',\n",
      " 'cie': '0',\n",
      " 'cienet': '0',\n",
      " 'descript': 'Proposed replacement of residential hotel rooms at six mixed '\n",
      "             'tourist/residential hotels through out the city with group '\n",
      "             'housing rooms to be constructed at 361 Turk St. & 145 '\n",
      "             'Leavenworth St. Conversion of 226 formerly-designated '\n",
      "             'residential hotel rooms at',\n",
      " 'entitled': '0',\n",
      " 'firstfiled': '2015-10-26T00:00:00.000',\n",
      " 'landuse': 'Visitor',\n",
      " 'med': '0',\n",
      " 'mednet': '0',\n",
      " 'mips': '0',\n",
      " 'mipsnet': '0',\n",
      " 'nameaddr': 'Tourist/Residential Hotel Conversion Project',\n",
      " 'net_gsf': '0',\n",
      " 'pdr': '0',\n",
      " 'pdrnet': '0',\n",
      " 'ret': '0',\n",
      " 'retnet': '0',\n",
      " 'source': 'CASE TRACKING',\n",
      " 'total_gsf': '0',\n",
      " 'units': '0',\n",
      " 'unitsnet': '0',\n",
      " 'visit': '0',\n",
      " 'visitnet': '0'}\n"
     ]
    }
   ],
   "source": [
    "pp.pprint(data[2])"
   ]
  },
  {
   "cell_type": "code",
   "execution_count": 7,
   "metadata": {
    "collapsed": false
   },
   "outputs": [
    {
     "name": "stdout",
     "output_type": "stream",
     "text": [
      "not in 3\n"
     ]
    }
   ],
   "source": [
    "#Construction code to check if key exists for all observations\n",
    "\n",
    "i = 1\n",
    "\n",
    "for d in data:\n",
    "\n",
    "    if 'geography' in d.keys():\n",
    "        i = 1 + i\n",
    "    else: \n",
    "        print (\"not in\", i)"
   ]
  },
  {
   "cell_type": "code",
   "execution_count": 26,
   "metadata": {
    "collapsed": false
   },
   "outputs": [
    {
     "data": {
      "text/plain": [
       "[{'coordinates': [-122.440615, 37.755505], 'type': 'Point'},\n",
       " {'coordinates': [-122.421344, 37.741582], 'type': 'Point'},\n",
       " nan,\n",
       " {'coordinates': [-122.424673, 37.771261], 'type': 'Point'},\n",
       " {'coordinates': [-122.46924, 37.720632], 'type': 'Point'}]"
      ]
     },
     "execution_count": 26,
     "metadata": {},
     "output_type": "execute_result"
    }
   ],
   "source": [
    "def includekey(field):\n",
    "    list = []\n",
    "    for item in data: \n",
    "        if field in item.keys():\n",
    "            list.append(item[field])\n",
    "        else:\n",
    "            list.append(np.nan)\n",
    "    return list\n",
    "\n",
    "listone = includekey('geography')\n",
    "\n",
    "for position, item in enumerate(listone):\n",
    "    if item == np.nan:\n",
    "        print (position)\n",
    "        \n",
    "listone[:5]"
   ]
  },
  {
   "cell_type": "code",
   "execution_count": 28,
   "metadata": {
    "collapsed": false
   },
   "outputs": [
    {
     "data": {
      "text/plain": [
       "[[-122.440615, 37.755505],\n",
       " [-122.421344, 37.741582],\n",
       " nan,\n",
       " [-122.424673, 37.771261],\n",
       " [-122.46924, 37.720632]]"
      ]
     },
     "execution_count": 28,
     "metadata": {},
     "output_type": "execute_result"
    }
   ],
   "source": [
    "def include_coor_key(field1, field2):\n",
    "    list = []\n",
    "    for item in data: \n",
    "        if field1 in item.keys():\n",
    "            list.append(item[field1][field2])\n",
    "        else:\n",
    "            list.append(np.nan)\n",
    "    return list\n",
    "\n",
    "listone = include_coor_key('geography', 'coordinates')\n",
    "\n",
    "listone[:5]"
   ]
  },
  {
   "cell_type": "code",
   "execution_count": 33,
   "metadata": {
    "collapsed": true
   },
   "outputs": [],
   "source": [
    "def importdata(quarter, geogfield1, geogfield2):\n",
    "    \n",
    "\n",
    "    def include_coor_key(one, two):\n",
    "        list = []\n",
    "        for item in data: \n",
    "            if one in item.keys():\n",
    "                list.append(item[one][two])\n",
    "            else:\n",
    "                list.append(np.nan)\n",
    "        return list\n",
    "    \n",
    "    response = requests.get(quarter)\n",
    "    results = response.text\n",
    "    data = json.loads(results) #data is a list at this point\n",
    "    \n",
    "    #import fields\n",
    "    d = {}\n",
    "   \n",
    "    d['lat_lon'] = include_coor_key(geogfield1, geogfield2)\n",
    "    \n",
    "    df = pd.DataFrame.from_dict(d)\n",
    "    \n",
    "    return df"
   ]
  },
  {
   "cell_type": "code",
   "execution_count": 34,
   "metadata": {
    "collapsed": false
   },
   "outputs": [],
   "source": [
    "Q42015df = importdata(Q42015, 'geography', 'coordinates')"
   ]
  },
  {
   "cell_type": "code",
   "execution_count": 25,
   "metadata": {
    "collapsed": false
   },
   "outputs": [
    {
     "data": {
      "text/plain": [
       "True"
      ]
     },
     "execution_count": 25,
     "metadata": {},
     "output_type": "execute_result"
    }
   ],
   "source": [
    "'entitled' in data[2].keys()"
   ]
  },
  {
   "cell_type": "code",
   "execution_count": 21,
   "metadata": {
    "collapsed": false
   },
   "outputs": [
    {
     "name": "stdout",
     "output_type": "stream",
     "text": [
      "nan\n"
     ]
    }
   ],
   "source": [
    "print (np.nan)"
   ]
  },
  {
   "cell_type": "code",
   "execution_count": null,
   "metadata": {
    "collapsed": true
   },
   "outputs": [],
   "source": [
    "##########################################################################\n",
    "#####################################\n",
    "##End Construction Zone\n",
    "#####################################\n",
    "##########################################################################"
   ]
  },
  {
   "cell_type": "code",
   "execution_count": 8,
   "metadata": {
    "collapsed": true
   },
   "outputs": [],
   "source": [
    "d = {}\n",
    "\n",
    "def includekey(field):\n",
    "    list = []\n",
    "    for item in data: \n",
    "        if field in item.keys():\n",
    "            list.append(item[field])\n",
    "        else:\n",
    "            list.append(np.nan)\n",
    "    return list\n",
    "\n",
    "def include_coor_key(field1, field2):\n",
    "    list = []\n",
    "    for item in data: \n",
    "        if field1 in item.keys():\n",
    "            list.append(item[field1][field2])\n",
    "        else:\n",
    "            list.append(np.nan)\n",
    "    return list\n",
    "        \n",
    "d['lot_number'] = includekey('apn')\n",
    "d['address'] = includekey('nameaddr')\n",
    "d['status'] = includekey('beststat')\n",
    "d['latest_date'] = includekey('bestdate')\n",
    "d['units'] = includekey('units')\n",
    "d['net_units'] = includekey('unitsnet')\n",
    "d['affordable_units'] = includekey('affordable')\n",
    "d['net_affordable_units'] = includekey('affordab_1')\n",
    "d['zone'] = includekey('zoning_sim')\n",
    "d['lat_lon'] = include_coor_key('geography', 'coordinates')"
   ]
  },
  {
   "cell_type": "code",
   "execution_count": null,
   "metadata": {
    "collapsed": false
   },
   "outputs": [],
   "source": [
    "df = pd.DataFrame.from_dict(d)\n",
    "df.head(20)"
   ]
  },
  {
   "cell_type": "code",
   "execution_count": 36,
   "metadata": {
    "collapsed": true
   },
   "outputs": [],
   "source": [
    "def importdata(quarter, field1, field2, field3, field4, field5, field6, field7, field8, field9, geogfield1, geogfield2):\n",
    "    response = requests.get(quarter)\n",
    "    results = response.text\n",
    "    data = json.loads(results) #data is a list at this point\n",
    "    \n",
    "    #import fields\n",
    "    d = {}\n",
    "    d['lot_number'] = includekey(field1)\n",
    "    d['address'] = includekey(field2)\n",
    "    d['status'] = includekey(field3)\n",
    "    d['latest_date'] = includekey(field4)\n",
    "    d['units'] = includekey(field5)\n",
    "    d['net_units'] = includekey(field6)\n",
    "    d['affordable_units'] = includekey(field7)\n",
    "    d['net_affordable_units'] = includekey(field8)\n",
    "    d['zone'] = includekey(field9)\n",
    "    d['lat_lon'] = include_coor_key(geogfield1, geogfield2)\n",
    "    \n",
    "    df = pd.DataFrame.from_dict(d)\n",
    "    \n",
    "    return df"
   ]
  },
  {
   "cell_type": "code",
   "execution_count": 37,
   "metadata": {
    "collapsed": true
   },
   "outputs": [],
   "source": [
    "df1 = importdata(Q22016, 'apn', 'nameaddr', 'beststat', 'bestdate', 'units', 'unitsnet', 'aff', 'affnet', 'zoning_sim', 'location', 'coordinates')   \n",
    "    "
   ]
  },
  {
   "cell_type": "code",
   "execution_count": 38,
   "metadata": {
    "collapsed": false
   },
   "outputs": [
    {
     "data": {
      "text/html": [
       "<div>\n",
       "<table border=\"1\" class=\"dataframe\">\n",
       "  <thead>\n",
       "    <tr style=\"text-align: right;\">\n",
       "      <th></th>\n",
       "      <th>address</th>\n",
       "      <th>affordable_units</th>\n",
       "      <th>lat_lon</th>\n",
       "      <th>latest_date</th>\n",
       "      <th>lot_number</th>\n",
       "      <th>net_affordable_units</th>\n",
       "      <th>net_units</th>\n",
       "      <th>status</th>\n",
       "      <th>units</th>\n",
       "      <th>zone</th>\n",
       "    </tr>\n",
       "  </thead>\n",
       "  <tbody>\n",
       "    <tr>\n",
       "      <th>0</th>\n",
       "      <td>162 GRAND VIEW AV</td>\n",
       "      <td>NaN</td>\n",
       "      <td>NaN</td>\n",
       "      <td>2016-01-11T00:00:00.000</td>\n",
       "      <td>APN 2754052</td>\n",
       "      <td>NaN</td>\n",
       "      <td>2</td>\n",
       "      <td>BP APPROVED</td>\n",
       "      <td>2</td>\n",
       "      <td>RH-2</td>\n",
       "    </tr>\n",
       "    <tr>\n",
       "      <th>1</th>\n",
       "      <td>322 COLERIDGE ST</td>\n",
       "      <td>NaN</td>\n",
       "      <td>NaN</td>\n",
       "      <td>2015-06-29T00:00:00.000</td>\n",
       "      <td>APN 5673003</td>\n",
       "      <td>NaN</td>\n",
       "      <td>1</td>\n",
       "      <td>BP ISSUED</td>\n",
       "      <td>3</td>\n",
       "      <td>RH-2</td>\n",
       "    </tr>\n",
       "    <tr>\n",
       "      <th>2</th>\n",
       "      <td>Tourist/Residential Hotel Conversion Project</td>\n",
       "      <td>NaN</td>\n",
       "      <td>NaN</td>\n",
       "      <td>2015-10-26T00:00:00.000</td>\n",
       "      <td>APN</td>\n",
       "      <td>NaN</td>\n",
       "      <td>0</td>\n",
       "      <td>PL FILED</td>\n",
       "      <td>0</td>\n",
       "      <td>NaN</td>\n",
       "    </tr>\n",
       "    <tr>\n",
       "      <th>3</th>\n",
       "      <td>1870 MARKET ST</td>\n",
       "      <td>NaN</td>\n",
       "      <td>NaN</td>\n",
       "      <td>2015-05-01T00:00:00.000</td>\n",
       "      <td>APN 0871004</td>\n",
       "      <td>NaN</td>\n",
       "      <td>9</td>\n",
       "      <td>BP FILED</td>\n",
       "      <td>9</td>\n",
       "      <td>NCT-3</td>\n",
       "    </tr>\n",
       "    <tr>\n",
       "      <th>4</th>\n",
       "      <td>453 RALSTON ST</td>\n",
       "      <td>NaN</td>\n",
       "      <td>NaN</td>\n",
       "      <td>2015-12-17T00:00:00.000</td>\n",
       "      <td>APN 6996010</td>\n",
       "      <td>NaN</td>\n",
       "      <td>1</td>\n",
       "      <td>BP FILED</td>\n",
       "      <td>2</td>\n",
       "      <td>RH-1</td>\n",
       "    </tr>\n",
       "    <tr>\n",
       "      <th>5</th>\n",
       "      <td>851 46TH AV</td>\n",
       "      <td>NaN</td>\n",
       "      <td>NaN</td>\n",
       "      <td>2015-05-22T00:00:00.000</td>\n",
       "      <td>APN 1689013</td>\n",
       "      <td>NaN</td>\n",
       "      <td>1</td>\n",
       "      <td>BP FILED</td>\n",
       "      <td>2</td>\n",
       "      <td>RH-2</td>\n",
       "    </tr>\n",
       "    <tr>\n",
       "      <th>6</th>\n",
       "      <td>2882 -  2890 GEARY BL</td>\n",
       "      <td>NaN</td>\n",
       "      <td>NaN</td>\n",
       "      <td>2014-02-05T00:00:00.000</td>\n",
       "      <td>APN 1069045</td>\n",
       "      <td>NaN</td>\n",
       "      <td>2</td>\n",
       "      <td>BP ISSUED</td>\n",
       "      <td>7</td>\n",
       "      <td>NC-3</td>\n",
       "    </tr>\n",
       "    <tr>\n",
       "      <th>7</th>\n",
       "      <td>301 25TH AV</td>\n",
       "      <td>NaN</td>\n",
       "      <td>NaN</td>\n",
       "      <td>2015-06-17T00:00:00.000</td>\n",
       "      <td>APN 1408001</td>\n",
       "      <td>NaN</td>\n",
       "      <td>9</td>\n",
       "      <td>PL FILED</td>\n",
       "      <td>9</td>\n",
       "      <td>NC-1</td>\n",
       "    </tr>\n",
       "    <tr>\n",
       "      <th>8</th>\n",
       "      <td>245 VALENCIA ST</td>\n",
       "      <td>NaN</td>\n",
       "      <td>NaN</td>\n",
       "      <td>2015-11-20T00:00:00.000</td>\n",
       "      <td>APN 3532091</td>\n",
       "      <td>NaN</td>\n",
       "      <td>0</td>\n",
       "      <td>CONSTRUCTION</td>\n",
       "      <td>0</td>\n",
       "      <td>NCT-3</td>\n",
       "    </tr>\n",
       "    <tr>\n",
       "      <th>9</th>\n",
       "      <td>1278 - 1298 VALENCIA ST</td>\n",
       "      <td>NaN</td>\n",
       "      <td>NaN</td>\n",
       "      <td>2015-02-19T00:00:00.000</td>\n",
       "      <td>APN 3644021</td>\n",
       "      <td>NaN</td>\n",
       "      <td>35</td>\n",
       "      <td>BP FILED</td>\n",
       "      <td>35</td>\n",
       "      <td>NCT</td>\n",
       "    </tr>\n",
       "  </tbody>\n",
       "</table>\n",
       "</div>"
      ],
      "text/plain": [
       "                                        address  affordable_units  lat_lon  \\\n",
       "0                             162 GRAND VIEW AV               NaN      NaN   \n",
       "1                              322 COLERIDGE ST               NaN      NaN   \n",
       "2  Tourist/Residential Hotel Conversion Project               NaN      NaN   \n",
       "3                                1870 MARKET ST               NaN      NaN   \n",
       "4                                453 RALSTON ST               NaN      NaN   \n",
       "5                                   851 46TH AV               NaN      NaN   \n",
       "6                         2882 -  2890 GEARY BL               NaN      NaN   \n",
       "7                                   301 25TH AV               NaN      NaN   \n",
       "8                               245 VALENCIA ST               NaN      NaN   \n",
       "9                       1278 - 1298 VALENCIA ST               NaN      NaN   \n",
       "\n",
       "               latest_date   lot_number  net_affordable_units net_units  \\\n",
       "0  2016-01-11T00:00:00.000  APN 2754052                   NaN         2   \n",
       "1  2015-06-29T00:00:00.000  APN 5673003                   NaN         1   \n",
       "2  2015-10-26T00:00:00.000         APN                    NaN         0   \n",
       "3  2015-05-01T00:00:00.000  APN 0871004                   NaN         9   \n",
       "4  2015-12-17T00:00:00.000  APN 6996010                   NaN         1   \n",
       "5  2015-05-22T00:00:00.000  APN 1689013                   NaN         1   \n",
       "6  2014-02-05T00:00:00.000  APN 1069045                   NaN         2   \n",
       "7  2015-06-17T00:00:00.000  APN 1408001                   NaN         9   \n",
       "8  2015-11-20T00:00:00.000  APN 3532091                   NaN         0   \n",
       "9  2015-02-19T00:00:00.000  APN 3644021                   NaN        35   \n",
       "\n",
       "         status units   zone  \n",
       "0   BP APPROVED     2   RH-2  \n",
       "1     BP ISSUED     3   RH-2  \n",
       "2      PL FILED     0    NaN  \n",
       "3      BP FILED     9  NCT-3  \n",
       "4      BP FILED     2   RH-1  \n",
       "5      BP FILED     2   RH-2  \n",
       "6     BP ISSUED     7   NC-3  \n",
       "7      PL FILED     9   NC-1  \n",
       "8  CONSTRUCTION     0  NCT-3  \n",
       "9      BP FILED    35    NCT  "
      ]
     },
     "execution_count": 38,
     "metadata": {},
     "output_type": "execute_result"
    }
   ],
   "source": [
    "df1.head(10)"
   ]
  },
  {
   "cell_type": "code",
   "execution_count": null,
   "metadata": {
    "collapsed": true
   },
   "outputs": [],
   "source": []
  }
 ],
 "metadata": {
  "anaconda-cloud": {},
  "kernelspec": {
   "display_name": "Python [Root]",
   "language": "python",
   "name": "Python [Root]"
  },
  "language_info": {
   "codemirror_mode": {
    "name": "ipython",
    "version": 3
   },
   "file_extension": ".py",
   "mimetype": "text/x-python",
   "name": "python",
   "nbconvert_exporter": "python",
   "pygments_lexer": "ipython3",
   "version": "3.5.2"
  }
 },
 "nbformat": 4,
 "nbformat_minor": 0
}
