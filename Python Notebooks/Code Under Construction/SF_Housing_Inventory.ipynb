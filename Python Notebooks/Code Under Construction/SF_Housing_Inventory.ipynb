{
 "cells": [
  {
   "cell_type": "code",
   "execution_count": 1,
   "metadata": {
    "collapsed": true
   },
   "outputs": [],
   "source": [
    "#import pandas\n",
    "import pandas as pd\n",
    "import matplotlib as mpl\n",
    "import matplotlib.pyplot as plt\n",
    "import numpy as np\n",
    "import re as re\n",
    "import os\n",
    "import requests  # library for accessing content from web URLs\n",
    "import pprint  # library for making Python data structures readable\n",
    "pp = pprint.PrettyPrinter()\n",
    "import json    # library for working with JSON-formatted text strings"
   ]
  },
  {
   "cell_type": "code",
   "execution_count": 2,
   "metadata": {
    "collapsed": false
   },
   "outputs": [],
   "source": [
    "#set directory for one file not available through API\n",
    "raw = '/Users/briangoggin/Dropbox/CP 255/Permit Project/Raw Data/'\n",
    "\n",
    "d2014 = 'https://data.sfgov.org/resource/b8d6-zthg.json'\n",
    "d2013 = 'https://data.sfgov.org/resource/sjse-8gyy.json'\n",
    "d2012 = 'https://data.sfgov.org/resource/a64c-96a5.json'\n",
    "d2011 = 'https://data.sfgov.org/resource/pwiv-ej3p.json'"
   ]
  },
  {
   "cell_type": "code",
   "execution_count": 3,
   "metadata": {
    "collapsed": true
   },
   "outputs": [],
   "source": [
    "#import 2015\n",
    "df15 = pd.read_excel(raw+'Housing Inventory/2015_datasf.xlsx', sheetname = '2015Completes')"
   ]
  },
  {
   "cell_type": "code",
   "execution_count": 4,
   "metadata": {
    "collapsed": true
   },
   "outputs": [],
   "source": [
    "#define function for importing other data\n",
    "\n",
    "def importdata(year, yearvalue, field1, field2, field3, field4, field5, field6, field7, field8, field9):\n",
    "    '''\n",
    "    This function calls the API endpoint quarter and returns a dataframe with the desired columns.\n",
    "    field1=geogfield2 represent the desired fields as they are named at the API endpoint\n",
    "    '''\n",
    "    \n",
    "    def includekey(field):\n",
    "        '''\n",
    "        This function takes a given field from the API endpoint and creates a list out of its entires.\n",
    "        '''\n",
    "        list = []\n",
    "        for item in data: \n",
    "            if field in item.keys():\n",
    "                list.append(item[field])\n",
    "            else:\n",
    "                list.append(np.nan)\n",
    "        return list\n",
    "    \n",
    "    response = requests.get(year)\n",
    "    results = response.text\n",
    "    data = json.loads(results) #data is a list at this point\n",
    "    \n",
    "    #import fields\n",
    "    d = {}\n",
    "    d['block'] = includekey(field1)\n",
    "    d['lot'] = includekey(field2)\n",
    "    d['address'] = includekey(field3)\n",
    "    d['status'] = includekey(field4)\n",
    "    d['latest_date'] = includekey(field5)\n",
    "    d['units'] = includekey(field6)\n",
    "    d['net_units'] = includekey(field7)\n",
    "    d['affordable_units'] = includekey(field8)\n",
    "    d['zone'] = includekey(field9)\n",
    "\n",
    "    df = pd.DataFrame.from_dict(d)\n",
    "    df['year'] = yearvalue\n",
    "    \n",
    "    return df"
   ]
  },
  {
   "cell_type": "code",
   "execution_count": 7,
   "metadata": {
    "collapsed": false
   },
   "outputs": [],
   "source": [
    "#import data\n",
    "df2014 = importdata(d2014, '2014', 'block', 'lot', 'stdadd', 'action', 'actdate', 'units', 'netunits', 'affhsg', 'zoning')\n",
    "df2013 = importdata(d2013, '2013', 'block', 'lot', 'standardaddress', 'change_type', 'actdate', 'units', 'netunits', 'aff_hsg', 'zoning')\n",
    "df2012 = importdata(d2012, '2012', 'block', 'lot', 'standardaddress', 'change_type', 'actdate', 'units', 'netunits', 'aff_hsg', 'zoning')\n",
    "df2011 = importdata(d2011, '2011', 'block', 'lot', 'standardad', 'change_type', 'actdate', 'units', 'netunits', 'affordable', 'zoning')\n"
   ]
  },
  {
   "cell_type": "code",
   "execution_count": 8,
   "metadata": {
    "collapsed": false
   },
   "outputs": [
    {
     "data": {
      "text/html": [
       "<div>\n",
       "<table border=\"1\" class=\"dataframe\">\n",
       "  <thead>\n",
       "    <tr style=\"text-align: right;\">\n",
       "      <th></th>\n",
       "      <th>address</th>\n",
       "      <th>affordable_units</th>\n",
       "      <th>block</th>\n",
       "      <th>latest_date</th>\n",
       "      <th>lot</th>\n",
       "      <th>net_units</th>\n",
       "      <th>status</th>\n",
       "      <th>units</th>\n",
       "      <th>zone</th>\n",
       "      <th>year</th>\n",
       "    </tr>\n",
       "  </thead>\n",
       "  <tbody>\n",
       "    <tr>\n",
       "      <th>0</th>\n",
       "      <td>365 FULTON ST</td>\n",
       "      <td>120</td>\n",
       "      <td>0792</td>\n",
       "      <td>NaN</td>\n",
       "      <td>028</td>\n",
       "      <td>120</td>\n",
       "      <td>NaN</td>\n",
       "      <td>120</td>\n",
       "      <td>NCT-3</td>\n",
       "      <td>2011</td>\n",
       "    </tr>\n",
       "    <tr>\n",
       "      <th>1</th>\n",
       "      <td>855 JAMESTOWN AV</td>\n",
       "      <td>NaN</td>\n",
       "      <td>4991</td>\n",
       "      <td>NaN</td>\n",
       "      <td>277</td>\n",
       "      <td>36</td>\n",
       "      <td>NaN</td>\n",
       "      <td>36</td>\n",
       "      <td>RH-2</td>\n",
       "      <td>2011</td>\n",
       "    </tr>\n",
       "    <tr>\n",
       "      <th>2</th>\n",
       "      <td>2139 OFARRELL ST</td>\n",
       "      <td>21</td>\n",
       "      <td>1101</td>\n",
       "      <td>NaN</td>\n",
       "      <td>022</td>\n",
       "      <td>21</td>\n",
       "      <td>NaN</td>\n",
       "      <td>21</td>\n",
       "      <td>RM-3</td>\n",
       "      <td>2011</td>\n",
       "    </tr>\n",
       "    <tr>\n",
       "      <th>3</th>\n",
       "      <td>420 29TH AV</td>\n",
       "      <td>20</td>\n",
       "      <td>1460</td>\n",
       "      <td>NaN</td>\n",
       "      <td>015</td>\n",
       "      <td>20</td>\n",
       "      <td>NaN</td>\n",
       "      <td>20</td>\n",
       "      <td>RH-2</td>\n",
       "      <td>2011</td>\n",
       "    </tr>\n",
       "    <tr>\n",
       "      <th>4</th>\n",
       "      <td>121 09TH ST</td>\n",
       "      <td>2</td>\n",
       "      <td>3728</td>\n",
       "      <td>NaN</td>\n",
       "      <td>069</td>\n",
       "      <td>20</td>\n",
       "      <td>NaN</td>\n",
       "      <td>20</td>\n",
       "      <td>SLR</td>\n",
       "      <td>2011</td>\n",
       "    </tr>\n",
       "  </tbody>\n",
       "</table>\n",
       "</div>"
      ],
      "text/plain": [
       "            address affordable_units block latest_date  lot net_units  status  \\\n",
       "0     365 FULTON ST              120  0792         NaN  028       120     NaN   \n",
       "1  855 JAMESTOWN AV              NaN  4991         NaN  277        36     NaN   \n",
       "2  2139 OFARRELL ST               21  1101         NaN  022        21     NaN   \n",
       "3       420 29TH AV               20  1460         NaN  015        20     NaN   \n",
       "4       121 09TH ST                2  3728         NaN  069        20     NaN   \n",
       "\n",
       "  units   zone  year  \n",
       "0   120  NCT-3  2011  \n",
       "1    36   RH-2  2011  \n",
       "2    21   RM-3  2011  \n",
       "3    20   RH-2  2011  \n",
       "4    20    SLR  2011  "
      ]
     },
     "execution_count": 8,
     "metadata": {},
     "output_type": "execute_result"
    }
   ],
   "source": [
    "df2011.head()"
   ]
  },
  {
   "cell_type": "code",
   "execution_count": null,
   "metadata": {
    "collapsed": true
   },
   "outputs": [],
   "source": [
    "#append data together\n",
    "years = [df2014, df2013, df2012, df2011]\n",
    "full_df = df2015.append(years)"
   ]
  }
 ],
 "metadata": {
  "kernelspec": {
   "display_name": "Python [Root]",
   "language": "python",
   "name": "Python [Root]"
  },
  "language_info": {
   "codemirror_mode": {
    "name": "ipython",
    "version": 3
   },
   "file_extension": ".py",
   "mimetype": "text/x-python",
   "name": "python",
   "nbconvert_exporter": "python",
   "pygments_lexer": "ipython3",
   "version": "3.5.2"
  }
 },
 "nbformat": 4,
 "nbformat_minor": 0
}
