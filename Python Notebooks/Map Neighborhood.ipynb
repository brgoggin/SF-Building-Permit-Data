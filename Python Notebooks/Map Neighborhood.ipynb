{
 "cells": [
  {
   "cell_type": "markdown",
   "metadata": {},
   "source": [
    "# Map Neighborhood\n",
    "In this notebook, I use the development pipeline data of SF development in order to create an online map of residential construction by Zillow neighborhood. \n"
   ]
  },
  {
   "cell_type": "code",
   "execution_count": 108,
   "metadata": {
    "collapsed": false
   },
   "outputs": [],
   "source": [
    "#import packages\n",
    "import pandas as pd\n",
    "import numpy as np\n",
    "import re as re\n",
    "import json    # library for working with JSON-formatted text strings\n",
    "import requests  # library for accessing content from web URLs\n",
    "import pprint  # library for making Python data structures readable\n",
    "pp = pprint.PrettyPrinter()\n",
    "import geopandas as gpd\n",
    "from geopandas import GeoDataFrame\n",
    "from shapely.geometry import Point\n",
    "from geopy.distance import great_circle\n",
    "# magic command to display matplotlib plots inline within the ipython notebook\n",
    "%matplotlib inline\n",
    "\n",
    "pd.options.display.float_format = '{:.2f}'.format #display series descriptions in normal format (i.e. not scientific notation)"
   ]
  },
  {
   "cell_type": "code",
   "execution_count": 109,
   "metadata": {
    "collapsed": true
   },
   "outputs": [],
   "source": [
    "#specify file paths\n",
    "import_path = \"/Users/briangoggin/Dropbox/CP 255/SF Development Project/Intermediate Files/\"\n",
    "code_path = \"/Users/briangoggin/Dropbox/CP 255/SF Development Project/Code/Maps/\""
   ]
  },
  {
   "cell_type": "markdown",
   "metadata": {},
   "source": [
    "# Section 1: Create polygons with recently completed development"
   ]
  },
  {
   "cell_type": "markdown",
   "metadata": {},
   "source": [
    "## Determine constructed units over time"
   ]
  },
  {
   "cell_type": "markdown",
   "metadata": {},
   "source": [
    "First, I assume that units were constructed in the latest quarter for which the project had \"construction\" as a project status. I identify these observations."
   ]
  },
  {
   "cell_type": "code",
   "execution_count": 110,
   "metadata": {
    "collapsed": false
   },
   "outputs": [],
   "source": [
    "full_df = pd.read_csv(import_path+\"/pipeline.csv\")"
   ]
  },
  {
   "cell_type": "code",
   "execution_count": 111,
   "metadata": {
    "collapsed": false
   },
   "outputs": [],
   "source": [
    "#create dataframes for line graph of construction, BP, and BI starts over time\n",
    "cons_end = full_df[full_df['status'] == \"CONSTRUCTION\"].groupby(['lot_number'], as_index=False)['quarter_order'].max()\n",
    "cons_end.rename(columns = {'quarter_order': 'consdate'}, inplace = True)\n",
    "#merge data together to identify quarter that projects were built\n",
    "full_df2 = full_df.merge(cons_end, on = 'lot_number', how = \"outer\")\n",
    "full_df2 = full_df2[full_df2['consdate'] == full_df2['quarter_order']]\n",
    "full_df2 = full_df2[full_df2['quarter_order'] != 18]"
   ]
  },
  {
   "cell_type": "markdown",
   "metadata": {},
   "source": [
    "## Create Point Data"
   ]
  },
  {
   "cell_type": "code",
   "execution_count": 112,
   "metadata": {
    "collapsed": false
   },
   "outputs": [],
   "source": [
    "crs = {'init' :'epsg:4326'}\n",
    "geometry = [Point(xy) for xy in zip(full_df2.lon, full_df2.lat)]\n",
    "construction = GeoDataFrame(full_df2, crs=crs, geometry=geometry)\n",
    "#construction.plot();"
   ]
  },
  {
   "cell_type": "markdown",
   "metadata": {},
   "source": [
    "## Import Zillow Neighborhood Boundaries"
   ]
  },
  {
   "cell_type": "code",
   "execution_count": 113,
   "metadata": {
    "collapsed": false
   },
   "outputs": [],
   "source": [
    "root = '/Users/briangoggin/Dropbox/CP 255/SF Development Project/Raw Data'\n",
    "boundaries = gpd.read_file(root+'/ZillowNeighborhoods-CA/ZillowNeighborhoods-CA.shp')"
   ]
  },
  {
   "cell_type": "code",
   "execution_count": 114,
   "metadata": {
    "collapsed": false
   },
   "outputs": [],
   "source": [
    "boundaries = boundaries[boundaries['COUNTY']=='San Francisco'] #keep only SF neighborhoods\n",
    "#boundaries.plot();"
   ]
  },
  {
   "cell_type": "code",
   "execution_count": 115,
   "metadata": {
    "collapsed": false
   },
   "outputs": [],
   "source": [
    "#set boundaries into same geographic coordinate system as points\n",
    "boundaries.crs = {'init' :'epsg:4326'}"
   ]
  },
  {
   "cell_type": "markdown",
   "metadata": {},
   "source": [
    "## Combine Layers"
   ]
  },
  {
   "cell_type": "code",
   "execution_count": 116,
   "metadata": {
    "collapsed": true
   },
   "outputs": [],
   "source": [
    "#First, spatial join between points and neighborhood boundaries. Set 'how' to 'right' to preserve polygon geometries.\n",
    "nbcum = gpd.sjoin(construction, boundaries, how = 'right', op='within')"
   ]
  },
  {
   "cell_type": "code",
   "execution_count": 117,
   "metadata": {
    "collapsed": false
   },
   "outputs": [],
   "source": [
    "#Next, dissolve by neighborhoods to get sum of units\n",
    "nbcum['REGIONID'] = nbcum['REGIONID'].astype(int)\n",
    "nbcum = nbcum[['NAME','REGIONID', 'geometry', 'net_units', 'net_affordable_units']]\n",
    "nb_map = nbcum.dissolve(by=['NAME', 'REGIONID'], aggfunc='sum')\n",
    "\n",
    "nb_map['net_units'].fillna(0, inplace = True)\n",
    "nb_map['net_affordable_units'].fillna(0, inplace = True)\n",
    "\n",
    "nb_map['net_units'] = nb_map['net_units'].astype(int)\n",
    "nb_map['net_affordable_units'] = nb_map['net_affordable_units'].astype(int)\n",
    "\n",
    "nb_map['index'] = nb_map.index\n",
    "nb_map['name'] = nb_map['index'].astype(str).str.split(',').str[0].str.strip('(').str.replace(\"'\", '')\n",
    "nb_map['RegionID'] = nb_map['index'].astype(str).str.split(',').str[1].str.strip(')')\n",
    "nb_map.drop('index', axis = 1, inplace = True)\n",
    "#nb_map.head(20)"
   ]
  },
  {
   "cell_type": "code",
   "execution_count": 118,
   "metadata": {
    "collapsed": true
   },
   "outputs": [],
   "source": [
    "#Define function to create categories for javascript maps. Each category will be separate dot color\n",
    "def cats(value):\n",
    "    if (value['net_units'] >=0) & (value['net_units']<=50): \n",
    "        field = 0\n",
    "        \n",
    "    elif (value['net_units'] >=51) & (value['net_units']<=200):\n",
    "        field = 1\n",
    "        \n",
    "    elif (value['net_units'] >=201) & (value['net_units']<=500):\n",
    "        field = 2\n",
    "        \n",
    "    elif (value['net_units'] >=501) & (value['net_units']<=2000):\n",
    "        field = 3\n",
    "    else: \n",
    "        field = 4\n",
    "        \n",
    "    return field\n",
    "\n",
    "\n",
    "nb_map['unitcat'] = nb_map.apply(cats, axis = 1)"
   ]
  },
  {
   "cell_type": "code",
   "execution_count": 119,
   "metadata": {
    "collapsed": false
   },
   "outputs": [],
   "source": [
    "#export to geojson object\n",
    "export_path = code_path\n",
    "with open(export_path+'/Neighborhood Maps/nb_recent.js', 'w') as f:\n",
    "    f.write('var dataset1 = {};'.format(nb_map.to_json()))"
   ]
  },
  {
   "cell_type": "code",
   "execution_count": 120,
   "metadata": {
    "collapsed": true
   },
   "outputs": [],
   "source": [
    "#export to csv for affordability analysis\n",
    "export_path = import_path\n",
    "nb_map.to_csv(import_path+'/completed.csv')"
   ]
  },
  {
   "cell_type": "code",
   "execution_count": 121,
   "metadata": {
    "collapsed": false
   },
   "outputs": [
    {
     "data": {
      "text/plain": [
       "27467"
      ]
     },
     "execution_count": 121,
     "metadata": {},
     "output_type": "execute_result"
    }
   ],
   "source": [
    "nb_map['net_units'].sum()"
   ]
  },
  {
   "cell_type": "markdown",
   "metadata": {
    "collapsed": true
   },
   "source": [
    "# Section 2: Create polygons with currently proposed development only"
   ]
  },
  {
   "cell_type": "code",
   "execution_count": 122,
   "metadata": {
    "collapsed": true
   },
   "outputs": [],
   "source": [
    "#isolate currently proposed development\n",
    "current = full_df[full_df['quarter']=='Q4-2016']"
   ]
  },
  {
   "cell_type": "code",
   "execution_count": 123,
   "metadata": {
    "collapsed": true
   },
   "outputs": [],
   "source": [
    "#create geodataframe for current development\n",
    "crs = {'init' :'epsg:4326'}\n",
    "geometry = [Point(xy) for xy in zip(current.lon, current.lat)]\n",
    "current_geo = GeoDataFrame(current, crs=crs, geometry=geometry)"
   ]
  },
  {
   "cell_type": "code",
   "execution_count": 124,
   "metadata": {
    "collapsed": true
   },
   "outputs": [],
   "source": [
    "#First, spatial join between points and neighborhood boundaries. Set 'how' to 'right' to preserve polygon geometries.\n",
    "final_geo = gpd.sjoin(current_geo, boundaries, how = 'right', op='within')"
   ]
  },
  {
   "cell_type": "code",
   "execution_count": 125,
   "metadata": {
    "collapsed": true
   },
   "outputs": [],
   "source": [
    "#Next, dissolve by neighborhoods to get sum of units\n",
    "final_geo['REGIONID'] = final_geo['REGIONID'].astype(int)\n",
    "final_geo = final_geo[['NAME','REGIONID', 'geometry', 'net_units', 'net_affordable_units']]\n",
    "final_geo = final_geo.dissolve(by=['NAME', 'REGIONID'], aggfunc='sum')\n",
    "\n",
    "final_geo['net_units'].fillna(0, inplace = True)\n",
    "final_geo['net_affordable_units'].fillna(0, inplace = True)\n",
    "final_geo['net_units'] = final_geo['net_units'].astype(int)\n",
    "final_geo['net_affordable_units'] = final_geo['net_affordable_units'].astype(int)\n",
    "\n",
    "final_geo['index'] = final_geo.index\n",
    "final_geo['name'] = final_geo['index'].astype(str).str.split(',').str[0].str.strip('(').str.replace(\"'\", '')\n",
    "final_geo['RegionID'] = final_geo['index'].astype(str).str.split(',').str[1].str.strip(')')\n",
    "final_geo.drop('index', axis = 1, inplace = True)"
   ]
  },
  {
   "cell_type": "code",
   "execution_count": 126,
   "metadata": {
    "collapsed": true
   },
   "outputs": [],
   "source": [
    "#Define function to create categories for javascript maps. Each category will be separate dot color\n",
    "def cats(value):\n",
    "    if (value['net_units'] >=0) & (value['net_units']<=50): \n",
    "        field = 0\n",
    "        \n",
    "    elif (value['net_units'] >=51) & (value['net_units']<=200):\n",
    "        field = 1\n",
    "        \n",
    "    elif (value['net_units'] >=201) & (value['net_units']<=500):\n",
    "        field = 2\n",
    "        \n",
    "    elif (value['net_units'] >=501) & (value['net_units']<=2000):\n",
    "        field = 3\n",
    "    else: \n",
    "        field = 4\n",
    "        \n",
    "    return field\n",
    "\n",
    "\n",
    "final_geo['unitcat'] = final_geo.apply(cats, axis = 1)"
   ]
  },
  {
   "cell_type": "code",
   "execution_count": 127,
   "metadata": {
    "collapsed": true
   },
   "outputs": [],
   "source": [
    "#export to geojson object\n",
    "export_path = code_path\n",
    "with open(export_path+'/Neighborhood Maps/nb_current.js', 'w') as f:\n",
    "    f.write('var dataset2 = {};'.format(final_geo.to_json()))"
   ]
  },
  {
   "cell_type": "markdown",
   "metadata": {
    "collapsed": true
   },
   "source": [
    "# Section 3. Create Polygons with Non-residential development - recently completed"
   ]
  },
  {
   "cell_type": "code",
   "execution_count": 128,
   "metadata": {
    "collapsed": true
   },
   "outputs": [],
   "source": [
    "#import commercial development data\n",
    "nr_df = pd.read_csv(import_path+\"/pipeline_com.csv\")"
   ]
  },
  {
   "cell_type": "code",
   "execution_count": 129,
   "metadata": {
    "collapsed": true
   },
   "outputs": [],
   "source": [
    "#some initial cleaning\n",
    "vars = ['comm_sqft', 'comm_sqft_net']\n",
    "#do some initial data cleaning\n",
    "for item in vars:\n",
    "    nr_df[item] = nr_df[item].fillna(0)"
   ]
  },
  {
   "cell_type": "code",
   "execution_count": 130,
   "metadata": {
    "collapsed": false
   },
   "outputs": [],
   "source": [
    "#create dataframe for construction ending over time. This is a method to identify where construction ended,\n",
    "#at which point the data drops out of the pipeline\n",
    "cons_end_nr = nr_df[nr_df['status'] == \"CONSTRUCTION\"].groupby(['lot_number'], as_index=False)['quarter_order'].max()\n",
    "cons_end_nr.rename(columns = {'quarter_order': 'consdate'}, inplace = True)\n",
    "#merge data together to identify quarter that projects were built\n",
    "nr_df2 = nr_df.merge(cons_end_nr, on = 'lot_number', how = \"outer\")\n",
    "nr_df2 = nr_df2[nr_df2['consdate'] == nr_df2['quarter_order']]\n",
    "nr_df2 = nr_df2[nr_df2['quarter_order'] != 18]"
   ]
  },
  {
   "cell_type": "code",
   "execution_count": 131,
   "metadata": {
    "collapsed": false
   },
   "outputs": [],
   "source": [
    "#create geodataframe for current development\n",
    "crs = {'init' :'epsg:4326'}\n",
    "geometry = [Point(xy) for xy in zip(nr_df2.lon, nr_df2.lat)]\n",
    "nr_geo = GeoDataFrame(nr_df2, crs=crs, geometry=geometry)"
   ]
  },
  {
   "cell_type": "code",
   "execution_count": 132,
   "metadata": {
    "collapsed": true
   },
   "outputs": [],
   "source": [
    "#First, spatial join between points and neighborhood boundaries. Set 'how' to 'right' to preserve polygon geometries.\n",
    "final_geo = gpd.sjoin(nr_geo, boundaries, how = 'right', op='within')"
   ]
  },
  {
   "cell_type": "code",
   "execution_count": 133,
   "metadata": {
    "collapsed": false
   },
   "outputs": [
    {
     "data": {
      "text/html": [
       "<div>\n",
       "<table border=\"1\" class=\"dataframe\">\n",
       "  <thead>\n",
       "    <tr style=\"text-align: right;\">\n",
       "      <th></th>\n",
       "      <th>Unnamed: 0</th>\n",
       "      <th>address</th>\n",
       "      <th>affordable_units</th>\n",
       "      <th>cie</th>\n",
       "      <th>cie_net</th>\n",
       "      <th>comm_sqft</th>\n",
       "      <th>comm_sqft_net</th>\n",
       "      <th>desc</th>\n",
       "      <th>ind</th>\n",
       "      <th>ind_net</th>\n",
       "      <th>...</th>\n",
       "      <th>lat</th>\n",
       "      <th>quarter_order</th>\n",
       "      <th>consdate</th>\n",
       "      <th>index_left</th>\n",
       "      <th>CITY</th>\n",
       "      <th>COUNTY</th>\n",
       "      <th>NAME</th>\n",
       "      <th>REGIONID</th>\n",
       "      <th>STATE</th>\n",
       "      <th>geometry</th>\n",
       "    </tr>\n",
       "    <tr>\n",
       "      <th>index_right</th>\n",
       "      <th></th>\n",
       "      <th></th>\n",
       "      <th></th>\n",
       "      <th></th>\n",
       "      <th></th>\n",
       "      <th></th>\n",
       "      <th></th>\n",
       "      <th></th>\n",
       "      <th></th>\n",
       "      <th></th>\n",
       "      <th></th>\n",
       "      <th></th>\n",
       "      <th></th>\n",
       "      <th></th>\n",
       "      <th></th>\n",
       "      <th></th>\n",
       "      <th></th>\n",
       "      <th></th>\n",
       "      <th></th>\n",
       "      <th></th>\n",
       "      <th></th>\n",
       "    </tr>\n",
       "  </thead>\n",
       "  <tbody>\n",
       "    <tr>\n",
       "      <th>789</th>\n",
       "      <td>739.00</td>\n",
       "      <td>101 Donahue St</td>\n",
       "      <td>nan</td>\n",
       "      <td>nan</td>\n",
       "      <td>nan</td>\n",
       "      <td>0.00</td>\n",
       "      <td>0.00</td>\n",
       "      <td>NaN</td>\n",
       "      <td>nan</td>\n",
       "      <td>nan</td>\n",
       "      <td>...</td>\n",
       "      <td>37.72</td>\n",
       "      <td>6.00</td>\n",
       "      <td>6.00</td>\n",
       "      <td>4201.00</td>\n",
       "      <td>San Francisco</td>\n",
       "      <td>San Francisco</td>\n",
       "      <td>Bayview</td>\n",
       "      <td>272885.00</td>\n",
       "      <td>CA</td>\n",
       "      <td>POLYGON ((-122.380496615061 37.7507156475919, ...</td>\n",
       "    </tr>\n",
       "    <tr>\n",
       "      <th>789</th>\n",
       "      <td>654.00</td>\n",
       "      <td>421 Hudson Av</td>\n",
       "      <td>nan</td>\n",
       "      <td>nan</td>\n",
       "      <td>nan</td>\n",
       "      <td>0.00</td>\n",
       "      <td>0.00</td>\n",
       "      <td>NaN</td>\n",
       "      <td>nan</td>\n",
       "      <td>nan</td>\n",
       "      <td>...</td>\n",
       "      <td>37.73</td>\n",
       "      <td>6.00</td>\n",
       "      <td>6.00</td>\n",
       "      <td>4216.00</td>\n",
       "      <td>San Francisco</td>\n",
       "      <td>San Francisco</td>\n",
       "      <td>Bayview</td>\n",
       "      <td>272885.00</td>\n",
       "      <td>CA</td>\n",
       "      <td>POLYGON ((-122.380496615061 37.7507156475919, ...</td>\n",
       "    </tr>\n",
       "    <tr>\n",
       "      <th>789</th>\n",
       "      <td>745.00</td>\n",
       "      <td>198 Coleman St</td>\n",
       "      <td>nan</td>\n",
       "      <td>nan</td>\n",
       "      <td>nan</td>\n",
       "      <td>0.00</td>\n",
       "      <td>0.00</td>\n",
       "      <td>NaN</td>\n",
       "      <td>nan</td>\n",
       "      <td>nan</td>\n",
       "      <td>...</td>\n",
       "      <td>37.73</td>\n",
       "      <td>6.00</td>\n",
       "      <td>6.00</td>\n",
       "      <td>4219.00</td>\n",
       "      <td>San Francisco</td>\n",
       "      <td>San Francisco</td>\n",
       "      <td>Bayview</td>\n",
       "      <td>272885.00</td>\n",
       "      <td>CA</td>\n",
       "      <td>POLYGON ((-122.380496615061 37.7507156475919, ...</td>\n",
       "    </tr>\n",
       "    <tr>\n",
       "      <th>789</th>\n",
       "      <td>725.00</td>\n",
       "      <td>201 Donahue St</td>\n",
       "      <td>nan</td>\n",
       "      <td>nan</td>\n",
       "      <td>nan</td>\n",
       "      <td>0.00</td>\n",
       "      <td>0.00</td>\n",
       "      <td>NaN</td>\n",
       "      <td>nan</td>\n",
       "      <td>nan</td>\n",
       "      <td>...</td>\n",
       "      <td>37.73</td>\n",
       "      <td>6.00</td>\n",
       "      <td>6.00</td>\n",
       "      <td>4225.00</td>\n",
       "      <td>San Francisco</td>\n",
       "      <td>San Francisco</td>\n",
       "      <td>Bayview</td>\n",
       "      <td>272885.00</td>\n",
       "      <td>CA</td>\n",
       "      <td>POLYGON ((-122.380496615061 37.7507156475919, ...</td>\n",
       "    </tr>\n",
       "    <tr>\n",
       "      <th>789</th>\n",
       "      <td>741.00</td>\n",
       "      <td>50 Jerrold Av</td>\n",
       "      <td>nan</td>\n",
       "      <td>nan</td>\n",
       "      <td>nan</td>\n",
       "      <td>0.00</td>\n",
       "      <td>0.00</td>\n",
       "      <td>NaN</td>\n",
       "      <td>nan</td>\n",
       "      <td>nan</td>\n",
       "      <td>...</td>\n",
       "      <td>37.73</td>\n",
       "      <td>6.00</td>\n",
       "      <td>6.00</td>\n",
       "      <td>4237.00</td>\n",
       "      <td>San Francisco</td>\n",
       "      <td>San Francisco</td>\n",
       "      <td>Bayview</td>\n",
       "      <td>272885.00</td>\n",
       "      <td>CA</td>\n",
       "      <td>POLYGON ((-122.380496615061 37.7507156475919, ...</td>\n",
       "    </tr>\n",
       "  </tbody>\n",
       "</table>\n",
       "<p>5 rows × 38 columns</p>\n",
       "</div>"
      ],
      "text/plain": [
       "             Unnamed: 0         address  affordable_units  cie  cie_net  \\\n",
       "index_right                                                               \n",
       "789              739.00  101 Donahue St               nan  nan      nan   \n",
       "789              654.00   421 Hudson Av               nan  nan      nan   \n",
       "789              745.00  198 Coleman St               nan  nan      nan   \n",
       "789              725.00  201 Donahue St               nan  nan      nan   \n",
       "789              741.00   50 Jerrold Av               nan  nan      nan   \n",
       "\n",
       "             comm_sqft  comm_sqft_net desc  ind  ind_net  \\\n",
       "index_right                                                \n",
       "789               0.00           0.00  NaN  nan      nan   \n",
       "789               0.00           0.00  NaN  nan      nan   \n",
       "789               0.00           0.00  NaN  nan      nan   \n",
       "789               0.00           0.00  NaN  nan      nan   \n",
       "789               0.00           0.00  NaN  nan      nan   \n",
       "\n",
       "                                   ...                           lat  \\\n",
       "index_right                        ...                                 \n",
       "789                                ...                         37.72   \n",
       "789                                ...                         37.73   \n",
       "789                                ...                         37.73   \n",
       "789                                ...                         37.73   \n",
       "789                                ...                         37.73   \n",
       "\n",
       "            quarter_order consdate  index_left           CITY         COUNTY  \\\n",
       "index_right                                                                    \n",
       "789                  6.00     6.00     4201.00  San Francisco  San Francisco   \n",
       "789                  6.00     6.00     4216.00  San Francisco  San Francisco   \n",
       "789                  6.00     6.00     4219.00  San Francisco  San Francisco   \n",
       "789                  6.00     6.00     4225.00  San Francisco  San Francisco   \n",
       "789                  6.00     6.00     4237.00  San Francisco  San Francisco   \n",
       "\n",
       "                NAME  REGIONID  STATE  \\\n",
       "index_right                             \n",
       "789          Bayview 272885.00     CA   \n",
       "789          Bayview 272885.00     CA   \n",
       "789          Bayview 272885.00     CA   \n",
       "789          Bayview 272885.00     CA   \n",
       "789          Bayview 272885.00     CA   \n",
       "\n",
       "                                                      geometry  \n",
       "index_right                                                     \n",
       "789          POLYGON ((-122.380496615061 37.7507156475919, ...  \n",
       "789          POLYGON ((-122.380496615061 37.7507156475919, ...  \n",
       "789          POLYGON ((-122.380496615061 37.7507156475919, ...  \n",
       "789          POLYGON ((-122.380496615061 37.7507156475919, ...  \n",
       "789          POLYGON ((-122.380496615061 37.7507156475919, ...  \n",
       "\n",
       "[5 rows x 38 columns]"
      ]
     },
     "execution_count": 133,
     "metadata": {},
     "output_type": "execute_result"
    }
   ],
   "source": [
    "final_geo.head()"
   ]
  },
  {
   "cell_type": "code",
   "execution_count": 134,
   "metadata": {
    "collapsed": true
   },
   "outputs": [],
   "source": [
    "#Next, dissolve by neighborhoods to get sum of units\n",
    "final_geo['REGIONID'] = final_geo['REGIONID'].astype(int)\n",
    "final_geo = final_geo[['NAME','REGIONID', 'geometry', 'comm_sqft_net', 'comm_sqft']]\n",
    "final_geo = final_geo.dissolve(by=['NAME', 'REGIONID'], aggfunc='sum')\n",
    "\n",
    "final_geo['comm_sqft_net'].fillna(0, inplace = True)\n",
    "final_geo['comm_sqft'].fillna(0, inplace = True)\n",
    "final_geo['comm_sqft_net'] = final_geo['comm_sqft_net'].astype(int)\n",
    "final_geo['comm_sqft'] = final_geo['comm_sqft'].astype(int)\n",
    "\n",
    "final_geo['index'] = final_geo.index\n",
    "final_geo['name'] = final_geo['index'].astype(str).str.split(',').str[0].str.strip('(').str.replace(\"'\", '')\n",
    "final_geo['RegionID'] = final_geo['index'].astype(str).str.split(',').str[1].str.strip(')')\n",
    "final_geo.drop('index', axis = 1, inplace = True)"
   ]
  },
  {
   "cell_type": "code",
   "execution_count": 135,
   "metadata": {
    "collapsed": false
   },
   "outputs": [
    {
     "data": {
      "text/html": [
       "<div>\n",
       "<table border=\"1\" class=\"dataframe\">\n",
       "  <thead>\n",
       "    <tr style=\"text-align: right;\">\n",
       "      <th></th>\n",
       "      <th></th>\n",
       "      <th>geometry</th>\n",
       "      <th>comm_sqft_net</th>\n",
       "      <th>comm_sqft</th>\n",
       "      <th>name</th>\n",
       "      <th>RegionID</th>\n",
       "    </tr>\n",
       "    <tr>\n",
       "      <th>NAME</th>\n",
       "      <th>REGIONID</th>\n",
       "      <th></th>\n",
       "      <th></th>\n",
       "      <th></th>\n",
       "      <th></th>\n",
       "      <th></th>\n",
       "    </tr>\n",
       "  </thead>\n",
       "  <tbody>\n",
       "    <tr>\n",
       "      <th>Bayview</th>\n",
       "      <th>272885</th>\n",
       "      <td>POLYGON ((-122.380496615061 37.7507156475919, ...</td>\n",
       "      <td>122240</td>\n",
       "      <td>99840</td>\n",
       "      <td>Bayview</td>\n",
       "      <td>272885</td>\n",
       "    </tr>\n",
       "    <tr>\n",
       "      <th>Bernal Heights</th>\n",
       "      <th>268020</th>\n",
       "      <td>POLYGON ((-122.403862539662 37.7494769720709, ...</td>\n",
       "      <td>-1410</td>\n",
       "      <td>0</td>\n",
       "      <td>Bernal Heights</td>\n",
       "      <td>268020</td>\n",
       "    </tr>\n",
       "    <tr>\n",
       "      <th>Castro-Upper Market</th>\n",
       "      <th>276241</th>\n",
       "      <td>POLYGON ((-122.426029676707 37.7697778521009, ...</td>\n",
       "      <td>-21008</td>\n",
       "      <td>61298</td>\n",
       "      <td>Castro-Upper Market</td>\n",
       "      <td>276241</td>\n",
       "    </tr>\n",
       "    <tr>\n",
       "      <th>Chinatown</th>\n",
       "      <th>114291</th>\n",
       "      <td>POLYGON ((-122.41020215338 37.7974876723953, -...</td>\n",
       "      <td>0</td>\n",
       "      <td>0</td>\n",
       "      <td>Chinatown</td>\n",
       "      <td>114291</td>\n",
       "    </tr>\n",
       "    <tr>\n",
       "      <th>Crocker Amazon</th>\n",
       "      <th>273404</th>\n",
       "      <td>POLYGON ((-122.454085201694 37.7082065558492, ...</td>\n",
       "      <td>5240</td>\n",
       "      <td>5240</td>\n",
       "      <td>Crocker Amazon</td>\n",
       "      <td>273404</td>\n",
       "    </tr>\n",
       "  </tbody>\n",
       "</table>\n",
       "</div>"
      ],
      "text/plain": [
       "                                                                       geometry  \\\n",
       "NAME                REGIONID                                                      \n",
       "Bayview             272885    POLYGON ((-122.380496615061 37.7507156475919, ...   \n",
       "Bernal Heights      268020    POLYGON ((-122.403862539662 37.7494769720709, ...   \n",
       "Castro-Upper Market 276241    POLYGON ((-122.426029676707 37.7697778521009, ...   \n",
       "Chinatown           114291    POLYGON ((-122.41020215338 37.7974876723953, -...   \n",
       "Crocker Amazon      273404    POLYGON ((-122.454085201694 37.7082065558492, ...   \n",
       "\n",
       "                              comm_sqft_net  comm_sqft                 name  \\\n",
       "NAME                REGIONID                                                  \n",
       "Bayview             272885           122240      99840              Bayview   \n",
       "Bernal Heights      268020            -1410          0       Bernal Heights   \n",
       "Castro-Upper Market 276241           -21008      61298  Castro-Upper Market   \n",
       "Chinatown           114291                0          0            Chinatown   \n",
       "Crocker Amazon      273404             5240       5240       Crocker Amazon   \n",
       "\n",
       "                             RegionID  \n",
       "NAME                REGIONID           \n",
       "Bayview             272885     272885  \n",
       "Bernal Heights      268020     268020  \n",
       "Castro-Upper Market 276241     276241  \n",
       "Chinatown           114291     114291  \n",
       "Crocker Amazon      273404     273404  "
      ]
     },
     "execution_count": 135,
     "metadata": {},
     "output_type": "execute_result"
    }
   ],
   "source": [
    "final_geo.head()"
   ]
  },
  {
   "cell_type": "code",
   "execution_count": 136,
   "metadata": {
    "collapsed": false
   },
   "outputs": [
    {
     "data": {
      "text/plain": [
       "count        34.00\n",
       "mean     131730.71\n",
       "std      414654.51\n",
       "min      -34895.00\n",
       "5%       -12289.55\n",
       "10%       -4236.50\n",
       "20%        -152.00\n",
       "30%           0.00\n",
       "40%           0.00\n",
       "50%           0.00\n",
       "60%        1598.20\n",
       "70%        4026.80\n",
       "80%        8979.20\n",
       "90%      268676.50\n",
       "95%      994280.40\n",
       "max     1720114.00\n",
       "Name: comm_sqft_net, dtype: float64"
      ]
     },
     "execution_count": 136,
     "metadata": {},
     "output_type": "execute_result"
    }
   ],
   "source": [
    "final_geo['comm_sqft_net'].describe(percentiles = [.05, .1, .2, .3, .4, .5, .6, .7, .8, .9, .95])"
   ]
  },
  {
   "cell_type": "code",
   "execution_count": 137,
   "metadata": {
    "collapsed": true
   },
   "outputs": [],
   "source": [
    "#Define function to create categories for javascript maps. Each category will be separate dot color\n",
    "def cats(value):\n",
    "    if value['comm_sqft_net'] < -5000: \n",
    "        field = 0\n",
    "        \n",
    "    elif (value['comm_sqft_net'] >= -5000) & (value['comm_sqft_net']< 0):\n",
    "        field = 1\n",
    "        \n",
    "    elif (value['comm_sqft_net'] >= 0) & (value['comm_sqft_net']< 5000):\n",
    "        field = 2\n",
    "        \n",
    "    elif (value['comm_sqft_net'] >= 5000) & (value['comm_sqft_net']< 10000):\n",
    "        field = 3\n",
    "        \n",
    "    elif (value['comm_sqft_net'] >=10000) & (value['comm_sqft_net']< 25000):\n",
    "        field = 4  \n",
    "        \n",
    "    else: \n",
    "        field = 5\n",
    "        \n",
    "    return field\n",
    "\n",
    "\n",
    "final_geo['unitcat'] = final_geo.apply(cats, axis = 1)"
   ]
  },
  {
   "cell_type": "code",
   "execution_count": 138,
   "metadata": {
    "collapsed": true
   },
   "outputs": [],
   "source": [
    "#make variables into a string before export\n",
    "final_geo['comm_sqft_net'] = final_geo['comm_sqft_net'].astype(str)"
   ]
  },
  {
   "cell_type": "code",
   "execution_count": 139,
   "metadata": {
    "collapsed": true
   },
   "outputs": [],
   "source": [
    "#export to geojson object\n",
    "export_path = code_path\n",
    "with open(export_path+'/Neighborhood Maps/nb_comm.js', 'w') as f:\n",
    "    f.write('var dataset3 = {};'.format(final_geo.to_json()))"
   ]
  },
  {
   "cell_type": "markdown",
   "metadata": {},
   "source": [
    "# Section 4. Create Polygons with Non-residential development -currently proposed"
   ]
  },
  {
   "cell_type": "code",
   "execution_count": 140,
   "metadata": {
    "collapsed": true
   },
   "outputs": [],
   "source": [
    "#isolate currently proposed development\n",
    "current = nr_df[nr_df['quarter']=='Q4-2016']"
   ]
  },
  {
   "cell_type": "code",
   "execution_count": 141,
   "metadata": {
    "collapsed": false
   },
   "outputs": [],
   "source": [
    "#create geodataframe for current development\n",
    "crs = {'init' :'epsg:4326'}\n",
    "geometry = [Point(xy) for xy in zip(current.lon, current.lat)]\n",
    "current_geo = GeoDataFrame(current, crs=crs, geometry=geometry)"
   ]
  },
  {
   "cell_type": "code",
   "execution_count": 142,
   "metadata": {
    "collapsed": true
   },
   "outputs": [],
   "source": [
    "#First, spatial join between points and neighborhood boundaries. Set 'how' to 'right' to preserve polygon geometries.\n",
    "final_geo = gpd.sjoin(current_geo, boundaries, how = 'right', op='within')"
   ]
  },
  {
   "cell_type": "code",
   "execution_count": 143,
   "metadata": {
    "collapsed": true
   },
   "outputs": [],
   "source": [
    "#Next, dissolve by neighborhoods to get sum of units\n",
    "final_geo['REGIONID'] = final_geo['REGIONID'].astype(int)\n",
    "final_geo = final_geo[['NAME','REGIONID', 'geometry', 'comm_sqft_net', 'comm_sqft']]\n",
    "final_geo = final_geo.dissolve(by=['NAME', 'REGIONID'], aggfunc='sum')\n",
    "\n",
    "final_geo['comm_sqft_net'].fillna(0, inplace = True)\n",
    "final_geo['comm_sqft'].fillna(0, inplace = True)\n",
    "final_geo['comm_sqft_net'] = final_geo['comm_sqft_net'].astype(int)\n",
    "final_geo['comm_sqft'] = final_geo['comm_sqft'].astype(int)\n",
    "\n",
    "final_geo['index'] = final_geo.index\n",
    "final_geo['name'] = final_geo['index'].astype(str).str.split(',').str[0].str.strip('(').str.replace(\"'\", '')\n",
    "final_geo['RegionID'] = final_geo['index'].astype(str).str.split(',').str[1].str.strip(')')\n",
    "final_geo.drop('index', axis = 1, inplace = True)"
   ]
  },
  {
   "cell_type": "code",
   "execution_count": 144,
   "metadata": {
    "collapsed": true
   },
   "outputs": [],
   "source": [
    "#Define function to create categories for javascript maps. Each category will be separate dot color\n",
    "def cats(value):\n",
    "    if value['comm_sqft_net'] < -5000: \n",
    "        field = 0\n",
    "        \n",
    "    elif (value['comm_sqft_net'] >= -5000) & (value['comm_sqft_net']< 0):\n",
    "        field = 1\n",
    "        \n",
    "    elif (value['comm_sqft_net'] >= 0) & (value['comm_sqft_net']< 5000):\n",
    "        field = 2\n",
    "        \n",
    "    elif (value['comm_sqft_net'] >= 5000) & (value['comm_sqft_net']< 10000):\n",
    "        field = 3\n",
    "        \n",
    "    elif (value['comm_sqft_net'] >=10000) & (value['comm_sqft_net']< 25000):\n",
    "        field = 4  \n",
    "        \n",
    "    else: \n",
    "        field = 5\n",
    "        \n",
    "    return field\n",
    "\n",
    "\n",
    "final_geo['unitcat'] = final_geo.apply(cats, axis = 1)"
   ]
  },
  {
   "cell_type": "code",
   "execution_count": 145,
   "metadata": {
    "collapsed": true
   },
   "outputs": [],
   "source": [
    "#make variables into a string before export\n",
    "final_geo['comm_sqft_net'] = final_geo['comm_sqft_net'].astype(str)"
   ]
  },
  {
   "cell_type": "code",
   "execution_count": 146,
   "metadata": {
    "collapsed": true
   },
   "outputs": [],
   "source": [
    "#export to geojson object\n",
    "export_path = code_path\n",
    "with open(export_path+'/Neighborhood Maps/nb_comm_curr.js', 'w') as f:\n",
    "    f.write('var dataset4 = {};'.format(final_geo.to_json()))"
   ]
  },
  {
   "cell_type": "code",
   "execution_count": null,
   "metadata": {
    "collapsed": true
   },
   "outputs": [],
   "source": []
  }
 ],
 "metadata": {
  "anaconda-cloud": {},
  "kernelspec": {
   "display_name": "Python [Root]",
   "language": "python",
   "name": "Python [Root]"
  },
  "language_info": {
   "codemirror_mode": {
    "name": "ipython",
    "version": 3
   },
   "file_extension": ".py",
   "mimetype": "text/x-python",
   "name": "python",
   "nbconvert_exporter": "python",
   "pygments_lexer": "ipython3",
   "version": "3.5.2"
  }
 },
 "nbformat": 4,
 "nbformat_minor": 0
}
