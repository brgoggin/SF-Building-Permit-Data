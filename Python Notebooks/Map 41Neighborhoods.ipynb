{
 "cells": [
  {
   "cell_type": "markdown",
   "metadata": {},
   "source": [
    "# Map Neighborhood\n",
    "In this notebook, I use the development pipeline data of SF development in order to create an online map of residential construction by Zillow neighborhood. \n"
   ]
  },
  {
   "cell_type": "code",
   "execution_count": null,
   "metadata": {
    "collapsed": false
   },
   "outputs": [],
   "source": [
    "#import packages\n",
    "import pandas as pd\n",
    "import numpy as np\n",
    "import re as re\n",
    "import json    # library for working with JSON-formatted text strings\n",
    "import requests  # library for accessing content from web URLs\n",
    "import pprint  # library for making Python data structures readable\n",
    "pp = pprint.PrettyPrinter()\n",
    "import geopandas as gpd\n",
    "from geopandas import GeoDataFrame\n",
    "from shapely.geometry import Point\n",
    "from geopy.distance import great_circle\n",
    "# magic command to display matplotlib plots inline within the ipython notebook\n",
    "%matplotlib inline\n",
    "\n",
    "pd.options.display.float_format = '{:.2f}'.format #display series descriptions in normal format (i.e. not scientific notation)"
   ]
  },
  {
   "cell_type": "code",
   "execution_count": null,
   "metadata": {
    "collapsed": true
   },
   "outputs": [],
   "source": [
    "#specify file paths\n",
    "import_path = '../../Intermediate Files'\n",
    "code_path = '../../Code/Maps/'"
   ]
  },
  {
   "cell_type": "markdown",
   "metadata": {},
   "source": [
    "# Section 1: Create polygons with recently completed development"
   ]
  },
  {
   "cell_type": "markdown",
   "metadata": {},
   "source": [
    "## Determine constructed units over time"
   ]
  },
  {
   "cell_type": "markdown",
   "metadata": {},
   "source": [
    "First, I assume that units were constructed in the latest quarter for which the project had \"construction\" as a project status. I identify these observations."
   ]
  },
  {
   "cell_type": "code",
   "execution_count": null,
   "metadata": {
    "collapsed": false
   },
   "outputs": [],
   "source": [
    "full_df = pd.read_csv(import_path+\"/pipeline.csv\")"
   ]
  },
  {
   "cell_type": "code",
   "execution_count": null,
   "metadata": {
    "collapsed": true
   },
   "outputs": [],
   "source": [
    "#(03/02/2016) dropping Hunters Point shipyard until more robust solution. See Github issues for further explanation\n",
    "full_df = full_df[full_df['address'] != 'HUNTERS POINT SHIPYARD, PHASE II']"
   ]
  },
  {
   "cell_type": "code",
   "execution_count": null,
   "metadata": {
    "collapsed": false
   },
   "outputs": [],
   "source": [
    "#create dataframe for construction ending over time. This is a method to identify where construction ended,\n",
    "#at which point the data drops out of the pipeline\n",
    "cons_end = full_df[full_df['status'] == \"CONSTRUCTION\"].groupby(['lot_number'], as_index=False)['quarter_order'].max()\n",
    "cons_end.rename(columns = {'quarter_order': 'consdate'}, inplace = True)\n",
    "#merge data together to identify quarter that projects were built\n",
    "full_df2 = full_df.merge(cons_end, on = 'lot_number', how = \"outer\")\n",
    "full_df2 = full_df2[full_df2['consdate'] == full_df2['quarter_order']]\n",
    "full_df2 = full_df2[full_df2['quarter_order'] != 19]"
   ]
  },
  {
   "cell_type": "markdown",
   "metadata": {},
   "source": [
    "## Create Point Data"
   ]
  },
  {
   "cell_type": "code",
   "execution_count": null,
   "metadata": {
    "collapsed": false
   },
   "outputs": [],
   "source": [
    "crs = {'init' :'epsg:4326'}\n",
    "geometry = [Point(xy) for xy in zip(full_df2.lon, full_df2.lat)]\n",
    "construction = GeoDataFrame(full_df2, crs=crs, geometry=geometry)\n",
    "#construction.plot();"
   ]
  },
  {
   "cell_type": "code",
   "execution_count": null,
   "metadata": {
    "collapsed": false
   },
   "outputs": [],
   "source": [
    "construction.head()"
   ]
  },
  {
   "cell_type": "markdown",
   "metadata": {},
   "source": [
    "## Import 41 Neighborhood Boundaries"
   ]
  },
  {
   "cell_type": "code",
   "execution_count": null,
   "metadata": {
    "collapsed": false
   },
   "outputs": [],
   "source": [
    "root = '../../Raw Data'\n",
    "boundaries = gpd.read_file(root+'/41_neighborhoods/41_neighborhoods.shp')"
   ]
  },
  {
   "cell_type": "code",
   "execution_count": null,
   "metadata": {
    "collapsed": false
   },
   "outputs": [],
   "source": [
    "#dropping Treasure Island for now\n",
    "boundaries = boundaries[boundaries['NHOOD']!='Treasure Island']"
   ]
  },
  {
   "cell_type": "code",
   "execution_count": null,
   "metadata": {
    "collapsed": false
   },
   "outputs": [],
   "source": [
    "boundaries.plot()"
   ]
  },
  {
   "cell_type": "code",
   "execution_count": null,
   "metadata": {
    "collapsed": false
   },
   "outputs": [],
   "source": [
    "#convert boundaries to geographic coordinate system to conform to points\n",
    "boundaries = boundaries.to_crs({'init': 'epsg:4326'}) "
   ]
  },
  {
   "cell_type": "code",
   "execution_count": null,
   "metadata": {
    "collapsed": false
   },
   "outputs": [],
   "source": [
    "boundaries.plot()"
   ]
  },
  {
   "cell_type": "code",
   "execution_count": null,
   "metadata": {
    "collapsed": false
   },
   "outputs": [],
   "source": [
    "boundaries.head()"
   ]
  },
  {
   "cell_type": "markdown",
   "metadata": {},
   "source": [
    "## Combine Layers"
   ]
  },
  {
   "cell_type": "code",
   "execution_count": null,
   "metadata": {
    "collapsed": false
   },
   "outputs": [],
   "source": [
    "#First, spatial join between points and neighborhood boundaries. Set 'how' to 'right' to preserve polygon geometries.\n",
    "nbcum = gpd.sjoin(construction, boundaries, how = 'right', op='within')"
   ]
  },
  {
   "cell_type": "code",
   "execution_count": null,
   "metadata": {
    "collapsed": false
   },
   "outputs": [],
   "source": [
    "#Next, dissolve by neighborhoods to get sum of units\n",
    "nbcum = nbcum[['NHOOD', 'geometry', 'net_units', 'net_affordable_units']]\n",
    "nb_map = nbcum.dissolve(by=['NHOOD'], aggfunc='sum')\n",
    "\n",
    "nb_map['net_units'].fillna(0, inplace = True)\n",
    "nb_map['net_affordable_units'].fillna(0, inplace = True)\n",
    "\n",
    "nb_map['net_units'] = nb_map['net_units'].astype(int)\n",
    "nb_map['net_affordable_units'] = nb_map['net_affordable_units'].astype(int)\n",
    "\n",
    "nb_map['name']=nb_map.index"
   ]
  },
  {
   "cell_type": "code",
   "execution_count": null,
   "metadata": {
    "collapsed": true
   },
   "outputs": [],
   "source": [
    "#Define function to create categories for javascript maps. Each category will be separate dot color\n",
    "def cats(value):\n",
    "    if (value['net_units'] >=0) & (value['net_units']<=50): \n",
    "        field = 0\n",
    "        \n",
    "    elif (value['net_units'] >=51) & (value['net_units']<=200):\n",
    "        field = 1\n",
    "        \n",
    "    elif (value['net_units'] >=201) & (value['net_units']<=500):\n",
    "        field = 2\n",
    "        \n",
    "    elif (value['net_units'] >=501) & (value['net_units']<=2000):\n",
    "        field = 3\n",
    "    else: \n",
    "        field = 4\n",
    "        \n",
    "    return field\n",
    "\n",
    "\n",
    "nb_map['unitcat'] = nb_map.apply(cats, axis = 1)"
   ]
  },
  {
   "cell_type": "code",
   "execution_count": null,
   "metadata": {
    "collapsed": true
   },
   "outputs": [],
   "source": [
    "#make variables into a string with commas before export\n",
    "nb_map['net_units'] = nb_map['net_units'].astype(int)\n",
    "nb_map['net_units'] = nb_map['net_units'].map(lambda x: '{:,}'.format(x), na_action='ignore')"
   ]
  },
  {
   "cell_type": "code",
   "execution_count": null,
   "metadata": {
    "collapsed": false
   },
   "outputs": [],
   "source": [
    "nb_map.head()"
   ]
  },
  {
   "cell_type": "code",
   "execution_count": null,
   "metadata": {
    "collapsed": false
   },
   "outputs": [],
   "source": [
    "#export to geojson object\n",
    "export_path = code_path\n",
    "with open(export_path+'/Neighborhood Maps/nb41_recent.js', 'w') as f:\n",
    "    f.write('var dataset5 = {};'.format(nb_map.to_json()))"
   ]
  },
  {
   "cell_type": "markdown",
   "metadata": {
    "collapsed": true
   },
   "source": [
    "# Section 2: Create polygons with currently proposed development only"
   ]
  },
  {
   "cell_type": "code",
   "execution_count": null,
   "metadata": {
    "collapsed": true
   },
   "outputs": [],
   "source": [
    "#isolate currently proposed development\n",
    "current = full_df[full_df['quarter']=='Q1-2017']"
   ]
  },
  {
   "cell_type": "code",
   "execution_count": null,
   "metadata": {
    "collapsed": true
   },
   "outputs": [],
   "source": [
    "#create geodataframe for current development\n",
    "crs = {'init' :'epsg:4326'}\n",
    "geometry = [Point(xy) for xy in zip(current.lon, current.lat)]\n",
    "current_geo = GeoDataFrame(current, crs=crs, geometry=geometry)"
   ]
  },
  {
   "cell_type": "code",
   "execution_count": null,
   "metadata": {
    "collapsed": true
   },
   "outputs": [],
   "source": [
    "#First, spatial join between points and neighborhood boundaries. Set 'how' to 'right' to preserve polygon geometries.\n",
    "final_geo = gpd.sjoin(current_geo, boundaries, how = 'right', op='within')"
   ]
  },
  {
   "cell_type": "code",
   "execution_count": null,
   "metadata": {
    "collapsed": true
   },
   "outputs": [],
   "source": [
    "#Next, dissolve by neighborhoods to get sum of units\n",
    "final_geo = final_geo[['NHOOD', 'geometry', 'net_units', 'net_affordable_units']]\n",
    "final_geo = final_geo.dissolve(by=['NHOOD'], aggfunc='sum')\n",
    "\n",
    "final_geo['net_units'].fillna(0, inplace = True)\n",
    "final_geo['net_affordable_units'].fillna(0, inplace = True)\n",
    "\n",
    "final_geo['net_units'] = final_geo['net_units'].astype(int)\n",
    "final_geo['net_affordable_units'] = final_geo['net_affordable_units'].astype(int)\n",
    "\n",
    "final_geo['name']=final_geo.index"
   ]
  },
  {
   "cell_type": "code",
   "execution_count": null,
   "metadata": {
    "collapsed": true
   },
   "outputs": [],
   "source": [
    "#Define function to create categories for javascript maps. Each category will be separate dot color\n",
    "def cats(value):\n",
    "    if (value['net_units'] >=0) & (value['net_units']<=50): \n",
    "        field = 0\n",
    "        \n",
    "    elif (value['net_units'] >=51) & (value['net_units']<=200):\n",
    "        field = 1\n",
    "        \n",
    "    elif (value['net_units'] >=201) & (value['net_units']<=500):\n",
    "        field = 2\n",
    "        \n",
    "    elif (value['net_units'] >=501) & (value['net_units']<=2000):\n",
    "        field = 3\n",
    "    else: \n",
    "        field = 4\n",
    "        \n",
    "    return field\n",
    "\n",
    "\n",
    "final_geo['unitcat'] = final_geo.apply(cats, axis = 1)"
   ]
  },
  {
   "cell_type": "code",
   "execution_count": null,
   "metadata": {
    "collapsed": true
   },
   "outputs": [],
   "source": [
    "#make variables into a string with commas before export\n",
    "final_geo['net_units'] = final_geo['net_units'].astype(int)\n",
    "final_geo['net_units'] = final_geo['net_units'].map(lambda x: '{:,}'.format(x), na_action='ignore')"
   ]
  },
  {
   "cell_type": "code",
   "execution_count": null,
   "metadata": {
    "collapsed": true
   },
   "outputs": [],
   "source": [
    "#export to geojson object\n",
    "export_path = code_path\n",
    "with open(export_path+'/Neighborhood Maps/nb41_current.js', 'w') as f:\n",
    "    f.write('var dataset6 = {};'.format(final_geo.to_json()))"
   ]
  },
  {
   "cell_type": "markdown",
   "metadata": {
    "collapsed": true
   },
   "source": [
    "# Section 3. Create Polygons with Non-residential development - recently completed"
   ]
  },
  {
   "cell_type": "code",
   "execution_count": null,
   "metadata": {
    "collapsed": true
   },
   "outputs": [],
   "source": [
    "#import commercial development data\n",
    "nr_df = pd.read_csv(import_path+\"/pipeline_com.csv\")"
   ]
  },
  {
   "cell_type": "code",
   "execution_count": null,
   "metadata": {
    "collapsed": true
   },
   "outputs": [],
   "source": [
    "#some initial cleaning\n",
    "vars = ['comm_sqft', 'comm_sqft_net']\n",
    "#do some initial data cleaning\n",
    "for item in vars:\n",
    "    nr_df[item] = nr_df[item].fillna(0)"
   ]
  },
  {
   "cell_type": "code",
   "execution_count": null,
   "metadata": {
    "collapsed": false
   },
   "outputs": [],
   "source": [
    "#create dataframe for construction ending over time. This is a method to identify where construction ended,\n",
    "#at which point the data drops out of the pipeline\n",
    "cons_end_nr = nr_df[nr_df['status'] == \"CONSTRUCTION\"].groupby(['lot_number'], as_index=False)['quarter_order'].max()\n",
    "cons_end_nr.rename(columns = {'quarter_order': 'consdate'}, inplace = True)\n",
    "#merge data together to identify quarter that projects were built\n",
    "nr_df2 = nr_df.merge(cons_end_nr, on = 'lot_number', how = \"outer\")\n",
    "nr_df2 = nr_df2[nr_df2['consdate'] == nr_df2['quarter_order']]\n",
    "nr_df2 = nr_df2[nr_df2['quarter_order'] != 19]"
   ]
  },
  {
   "cell_type": "code",
   "execution_count": null,
   "metadata": {
    "collapsed": false
   },
   "outputs": [],
   "source": [
    "#create geodataframe for current development\n",
    "crs = {'init' :'epsg:4326'}\n",
    "geometry = [Point(xy) for xy in zip(nr_df2.lon, nr_df2.lat)]\n",
    "nr_geo = GeoDataFrame(nr_df2, crs=crs, geometry=geometry)"
   ]
  },
  {
   "cell_type": "code",
   "execution_count": null,
   "metadata": {
    "collapsed": true
   },
   "outputs": [],
   "source": [
    "#First, spatial join between points and neighborhood boundaries. Set 'how' to 'right' to preserve polygon geometries.\n",
    "final_geo = gpd.sjoin(nr_geo, boundaries, how = 'right', op='within')"
   ]
  },
  {
   "cell_type": "code",
   "execution_count": null,
   "metadata": {
    "collapsed": false
   },
   "outputs": [],
   "source": [
    "#Next, dissolve by neighborhoods to get sum of units\n",
    "final_geo = final_geo[['NHOOD', 'geometry', 'comm_sqft_net', 'comm_sqft']]\n",
    "final_geo = final_geo.dissolve(by=['NHOOD'], aggfunc='sum')\n",
    "\n",
    "final_geo['comm_sqft'].fillna(0, inplace = True)\n",
    "final_geo['comm_sqft_net'].fillna(0, inplace = True)\n",
    "\n",
    "final_geo['comm_sqft'] = final_geo['comm_sqft'].astype(int)\n",
    "final_geo['comm_sqft_net'] = final_geo['comm_sqft_net'].astype(int)\n",
    "\n",
    "final_geo['name']=final_geo.index"
   ]
  },
  {
   "cell_type": "code",
   "execution_count": null,
   "metadata": {
    "collapsed": false
   },
   "outputs": [],
   "source": [
    "final_geo['comm_sqft_net'].describe(percentiles = [.05, .1, .2, .3, .4, .5, .6, .7, .8, .9, .95])"
   ]
  },
  {
   "cell_type": "code",
   "execution_count": null,
   "metadata": {
    "collapsed": true
   },
   "outputs": [],
   "source": [
    "#Define function to create categories for javascript maps. Each category will be separate dot color\n",
    "def cats(value):\n",
    "    if value['comm_sqft_net'] < -5000: \n",
    "        field = 0\n",
    "        \n",
    "    elif (value['comm_sqft_net'] >= -5000) & (value['comm_sqft_net']< 0):\n",
    "        field = 1\n",
    "        \n",
    "    elif (value['comm_sqft_net'] >= 0) & (value['comm_sqft_net'] <= 5000):\n",
    "        field = 2\n",
    "        \n",
    "    elif (value['comm_sqft_net'] >= 5001) & (value['comm_sqft_net'] <= 10000):\n",
    "        field = 3\n",
    "        \n",
    "    elif (value['comm_sqft_net'] >=10001) & (value['comm_sqft_net'] <= 50000):\n",
    "        field = 4  \n",
    "        \n",
    "    else: \n",
    "        field = 5\n",
    "        \n",
    "    return field\n",
    "\n",
    "\n",
    "final_geo['unitcat'] = final_geo.apply(cats, axis = 1)"
   ]
  },
  {
   "cell_type": "code",
   "execution_count": null,
   "metadata": {
    "collapsed": true
   },
   "outputs": [],
   "source": [
    "#make variables into a string with commas before export\n",
    "final_geo['comm_sqft_net'] = final_geo['comm_sqft_net'].astype(int)\n",
    "final_geo['comm_sqft_net'] = final_geo['comm_sqft_net'].map(lambda x: '{:,}'.format(x), na_action='ignore')"
   ]
  },
  {
   "cell_type": "code",
   "execution_count": null,
   "metadata": {
    "collapsed": true
   },
   "outputs": [],
   "source": [
    "#export to geojson object\n",
    "export_path = code_path\n",
    "with open(export_path+'/Neighborhood Maps/nb41_comm.js', 'w') as f:\n",
    "    f.write('var dataset7 = {};'.format(final_geo.to_json()))"
   ]
  },
  {
   "cell_type": "markdown",
   "metadata": {},
   "source": [
    "# Section 4. Create Polygons with Non-residential development -currently proposed"
   ]
  },
  {
   "cell_type": "code",
   "execution_count": null,
   "metadata": {
    "collapsed": true
   },
   "outputs": [],
   "source": [
    "#isolate currently proposed development\n",
    "current = nr_df[nr_df['quarter']=='Q1-2017']"
   ]
  },
  {
   "cell_type": "code",
   "execution_count": null,
   "metadata": {
    "collapsed": false
   },
   "outputs": [],
   "source": [
    "#create geodataframe for current development\n",
    "crs = {'init' :'epsg:4326'}\n",
    "geometry = [Point(xy) for xy in zip(current.lon, current.lat)]\n",
    "current_geo = GeoDataFrame(current, crs=crs, geometry=geometry)"
   ]
  },
  {
   "cell_type": "code",
   "execution_count": null,
   "metadata": {
    "collapsed": true
   },
   "outputs": [],
   "source": [
    "#First, spatial join between points and neighborhood boundaries. Set 'how' to 'right' to preserve polygon geometries.\n",
    "final_geo = gpd.sjoin(current_geo, boundaries, how = 'right', op='within')"
   ]
  },
  {
   "cell_type": "code",
   "execution_count": null,
   "metadata": {
    "collapsed": true
   },
   "outputs": [],
   "source": [
    "#Next, dissolve by neighborhoods to get sum of units\n",
    "final_geo = final_geo[['NHOOD', 'geometry', 'comm_sqft_net', 'comm_sqft']]\n",
    "final_geo = final_geo.dissolve(by=['NHOOD'], aggfunc='sum')\n",
    "\n",
    "final_geo['comm_sqft'].fillna(0, inplace = True)\n",
    "final_geo['comm_sqft_net'].fillna(0, inplace = True)\n",
    "\n",
    "final_geo['comm_sqft'] = final_geo['comm_sqft'].astype(int)\n",
    "final_geo['comm_sqft_net'] = final_geo['comm_sqft_net'].astype(int)\n",
    "\n",
    "final_geo['name']=final_geo.index"
   ]
  },
  {
   "cell_type": "code",
   "execution_count": null,
   "metadata": {
    "collapsed": true
   },
   "outputs": [],
   "source": [
    "#Define function to create categories for javascript maps. Each category will be separate dot color\n",
    "def cats(value):\n",
    "    if value['comm_sqft_net'] < -5000: \n",
    "        field = 0\n",
    "        \n",
    "    elif (value['comm_sqft_net'] >= -5000) & (value['comm_sqft_net']< 0):\n",
    "        field = 1\n",
    "        \n",
    "    elif (value['comm_sqft_net'] >= 0) & (value['comm_sqft_net'] <= 5000):\n",
    "        field = 2\n",
    "        \n",
    "    elif (value['comm_sqft_net'] >= 5001) & (value['comm_sqft_net'] <= 10000):\n",
    "        field = 3\n",
    "        \n",
    "    elif (value['comm_sqft_net'] >=10001) & (value['comm_sqft_net'] <= 50000):\n",
    "        field = 4  \n",
    "        \n",
    "    else: \n",
    "        field = 5\n",
    "        \n",
    "    return field\n",
    "\n",
    "\n",
    "final_geo['unitcat'] = final_geo.apply(cats, axis = 1)"
   ]
  },
  {
   "cell_type": "code",
   "execution_count": null,
   "metadata": {
    "collapsed": true
   },
   "outputs": [],
   "source": [
    "#make variables into a string with commas before export\n",
    "final_geo['comm_sqft_net'] = final_geo['comm_sqft_net'].astype(int)\n",
    "final_geo['comm_sqft_net'] = final_geo['comm_sqft_net'].map(lambda x: '{:,}'.format(x), na_action='ignore')"
   ]
  },
  {
   "cell_type": "code",
   "execution_count": null,
   "metadata": {
    "collapsed": true
   },
   "outputs": [],
   "source": [
    "#export to geojson object\n",
    "export_path = code_path\n",
    "with open(export_path+'/Neighborhood Maps/nb41_comm_curr.js', 'w') as f:\n",
    "    f.write('var dataset8 = {};'.format(final_geo.to_json()))"
   ]
  },
  {
   "cell_type": "code",
   "execution_count": null,
   "metadata": {
    "collapsed": false
   },
   "outputs": [],
   "source": [
    "final_geo.head()"
   ]
  },
  {
   "cell_type": "code",
   "execution_count": null,
   "metadata": {
    "collapsed": true
   },
   "outputs": [],
   "source": []
  }
 ],
 "metadata": {
  "anaconda-cloud": {},
  "kernelspec": {
   "display_name": "Python [Root]",
   "language": "python",
   "name": "Python [Root]"
  },
  "language_info": {
   "codemirror_mode": {
    "name": "ipython",
    "version": 3
   },
   "file_extension": ".py",
   "mimetype": "text/x-python",
   "name": "python",
   "nbconvert_exporter": "python",
   "pygments_lexer": "ipython3",
   "version": "3.5.2"
  }
 },
 "nbformat": 4,
 "nbformat_minor": 0
}
