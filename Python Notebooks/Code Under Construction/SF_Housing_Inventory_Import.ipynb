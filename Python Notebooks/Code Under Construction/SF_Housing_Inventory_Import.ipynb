{
 "cells": [
  {
   "cell_type": "markdown",
   "metadata": {
    "collapsed": true
   },
   "source": [
    "# Housing Inventory Import\n",
    "\n",
    "This notebook imports the SF Housing Inventory data from the SF open data portal. This is an alternative to development activity from the SF Development Pipeline, which I used for my CP 255 final project. "
   ]
  },
  {
   "cell_type": "code",
   "execution_count": 37,
   "metadata": {
    "collapsed": true
   },
   "outputs": [],
   "source": [
    "#import pandas\n",
    "import pandas as pd\n",
    "import numpy as np\n",
    "import re as re\n",
    "import os\n",
    "import requests  # library for accessing content from web URLs\n",
    "import pprint  # library for making Python data structures readable\n",
    "pp = pprint.PrettyPrinter()\n",
    "import json    # library for working with JSON-formatted text strings\n",
    "import time\n",
    "from geopy.geocoders import GoogleV3 #google geocoding\n",
    "pd.set_option('display.max_row', 1000) #sets max rows to be seen\n",
    "pd.set_option('display.max_columns', 50) #Set max column width to 50"
   ]
  },
  {
   "cell_type": "markdown",
   "metadata": {},
   "source": [
    "# Import Data"
   ]
  },
  {
   "cell_type": "code",
   "execution_count": 38,
   "metadata": {
    "collapsed": false
   },
   "outputs": [],
   "source": [
    "#set directory for one file not available through API\n",
    "root = '/Users/briangoggin/Dropbox/CP 255/SF Development Project'\n",
    "raw = root+'/Raw Data/'\n",
    "\n",
    "d2014 = 'https://data.sfgov.org/resource/b8d6-zthg.json'\n",
    "d2013 = 'https://data.sfgov.org/resource/sjse-8gyy.json'\n",
    "d2012 = 'https://data.sfgov.org/resource/a64c-96a5.json'\n",
    "d2011 = 'https://data.sfgov.org/resource/pwiv-ej3p.json'"
   ]
  },
  {
   "cell_type": "code",
   "execution_count": 39,
   "metadata": {
    "collapsed": false
   },
   "outputs": [],
   "source": [
    "#import via excel\n",
    "df2015 = pd.read_excel(raw+'Housing Inventory/2015_datasf.xlsx', sheetname = '2015Completes')"
   ]
  },
  {
   "cell_type": "code",
   "execution_count": 40,
   "metadata": {
    "collapsed": false
   },
   "outputs": [
    {
     "data": {
      "text/html": [
       "<div>\n",
       "<table border=\"1\" class=\"dataframe\">\n",
       "  <thead>\n",
       "    <tr style=\"text-align: right;\">\n",
       "      <th></th>\n",
       "      <th>address</th>\n",
       "      <th>block</th>\n",
       "      <th>lot</th>\n",
       "      <th>status</th>\n",
       "      <th>latest_date</th>\n",
       "      <th>units</th>\n",
       "      <th>net_units</th>\n",
       "      <th>affordable_units</th>\n",
       "      <th>zone</th>\n",
       "      <th>year</th>\n",
       "      <th>lat</th>\n",
       "      <th>lon</th>\n",
       "    </tr>\n",
       "  </thead>\n",
       "  <tbody>\n",
       "    <tr>\n",
       "      <th>0</th>\n",
       "      <td>1400 MISSION ST, San Francisco, CA</td>\n",
       "      <td>3507</td>\n",
       "      <td>042</td>\n",
       "      <td>COMPLETE</td>\n",
       "      <td>2015-12-22</td>\n",
       "      <td>190.0</td>\n",
       "      <td>190.0</td>\n",
       "      <td>167.0</td>\n",
       "      <td>C-3-G</td>\n",
       "      <td>2015</td>\n",
       "      <td>37.775283</td>\n",
       "      <td>-122.416490</td>\n",
       "    </tr>\n",
       "    <tr>\n",
       "      <th>1</th>\n",
       "      <td>255 BROADWAY *, San Francisco, CA</td>\n",
       "      <td>0165</td>\n",
       "      <td>021</td>\n",
       "      <td>COMPLETE</td>\n",
       "      <td>2015-02-12</td>\n",
       "      <td>75.0</td>\n",
       "      <td>75.0</td>\n",
       "      <td>74.0</td>\n",
       "      <td>C-2</td>\n",
       "      <td>2015</td>\n",
       "      <td>37.798299</td>\n",
       "      <td>-122.401629</td>\n",
       "    </tr>\n",
       "    <tr>\n",
       "      <th>2</th>\n",
       "      <td>1100 OCEAN AV, San Francisco, CA</td>\n",
       "      <td>3180</td>\n",
       "      <td>001</td>\n",
       "      <td>COMPLETE</td>\n",
       "      <td>2015-02-23</td>\n",
       "      <td>71.0</td>\n",
       "      <td>71.0</td>\n",
       "      <td>70.0</td>\n",
       "      <td>OCEAN AVE NCT</td>\n",
       "      <td>2015</td>\n",
       "      <td>37.725577</td>\n",
       "      <td>-122.454153</td>\n",
       "    </tr>\n",
       "    <tr>\n",
       "      <th>3</th>\n",
       "      <td>280 BEALE ST, San Francisco, CA</td>\n",
       "      <td>3738</td>\n",
       "      <td>004</td>\n",
       "      <td>TCO ISSUED</td>\n",
       "      <td>2015-06-23</td>\n",
       "      <td>70.0</td>\n",
       "      <td>70.0</td>\n",
       "      <td>69.0</td>\n",
       "      <td>TB DTR</td>\n",
       "      <td>2015</td>\n",
       "      <td>37.788706</td>\n",
       "      <td>-122.393609</td>\n",
       "    </tr>\n",
       "    <tr>\n",
       "      <th>4</th>\n",
       "      <td>100 VAN NESS AV, San Francisco, CA</td>\n",
       "      <td>0814</td>\n",
       "      <td>020</td>\n",
       "      <td>PRE-FINAL</td>\n",
       "      <td>2015-05-05</td>\n",
       "      <td>399.0</td>\n",
       "      <td>399.0</td>\n",
       "      <td>48.0</td>\n",
       "      <td>C-3-G</td>\n",
       "      <td>2015</td>\n",
       "      <td>37.776721</td>\n",
       "      <td>-122.419177</td>\n",
       "    </tr>\n",
       "  </tbody>\n",
       "</table>\n",
       "</div>"
      ],
      "text/plain": [
       "                              address block  lot      status latest_date  \\\n",
       "0  1400 MISSION ST, San Francisco, CA  3507  042    COMPLETE  2015-12-22   \n",
       "1   255 BROADWAY *, San Francisco, CA  0165  021    COMPLETE  2015-02-12   \n",
       "2    1100 OCEAN AV, San Francisco, CA  3180  001    COMPLETE  2015-02-23   \n",
       "3     280 BEALE ST, San Francisco, CA  3738  004  TCO ISSUED  2015-06-23   \n",
       "4  100 VAN NESS AV, San Francisco, CA  0814  020   PRE-FINAL  2015-05-05   \n",
       "\n",
       "   units  net_units  affordable_units           zone  year        lat  \\\n",
       "0  190.0      190.0             167.0          C-3-G  2015  37.775283   \n",
       "1   75.0       75.0              74.0            C-2  2015  37.798299   \n",
       "2   71.0       71.0              70.0  OCEAN AVE NCT  2015  37.725577   \n",
       "3   70.0       70.0              69.0         TB DTR  2015  37.788706   \n",
       "4  399.0      399.0              48.0          C-3-G  2015  37.776721   \n",
       "\n",
       "          lon  \n",
       "0 -122.416490  \n",
       "1 -122.401629  \n",
       "2 -122.454153  \n",
       "3 -122.393609  \n",
       "4 -122.419177  "
      ]
     },
     "execution_count": 40,
     "metadata": {},
     "output_type": "execute_result"
    }
   ],
   "source": [
    "df2015['address'] = df2015['Address']\n",
    "df2015['address'] = df2015['address'] + \", San Francisco, CA\" #add city and state to address field for consistency\n",
    "df2015['block'] = df2015['BLOCK']\n",
    "df2015['lot'] = df2015['LOT']\n",
    "df2015['status'] = df2015['ACTION']\n",
    "df2015['latest_date'] = df2015['ACTDATE']\n",
    "df2015['units'] = df2015['UNITS']\n",
    "df2015['net_units'] = df2015['NETUNITS']\n",
    "df2015['affordable_units'] = df2015['AFFHSG']\n",
    "df2015['zone'] = df2015['ZONING']\n",
    "df2015['lat'] = df2015['Y']\n",
    "df2015['lon'] = df2015['X']\n",
    "df2015['year'] = '2015'\n",
    "\n",
    "varlist = ['address', 'block', 'lot', 'status', 'latest_date', 'units', \n",
    "           'net_units', 'affordable_units', 'zone', 'year', 'lat' ,'lon']\n",
    "\n",
    "df2015= df2015[varlist]\n",
    "df2015.head()"
   ]
  },
  {
   "cell_type": "code",
   "execution_count": 41,
   "metadata": {
    "collapsed": true
   },
   "outputs": [],
   "source": [
    "#define function for importing other data, which can be called via SF open data portal API\n",
    "\n",
    "def importdata(year, yearvalue, field1, field2, field3, field4, field5, field6, field7, field8, field9):\n",
    "    '''\n",
    "    This function calls the API endpoint year and returns a dataframe with the desired columns.\n",
    "    field1=geogfield2 represent the desired fields as they are named at the API endpoint\n",
    "    '''\n",
    "    \n",
    "    def includekey(field):\n",
    "        '''\n",
    "        This function takes a given field from the API endpoint and creates a list out of its entires.\n",
    "        '''\n",
    "        list = []\n",
    "        for item in data: \n",
    "            if field in item.keys():\n",
    "                list.append(item[field])\n",
    "            else:\n",
    "                list.append(np.nan)\n",
    "        return list\n",
    "    \n",
    "    response = requests.get(year)\n",
    "    results = response.text\n",
    "    data = json.loads(results) #data is a list at this point\n",
    "    \n",
    "    #import fields\n",
    "    d = {}\n",
    "    d['block'] = includekey(field1)\n",
    "    d['lot'] = includekey(field2)\n",
    "    d['address'] = includekey(field3)\n",
    "    d['status'] = includekey(field4)\n",
    "    d['latest_date'] = includekey(field5)\n",
    "    d['units'] = includekey(field6)\n",
    "    d['net_units'] = includekey(field7)\n",
    "    d['affordable_units'] = includekey(field8)\n",
    "    d['zone'] = includekey(field9)\n",
    "\n",
    "    df = pd.DataFrame.from_dict(d)\n",
    "    df['year'] = yearvalue\n",
    "    \n",
    "    return df"
   ]
  },
  {
   "cell_type": "code",
   "execution_count": 42,
   "metadata": {
    "collapsed": false
   },
   "outputs": [
    {
     "name": "stdout",
     "output_type": "stream",
     "text": [
      "2.7346601486206055\n"
     ]
    }
   ],
   "source": [
    "#import data\n",
    "start = time.time()\n",
    "df2014 = importdata(d2014, '2014', 'block', 'lot', 'stdadd', 'action', 'actdate', 'units', 'netunits', 'affhsg', 'zoning')\n",
    "df2013 = importdata(d2013, '2013', 'block', 'lot', 'standardaddress', 'change_type', 'actdate', 'units', 'netunits', 'aff_hsg', 'zoning')\n",
    "df2012 = importdata(d2012, '2012', 'block', 'lot', 'standardaddress', 'change_type', 'actdate', 'units', 'netunits', 'aff_hsg', 'zoning')\n",
    "df2011 = importdata(d2011, '2011', 'block', 'lot', 'standardad', 'change_type', 'actdate', 'units', 'netunits', 'affordable', 'zoning')\n",
    "end = time.time()\n",
    "print(end - start)"
   ]
  },
  {
   "cell_type": "code",
   "execution_count": 43,
   "metadata": {
    "collapsed": true
   },
   "outputs": [],
   "source": [
    "#append data together\n",
    "years = [df2013, df2012, df2011]\n",
    "full_df = df2014.append(years)"
   ]
  },
  {
   "cell_type": "code",
   "execution_count": 44,
   "metadata": {
    "collapsed": false
   },
   "outputs": [
    {
     "data": {
      "text/html": [
       "<div>\n",
       "<table border=\"1\" class=\"dataframe\">\n",
       "  <thead>\n",
       "    <tr style=\"text-align: right;\">\n",
       "      <th></th>\n",
       "      <th>address</th>\n",
       "      <th>affordable_units</th>\n",
       "      <th>block</th>\n",
       "      <th>latest_date</th>\n",
       "      <th>lot</th>\n",
       "      <th>net_units</th>\n",
       "      <th>status</th>\n",
       "      <th>units</th>\n",
       "      <th>zone</th>\n",
       "      <th>year</th>\n",
       "    </tr>\n",
       "  </thead>\n",
       "  <tbody>\n",
       "    <tr>\n",
       "      <th>0</th>\n",
       "      <td>1000 MASON ST</td>\n",
       "      <td>0.0</td>\n",
       "      <td>223</td>\n",
       "      <td>27-Mar-14</td>\n",
       "      <td>8</td>\n",
       "      <td>3</td>\n",
       "      <td>COMPLETE</td>\n",
       "      <td>51</td>\n",
       "      <td>RM-4</td>\n",
       "      <td>2014</td>\n",
       "    </tr>\n",
       "    <tr>\n",
       "      <th>1</th>\n",
       "      <td>1000 POWELL ST</td>\n",
       "      <td>0.0</td>\n",
       "      <td>211</td>\n",
       "      <td>24-Jun-14</td>\n",
       "      <td>15</td>\n",
       "      <td>1</td>\n",
       "      <td>COMPLETE</td>\n",
       "      <td>48</td>\n",
       "      <td>RC-4</td>\n",
       "      <td>2014</td>\n",
       "    </tr>\n",
       "    <tr>\n",
       "      <th>2</th>\n",
       "      <td>101 DUBOCE AV</td>\n",
       "      <td>2</td>\n",
       "      <td>3533</td>\n",
       "      <td>07-Aug-14</td>\n",
       "      <td>1</td>\n",
       "      <td>2</td>\n",
       "      <td>COMPLETE</td>\n",
       "      <td>7</td>\n",
       "      <td>NCT-3</td>\n",
       "      <td>2014</td>\n",
       "    </tr>\n",
       "    <tr>\n",
       "      <th>3</th>\n",
       "      <td>1017 CAPITOL AV</td>\n",
       "      <td>0.0</td>\n",
       "      <td>6985</td>\n",
       "      <td>12-Sep-14</td>\n",
       "      <td>10</td>\n",
       "      <td>-1</td>\n",
       "      <td>CFC ISSUED</td>\n",
       "      <td>1</td>\n",
       "      <td>RH-1</td>\n",
       "      <td>2014</td>\n",
       "    </tr>\n",
       "    <tr>\n",
       "      <th>4</th>\n",
       "      <td>1028 WISCONSIN ST</td>\n",
       "      <td>0.0</td>\n",
       "      <td>4219</td>\n",
       "      <td>06-Nov-14</td>\n",
       "      <td>3</td>\n",
       "      <td>2</td>\n",
       "      <td>CFC ISSUED</td>\n",
       "      <td>2</td>\n",
       "      <td>RH-2</td>\n",
       "      <td>2014</td>\n",
       "    </tr>\n",
       "  </tbody>\n",
       "</table>\n",
       "</div>"
      ],
      "text/plain": [
       "             address affordable_units block latest_date lot net_units  \\\n",
       "0      1000 MASON ST              0.0   223   27-Mar-14   8         3   \n",
       "1     1000 POWELL ST              0.0   211   24-Jun-14  15         1   \n",
       "2      101 DUBOCE AV                2  3533   07-Aug-14   1         2   \n",
       "3    1017 CAPITOL AV              0.0  6985   12-Sep-14  10        -1   \n",
       "4  1028 WISCONSIN ST              0.0  4219   06-Nov-14   3         2   \n",
       "\n",
       "       status units   zone  year  \n",
       "0    COMPLETE    51   RM-4  2014  \n",
       "1    COMPLETE    48   RC-4  2014  \n",
       "2    COMPLETE     7  NCT-3  2014  \n",
       "3  CFC ISSUED     1   RH-1  2014  \n",
       "4  CFC ISSUED     2   RH-2  2014  "
      ]
     },
     "execution_count": 44,
     "metadata": {},
     "output_type": "execute_result"
    }
   ],
   "source": [
    "full_df.head()"
   ]
  },
  {
   "cell_type": "code",
   "execution_count": 45,
   "metadata": {
    "collapsed": true
   },
   "outputs": [],
   "source": [
    "# Fill out address field prior to geocoding\n",
    "full_df['address'] = df2014['address'] + \", San Francisco, CA\""
   ]
  },
  {
   "cell_type": "markdown",
   "metadata": {},
   "source": [
    "# Geocoding"
   ]
  },
  {
   "cell_type": "code",
   "execution_count": 46,
   "metadata": {
    "collapsed": true
   },
   "outputs": [],
   "source": [
    "# set the pause duration between api requests\n",
    "pause = 0.1"
   ]
  },
  {
   "cell_type": "code",
   "execution_count": 47,
   "metadata": {
    "collapsed": true
   },
   "outputs": [],
   "source": [
    "# function that accepts an address string, sends it to the Google API, and returns the lat-long API result\n",
    "def geocode(address):\n",
    "    time.sleep(pause) #pause for some duration before each request, to not hammer their server\n",
    "    url = 'http://maps.googleapis.com/maps/api/geocode/json?address={}&sensor=false' #api url with placeholders\n",
    "    request = url.format(address) #fill in the placeholder with a variable\n",
    "    response = requests.get(request) #send the request to the server and get the response\n",
    "    data = response.json() #convert the response json string into a dict\n",
    "    \n",
    "    if len(data['results']) > 0: #if google was able to geolocate our address, extract lat-long from result\n",
    "        latitude = data['results'][0]['geometry']['location']['lat']\n",
    "        longitude = data['results'][0]['geometry']['location']['lng']\n",
    "        status = data['status'] #return geocode status\n",
    "        return '{},{},{}'.format(latitude, longitude, status) #return lat-long as a string in the format google likes"
   ]
  },
  {
   "cell_type": "code",
   "execution_count": 48,
   "metadata": {
    "collapsed": false
   },
   "outputs": [
    {
     "name": "stdout",
     "output_type": "stream",
     "text": [
      "380.8613860607147\n"
     ]
    }
   ],
   "source": [
    "# for each value in the address column, geocode it, save results as new df column\n",
    "start = time.time()\n",
    "full_df['latlng'] = full_df['address'].map(geocode)\n",
    "full_df['lat'] = full_df['latlng'].str.split(',').str[0]\n",
    "full_df['lon'] = full_df['latlng'].str.split(',').str[1]\n",
    "full_df['geocode_status'] = full_df['latlng'].str.split(',').str[2]\n",
    "end = time.time()\n",
    "print(end - start)"
   ]
  },
  {
   "cell_type": "code",
   "execution_count": 49,
   "metadata": {
    "collapsed": false
   },
   "outputs": [],
   "source": [
    "full_df['lon'] = full_df['lon'].astype(float)\n",
    "full_df['lat'] = full_df['lat'].astype(float)\n",
    "full_df['net_units'] = full_df['net_units'].astype(int)"
   ]
  },
  {
   "cell_type": "markdown",
   "metadata": {},
   "source": [
    "# Merge in 2015"
   ]
  },
  {
   "cell_type": "code",
   "execution_count": 50,
   "metadata": {
    "collapsed": true
   },
   "outputs": [],
   "source": [
    "full_df = df2015.append(full_df)"
   ]
  },
  {
   "cell_type": "code",
   "execution_count": 51,
   "metadata": {
    "collapsed": true
   },
   "outputs": [],
   "source": [
    "full_df[full_df['address'].isnull()] #only a few empty rows in 2015 with no address. Get rid of these\n",
    "full_df = full_df[full_df['address'].notnull()]"
   ]
  },
  {
   "cell_type": "markdown",
   "metadata": {},
   "source": [
    "# Final Cleaning and Export"
   ]
  },
  {
   "cell_type": "code",
   "execution_count": 53,
   "metadata": {
    "collapsed": false
   },
   "outputs": [],
   "source": [
    "#export data\n",
    "export_path = root+\"/Code/Maps/Examples Under Construction/\"\n",
    "full_df.to_csv(export_path+\"intermediate_HI.csv\")"
   ]
  },
  {
   "cell_type": "code",
   "execution_count": 54,
   "metadata": {
    "collapsed": false
   },
   "outputs": [
    {
     "data": {
      "text/plain": [
       "address             35\n",
       "affordable_units    11\n",
       "block               35\n",
       "lat                  0\n",
       "latest_date         25\n",
       "latlng               0\n",
       "lon                  0\n",
       "lot                 31\n",
       "net_units           35\n",
       "status               0\n",
       "units               35\n",
       "year                35\n",
       "zone                35\n",
       "unitcat             35\n",
       "dtype: int64"
      ]
     },
     "execution_count": 54,
     "metadata": {},
     "output_type": "execute_result"
    }
   ],
   "source": [
    "full_df[full_df['lat'].isnull()].count()"
   ]
  },
  {
   "cell_type": "code",
   "execution_count": null,
   "metadata": {
    "collapsed": true
   },
   "outputs": [],
   "source": []
  }
 ],
 "metadata": {
  "anaconda-cloud": {},
  "kernelspec": {
   "display_name": "Python [Root]",
   "language": "python",
   "name": "Python [Root]"
  },
  "language_info": {
   "codemirror_mode": {
    "name": "ipython",
    "version": 3
   },
   "file_extension": ".py",
   "mimetype": "text/x-python",
   "name": "python",
   "nbconvert_exporter": "python",
   "pygments_lexer": "ipython3",
   "version": "3.5.2"
  }
 },
 "nbformat": 4,
 "nbformat_minor": 0
}
