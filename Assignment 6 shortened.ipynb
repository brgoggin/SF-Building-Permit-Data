{
 "cells": [
  {
   "cell_type": "markdown",
   "metadata": {},
   "source": [
    "# Assignment 6\n",
    "In this assignment, I import data from the San Francisco development pipeline from SF Open data's API. I then explore residential development that is proposed or currently under construction in San Francisco in a blog post. At the end of the notebook, I include a link to the blog post. \n"
   ]
  },
  {
   "cell_type": "markdown",
   "metadata": {},
   "source": [
    "First, import the packages necessary for calling an API. "
   ]
  },
  {
   "cell_type": "code",
   "execution_count": null,
   "metadata": {
    "collapsed": true
   },
   "outputs": [],
   "source": [
    "#import packages\n",
    "import pandas as pd\n",
    "import matplotlib as mpl\n",
    "import matplotlib.pyplot as plt\n",
    "import numpy as np\n",
    "import re as re\n",
    "import json    # library for working with JSON-formatted text strings\n",
    "import requests  # library for accessing content from web URLs\n",
    "import pprint  # library for making Python data structures readable\n",
    "pp = pprint.PrettyPrinter()"
   ]
  },
  {
   "cell_type": "markdown",
   "metadata": {},
   "source": [
    "The SF Planning Department releases this data quarterly. Quarterly reports go back all the way to 2012. However, this data is messy and inconsistent. Therefore, for the purposes of this assignment, I have preserved some of the code in comments "
   ]
  },
  {
   "cell_type": "code",
   "execution_count": null,
   "metadata": {
    "collapsed": true
   },
   "outputs": [],
   "source": [
    "Q22016 = 'https://data.sfgov.org/resource/3n2r-nn4r.json'\n",
    "\n",
    "#Note as of (10/07/2016): holding off on importing these due to complications. \n",
    "#Some of the files below work with the below functions. Others do not. Still working this out.  \n",
    "#Q12016 = 'https://data.sfgov.org/resource/6iid-qfaz.json'\n",
    "#Q42015 = 'https://data.sfgov.org/resource/6jnk-ty34.json'\n",
    "#Q32015 = 'https://data.sfgov.org/resource/8qip-pyye.json'\n",
    "#Q22015 = 'https://data.sfgov.org/resource/b6nb-tyvq.json'\n",
    "#Q12015 = 'https://data.sfgov.org/resource/auw5-vpae.json'\n",
    "#Q42014 = 'https://data.sfgov.org/resource/ia2z-a7eh.json'\n",
    "#Q32014 = 'https://data.sfgov.org/resource/9xqb-guwy.json'"
   ]
  },
  {
   "cell_type": "code",
   "execution_count": null,
   "metadata": {
    "collapsed": true
   },
   "outputs": [],
   "source": [
    "def importdata(quarter, field1, field2, field3, field4, field5, field6, field7, field8, field9, geogfield1, geogfield2):\n",
    "    \n",
    "    def includekey(field):\n",
    "        list = []\n",
    "        for item in data: \n",
    "            if field in item.keys():\n",
    "                list.append(item[field])\n",
    "            else:\n",
    "                list.append(np.nan)\n",
    "        return list\n",
    "\n",
    "    def include_coor_key(one, two):\n",
    "        list = []\n",
    "        for item in data: \n",
    "            if field1 in item.keys():\n",
    "                list.append(item[one][two])\n",
    "            else:\n",
    "                list.append(np.nan)\n",
    "        return list\n",
    "    \n",
    "    response = requests.get(quarter)\n",
    "    results = response.text\n",
    "    data = json.loads(results) #data is a list at this point\n",
    "    \n",
    "    #import fields\n",
    "    d = {}\n",
    "    d['lot_number'] = includekey(field1)\n",
    "    d['address'] = includekey(field2)\n",
    "    d['status'] = includekey(field3)\n",
    "    d['latest_date'] = includekey(field4)\n",
    "    d['units'] = includekey(field5)\n",
    "    d['net_units'] = includekey(field6)\n",
    "    d['affordable_units'] = includekey(field7)\n",
    "    d['net_affordable_units'] = includekey(field8)\n",
    "    d['zone'] = includekey(field9)\n",
    "    d['lat_lon'] = include_coor_key(geogfield1, geogfield2)\n",
    "    \n",
    "    df = pd.DataFrame.from_dict(d)\n",
    "    \n",
    "    return df"
   ]
  },
  {
   "cell_type": "code",
   "execution_count": null,
   "metadata": {
    "collapsed": false
   },
   "outputs": [],
   "source": [
    "Q22016df = importdata(Q22016, 'apn', 'nameaddr', 'beststat', 'bestdate', 'units', 'unitsnet', 'aff', 'affnet', 'zoning_sim', 'location', 'coordinates')   \n",
    "#Q12016df = importdata(Q12016, 'apn', 'nameaddr', 'beststat', 'bestdate', 'units', 'unitsnet', 'affordable', 'affordable_net', 'zoning', 'location', 'coordinates')\n",
    "#Q42015df = importdata(Q42015, 'apn', 'nameaddr', 'beststat', 'bestdate', 'units', 'unitsnet', 'affordable', 'affordab_1', 'zoning_sim', 'geography', 'coordinates')\n",
    "#Q32015df = importdata(Q32015, 'apn', 'nameaddr', 'beststat', 'bestdate', 'units', 'unitsnet', 'affordable', 'affordablenet', 'zoning_sim', 'location', 'coordinates')\n",
    "#Q22015df = importdata(Q22015, 'apn', 'nameaddr', 'beststat', 'bestdate', 'units', 'unitsnet', 'affordable', 'affordablenet', 'zoning_sim', 'geography', 'coordinates')\n",
    "#Q12015df = importdata(Q12015, 'blklot', 'nameaddr', 'beststat', 'bestdate', 'units', 'unitsnet', 'affordable', 'affnet', 'zoning_sim', 'geography', 'coordinates')\n",
    "#Q42014df = importdata(Q42014, 'blklot', 'nameaddr', 'beststat', 'bestdate', 'units', 'unitsnet', 'affordable', 'affnet', 'zoning_sim', 'geography', 'coordinates')\n",
    "#Q32014df = importdata(Q32014, 'blocklot', 'location_1_address', 'best_stat', 'bestdate', 'units', 'net_added_units', 'affordable', 'affnet', 'zoning', 'location_1', 'coordinates')\n"
   ]
  },
  {
   "cell_type": "code",
   "execution_count": null,
   "metadata": {
    "collapsed": false
   },
   "outputs": [],
   "source": [
    "Q22016df.head()\n"
   ]
  },
  {
   "cell_type": "code",
   "execution_count": null,
   "metadata": {
    "collapsed": false
   },
   "outputs": [],
   "source": [
    "#Clean data after importing\n",
    "Q22016df['lon'] = Q22016df['lat_lon'].astype(str).str.split(',').str[0].str.strip('[')\n",
    "Q22016df['lat'] = Q22016df['lat_lon'].astype(str).str.split(',').str[1].str.strip(']')\n",
    "Q22016df['net_units'] = Q22016df['net_units'].astype(int) #convert to integer\n",
    "Q22016df['units'] = Q22016df['units'].astype(int) #convert to integer\n",
    "#filter out those observations that have no impact on residential construction (0 net units and 0 units)\n",
    "Q22016df = Q22016df[(Q22016df['units'] != 0) | (Q22016df['net_units'] != 0)]"
   ]
  },
  {
   "cell_type": "code",
   "execution_count": null,
   "metadata": {
    "collapsed": false
   },
   "outputs": [],
   "source": [
    "#Explore the data to figure out buckets to map in carto\n",
    "Q22016df[Q22016df['net_units'] > 0].describe(percentiles = [.1, .2, .3, .4, .5, .6, .7, .8, .9])"
   ]
  },
  {
   "cell_type": "code",
   "execution_count": null,
   "metadata": {
    "collapsed": true
   },
   "outputs": [],
   "source": [
    "export_path = \"Output/current_dev.csv\"\n",
    "Q22016df.to_csv(export_path)"
   ]
  },
  {
   "cell_type": "code",
   "execution_count": null,
   "metadata": {
    "collapsed": true
   },
   "outputs": [],
   "source": [
    "\n",
    "export_path = \"Output/current_dev.csv\"\n",
    "Q22016df.to_csv(export_path)"
   ]
  },
  {
   "cell_type": "code",
   "execution_count": null,
   "metadata": {
    "collapsed": true
   },
   "outputs": [],
   "source": [
    "#Blog Post: https://www.ocf.berkeley.edu/~bgoggin/2016/10/09/mapping-sf-residential-development/"
   ]
  }
 ],
 "metadata": {
  "kernelspec": {
   "display_name": "Python [Root]",
   "language": "python",
   "name": "Python [Root]"
  },
  "language_info": {
   "codemirror_mode": {
    "name": "ipython",
    "version": 3
   },
   "file_extension": ".py",
   "mimetype": "text/x-python",
   "name": "python",
   "nbconvert_exporter": "python",
   "pygments_lexer": "ipython3",
   "version": "3.5.2"
  }
 },
 "nbformat": 4,
 "nbformat_minor": 0
}
