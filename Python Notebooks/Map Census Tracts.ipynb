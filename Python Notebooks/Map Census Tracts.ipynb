{
 "cells": [
  {
   "cell_type": "markdown",
   "metadata": {},
   "source": [
    "# Map Census Tracts\n",
    "In this notebook, I use the development pipeline data of SF development in order to create an online map of residential construction by Census Tracts\n"
   ]
  },
  {
   "cell_type": "code",
   "execution_count": 36,
   "metadata": {
    "collapsed": false
   },
   "outputs": [],
   "source": [
    "#import packages\n",
    "import pandas as pd\n",
    "import numpy as np\n",
    "import re as re\n",
    "import json    # library for working with JSON-formatted text strings\n",
    "import requests  # library for accessing content from web URLs\n",
    "import pprint  # library for making Python data structures readable\n",
    "pp = pprint.PrettyPrinter()\n",
    "import geopandas as gpd\n",
    "from geopandas import GeoDataFrame\n",
    "from shapely.geometry import Point\n",
    "from geopy.distance import great_circle\n",
    "# magic command to display matplotlib plots inline within the ipython notebook\n",
    "%matplotlib inline"
   ]
  },
  {
   "cell_type": "code",
   "execution_count": 37,
   "metadata": {
    "collapsed": true
   },
   "outputs": [],
   "source": [
    "#specify file paths\n",
    "import_path = \"/Users/briangoggin/Dropbox/CP 255/SF Development Project/Intermediate Files/\"\n",
    "code_path = \"/Users/briangoggin/Dropbox/CP 255/SF Development Project/Code/Maps/\""
   ]
  },
  {
   "cell_type": "markdown",
   "metadata": {},
   "source": [
    "# Section 1: Create polygons with recently completed development"
   ]
  },
  {
   "cell_type": "markdown",
   "metadata": {},
   "source": [
    "## Determine constructed units over time"
   ]
  },
  {
   "cell_type": "markdown",
   "metadata": {},
   "source": [
    "First, I assume that units were constructed in the latest quarter for which the project had \"construction\" as a project status. I identify these observations."
   ]
  },
  {
   "cell_type": "code",
   "execution_count": 38,
   "metadata": {
    "collapsed": false
   },
   "outputs": [],
   "source": [
    "full_df = pd.read_csv(import_path+\"/pipeline.csv\")"
   ]
  },
  {
   "cell_type": "code",
   "execution_count": 39,
   "metadata": {
    "collapsed": false
   },
   "outputs": [],
   "source": [
    "#create dataframes for line graph of construction, BP, and BI starts over time\n",
    "cons_end = full_df[full_df['status'] == \"CONSTRUCTION\"].groupby(['lot_number'], as_index=False)['quarter_order'].max()\n",
    "cons_end.rename(columns = {'quarter_order': 'consdate'}, inplace = True)\n",
    "#merge data together to identify quarter that projects were built\n",
    "full_df2 = full_df.merge(cons_end, on = 'lot_number', how = \"outer\")\n",
    "full_df2 = full_df2[full_df2['consdate'] == full_df2['quarter_order']]\n",
    "full_df2 = full_df2[full_df2['quarter_order'] != 18]"
   ]
  },
  {
   "cell_type": "markdown",
   "metadata": {},
   "source": [
    "## Create Point Data"
   ]
  },
  {
   "cell_type": "code",
   "execution_count": 40,
   "metadata": {
    "collapsed": false
   },
   "outputs": [],
   "source": [
    "crs = {'init' :'epsg:4326'}\n",
    "geometry = [Point(xy) for xy in zip(full_df2.lon, full_df2.lat)]\n",
    "construction = GeoDataFrame(full_df2, crs=crs, geometry=geometry)\n",
    "construction.crs = {'init' :'epsg:4326'}\n",
    "#construction.plot();"
   ]
  },
  {
   "cell_type": "markdown",
   "metadata": {},
   "source": [
    "## Import Zillow Neighborhood Boundaries"
   ]
  },
  {
   "cell_type": "code",
   "execution_count": 41,
   "metadata": {
    "collapsed": false
   },
   "outputs": [],
   "source": [
    "root = '/Users/briangoggin/Dropbox/CP 255/SF Development Project/Raw Data'\n",
    "boundaries = gpd.read_file(root+'/SF Census Tracts/tl_2016_06_tract.shp')"
   ]
  },
  {
   "cell_type": "code",
   "execution_count": 42,
   "metadata": {
    "collapsed": false
   },
   "outputs": [],
   "source": [
    "#extract fips code\n",
    "boundaries['fips'] = boundaries['GEOID'].str[0:5]\n",
    "sf = boundaries[boundaries['fips'] =='06075']"
   ]
  },
  {
   "cell_type": "code",
   "execution_count": 43,
   "metadata": {
    "collapsed": false
   },
   "outputs": [],
   "source": [
    "#set boundaries into same geographic coordinate system as points\n",
    "sf.crs = {'init' :'epsg:4326'}"
   ]
  },
  {
   "cell_type": "markdown",
   "metadata": {},
   "source": [
    "## Combine Layers"
   ]
  },
  {
   "cell_type": "code",
   "execution_count": 44,
   "metadata": {
    "collapsed": false
   },
   "outputs": [],
   "source": [
    "#First, spatial join between points and neighborhood boundaries. Set 'how' to 'right' to preserve polygon geometries.\n",
    "sfcum = gpd.sjoin(construction, sf, how = 'right', op='within')"
   ]
  },
  {
   "cell_type": "code",
   "execution_count": 45,
   "metadata": {
    "collapsed": false
   },
   "outputs": [],
   "source": [
    "#Next, dissolve by neighborhoods to get sum of units\n",
    "sfcum['GEOID'] = sfcum['GEOID'].astype(int)\n",
    "sfcum = sfcum[['NAMELSAD','GEOID', 'geometry', 'net_units', 'net_affordable_units']]\n",
    "sf_map = sfcum.dissolve(by=['NAMELSAD', 'GEOID'], aggfunc='sum')\n",
    "\n",
    "sf_map['net_units'].fillna(0, inplace = True)\n",
    "sf_map['net_affordable_units'].fillna(0, inplace = True)\n",
    "\n",
    "sf_map['net_units'] = sf_map['net_units'].astype(int)\n",
    "sf_map['net_affordable_units'] = sf_map['net_affordable_units'].astype(int)\n",
    "\n",
    "sf_map['index'] = sf_map.index\n",
    "sf_map['name'] = sf_map['index'].astype(str).str.split(',').str[0].str.strip('(').str.replace(\"'\", '')\n",
    "sf_map['RegionID'] = sf_map['index'].astype(str).str.split(',').str[1].str.strip(')')\n",
    "sf_map.drop('index', axis = 1, inplace = True)\n",
    "#sf_map.head(20)"
   ]
  },
  {
   "cell_type": "code",
   "execution_count": 46,
   "metadata": {
    "collapsed": false
   },
   "outputs": [
    {
     "data": {
      "text/html": [
       "<div>\n",
       "<table border=\"1\" class=\"dataframe\">\n",
       "  <thead>\n",
       "    <tr style=\"text-align: right;\">\n",
       "      <th></th>\n",
       "      <th></th>\n",
       "      <th>geometry</th>\n",
       "      <th>net_units</th>\n",
       "      <th>net_affordable_units</th>\n",
       "      <th>name</th>\n",
       "      <th>RegionID</th>\n",
       "    </tr>\n",
       "    <tr>\n",
       "      <th>NAMELSAD</th>\n",
       "      <th>GEOID</th>\n",
       "      <th></th>\n",
       "      <th></th>\n",
       "      <th></th>\n",
       "      <th></th>\n",
       "      <th></th>\n",
       "    </tr>\n",
       "  </thead>\n",
       "  <tbody>\n",
       "    <tr>\n",
       "      <th>Census Tract 101</th>\n",
       "      <th>6075010100</th>\n",
       "      <td>POLYGON ((-122.421076 37.812889, -122.420182 3...</td>\n",
       "      <td>0</td>\n",
       "      <td>0</td>\n",
       "      <td>Census Tract 101</td>\n",
       "      <td>6075010100</td>\n",
       "    </tr>\n",
       "    <tr>\n",
       "      <th>Census Tract 102</th>\n",
       "      <th>6075010200</th>\n",
       "      <td>POLYGON ((-122.426625 37.80974, -122.426527 37...</td>\n",
       "      <td>9</td>\n",
       "      <td>0</td>\n",
       "      <td>Census Tract 102</td>\n",
       "      <td>6075010200</td>\n",
       "    </tr>\n",
       "    <tr>\n",
       "      <th>Census Tract 103</th>\n",
       "      <th>6075010300</th>\n",
       "      <td>POLYGON ((-122.418718 37.805932, -122.418381 3...</td>\n",
       "      <td>0</td>\n",
       "      <td>0</td>\n",
       "      <td>Census Tract 103</td>\n",
       "      <td>6075010300</td>\n",
       "    </tr>\n",
       "    <tr>\n",
       "      <th>Census Tract 104</th>\n",
       "      <th>6075010400</th>\n",
       "      <td>POLYGON ((-122.414877 37.803542, -122.413718 3...</td>\n",
       "      <td>1</td>\n",
       "      <td>0</td>\n",
       "      <td>Census Tract 104</td>\n",
       "      <td>6075010400</td>\n",
       "    </tr>\n",
       "    <tr>\n",
       "      <th>Census Tract 105</th>\n",
       "      <th>6075010500</th>\n",
       "      <td>POLYGON ((-122.405174 37.804763, -122.403495 3...</td>\n",
       "      <td>77</td>\n",
       "      <td>0</td>\n",
       "      <td>Census Tract 105</td>\n",
       "      <td>6075010500</td>\n",
       "    </tr>\n",
       "  </tbody>\n",
       "</table>\n",
       "</div>"
      ],
      "text/plain": [
       "                                                                      geometry  \\\n",
       "NAMELSAD         GEOID                                                           \n",
       "Census Tract 101 6075010100  POLYGON ((-122.421076 37.812889, -122.420182 3...   \n",
       "Census Tract 102 6075010200  POLYGON ((-122.426625 37.80974, -122.426527 37...   \n",
       "Census Tract 103 6075010300  POLYGON ((-122.418718 37.805932, -122.418381 3...   \n",
       "Census Tract 104 6075010400  POLYGON ((-122.414877 37.803542, -122.413718 3...   \n",
       "Census Tract 105 6075010500  POLYGON ((-122.405174 37.804763, -122.403495 3...   \n",
       "\n",
       "                             net_units  net_affordable_units  \\\n",
       "NAMELSAD         GEOID                                         \n",
       "Census Tract 101 6075010100          0                     0   \n",
       "Census Tract 102 6075010200          9                     0   \n",
       "Census Tract 103 6075010300          0                     0   \n",
       "Census Tract 104 6075010400          1                     0   \n",
       "Census Tract 105 6075010500         77                     0   \n",
       "\n",
       "                                         name     RegionID  \n",
       "NAMELSAD         GEOID                                      \n",
       "Census Tract 101 6075010100  Census Tract 101   6075010100  \n",
       "Census Tract 102 6075010200  Census Tract 102   6075010200  \n",
       "Census Tract 103 6075010300  Census Tract 103   6075010300  \n",
       "Census Tract 104 6075010400  Census Tract 104   6075010400  \n",
       "Census Tract 105 6075010500  Census Tract 105   6075010500  "
      ]
     },
     "execution_count": 46,
     "metadata": {},
     "output_type": "execute_result"
    }
   ],
   "source": [
    "sf_map.head()"
   ]
  },
  {
   "cell_type": "code",
   "execution_count": 49,
   "metadata": {
    "collapsed": false
   },
   "outputs": [
    {
     "data": {
      "text/plain": [
       "count      197.000000\n",
       "mean       139.426396\n",
       "std        836.697621\n",
       "min        -25.000000\n",
       "5%           0.000000\n",
       "10%          0.000000\n",
       "20%          0.200000\n",
       "30%          1.000000\n",
       "40%          2.000000\n",
       "50%          3.000000\n",
       "60%          5.000000\n",
       "70%          8.200000\n",
       "80%         28.800000\n",
       "90%        109.000000\n",
       "95%        350.000000\n",
       "max      10550.000000\n",
       "Name: net_units, dtype: float64"
      ]
     },
     "execution_count": 49,
     "metadata": {},
     "output_type": "execute_result"
    }
   ],
   "source": [
    "sf_map['net_units'].describe(percentiles = [.05, .1, .2, .3, .4, .5, .6, .7, .8, .9, .95])\n",
    "#sf_map[sf_map['net_units']<0]"
   ]
  },
  {
   "cell_type": "code",
   "execution_count": 50,
   "metadata": {
    "collapsed": true
   },
   "outputs": [],
   "source": [
    "#Define function to create categories for javascript maps. Each category will be separate dot color\n",
    "def cats(value):\n",
    "    \n",
    "    if (value['net_units'] < 0): \n",
    "        field = 0\n",
    "    \n",
    "    elif (value['net_units'] >=0) & (value['net_units']<=30): \n",
    "        field = 1\n",
    "        \n",
    "    elif (value['net_units'] >=31) & (value['net_units']<=50):\n",
    "        field = 2\n",
    "        \n",
    "    elif (value['net_units'] >=51) & (value['net_units']<=100):\n",
    "        field = 3\n",
    "        \n",
    "    elif (value['net_units'] >=101) & (value['net_units']<=300):\n",
    "        field = 4\n",
    "    else: \n",
    "        field = 5\n",
    "        \n",
    "    return field\n",
    "\n",
    "\n",
    "sf_map['unitcat'] = sf_map.apply(cats, axis = 1)"
   ]
  },
  {
   "cell_type": "code",
   "execution_count": 51,
   "metadata": {
    "collapsed": false
   },
   "outputs": [],
   "source": [
    "#export to geojson object\n",
    "export_path = code_path\n",
    "with open(export_path+'/Neighborhood Maps/sf_recent.js', 'w') as f:\n",
    "    f.write('var dataset = {};'.format(sf_map.to_json()))"
   ]
  },
  {
   "cell_type": "code",
   "execution_count": 52,
   "metadata": {
    "collapsed": true
   },
   "outputs": [],
   "source": [
    "#export to csv for affordability analysis\n",
    "export_path = import_path\n",
    "sf_map.to_csv(import_path+'/completed_tracts.csv')"
   ]
  },
  {
   "cell_type": "code",
   "execution_count": 53,
   "metadata": {
    "collapsed": false
   },
   "outputs": [
    {
     "data": {
      "text/plain": [
       "27467"
      ]
     },
     "execution_count": 53,
     "metadata": {},
     "output_type": "execute_result"
    }
   ],
   "source": [
    "sf_map['net_units'].sum()"
   ]
  },
  {
   "cell_type": "markdown",
   "metadata": {
    "collapsed": true
   },
   "source": [
    "# Section 2: Create polygons with currently proposed development only"
   ]
  },
  {
   "cell_type": "code",
   "execution_count": null,
   "metadata": {
    "collapsed": true
   },
   "outputs": [],
   "source": [
    "#isolate currently proposed development\n",
    "current = full_df[full_df['quarter']=='Q32016']"
   ]
  },
  {
   "cell_type": "code",
   "execution_count": null,
   "metadata": {
    "collapsed": true
   },
   "outputs": [],
   "source": [
    "#create geodataframe for current development\n",
    "crs = {'init' :'epsg:4326'}\n",
    "geometry = [Point(xy) for xy in zip(current.lon, current.lat)]\n",
    "current_geo = GeoDataFrame(current, crs=crs, geometry=geometry)"
   ]
  },
  {
   "cell_type": "code",
   "execution_count": null,
   "metadata": {
    "collapsed": true
   },
   "outputs": [],
   "source": [
    "#First, spatial join between points and neighborhood boundaries. Set 'how' to 'right' to preserve polygon geometries.\n",
    "final_geo = gpd.sjoin(current_geo, boundaries, how = 'right', op='within')"
   ]
  },
  {
   "cell_type": "code",
   "execution_count": null,
   "metadata": {
    "collapsed": true
   },
   "outputs": [],
   "source": [
    "#Next, dissolve by neighborhoods to get sum of units\n",
    "final_geo['REGIONID'] = final_geo['REGIONID'].astype(int)\n",
    "final_geo = final_geo[['NAME','REGIONID', 'geometry', 'net_units', 'net_affordable_units']]\n",
    "final_geo = final_geo.dissolve(by=['NAME', 'REGIONID'], aggfunc='sum')\n",
    "\n",
    "final_geo['net_units'].fillna(0, inplace = True)\n",
    "final_geo['net_affordable_units'].fillna(0, inplace = True)\n",
    "final_geo['net_units'] = final_geo['net_units'].astype(int)\n",
    "final_geo['net_affordable_units'] = final_geo['net_affordable_units'].astype(int)\n",
    "\n",
    "final_geo['index'] = final_geo.index\n",
    "final_geo['name'] = final_geo['index'].astype(str).str.split(',').str[0].str.strip('(').str.replace(\"'\", '')\n",
    "final_geo['RegionID'] = final_geo['index'].astype(str).str.split(',').str[1].str.strip(')')\n",
    "final_geo.drop('index', axis = 1, inplace = True)"
   ]
  },
  {
   "cell_type": "code",
   "execution_count": null,
   "metadata": {
    "collapsed": true
   },
   "outputs": [],
   "source": [
    "#Define function to create categories for javascript maps. Each category will be separate dot color\n",
    "def cats(value):\n",
    "    if (value['net_units'] >=0) & (value['net_units']<=50): \n",
    "        field = 0\n",
    "        \n",
    "    elif (value['net_units'] >=51) & (value['net_units']<=200):\n",
    "        field = 1\n",
    "        \n",
    "    elif (value['net_units'] >=201) & (value['net_units']<=500):\n",
    "        field = 2\n",
    "        \n",
    "    elif (value['net_units'] >=501) & (value['net_units']<=2000):\n",
    "        field = 3\n",
    "    else: \n",
    "        field = 4\n",
    "        \n",
    "    return field\n",
    "\n",
    "\n",
    "final_geo['unitcat'] = final_geo.apply(cats, axis = 1)"
   ]
  },
  {
   "cell_type": "code",
   "execution_count": null,
   "metadata": {
    "collapsed": true
   },
   "outputs": [],
   "source": [
    "#export to geojson object\n",
    "export_path = code_path\n",
    "with open(export_path+'/Neighborhood Maps/nb_current.js', 'w') as f:\n",
    "    f.write('var dataset2 = {};'.format(final_geo.to_json()))"
   ]
  },
  {
   "cell_type": "code",
   "execution_count": null,
   "metadata": {
    "collapsed": true
   },
   "outputs": [],
   "source": []
  }
 ],
 "metadata": {
  "anaconda-cloud": {},
  "kernelspec": {
   "display_name": "Python [Root]",
   "language": "python",
   "name": "Python [Root]"
  },
  "language_info": {
   "codemirror_mode": {
    "name": "ipython",
    "version": 3
   },
   "file_extension": ".py",
   "mimetype": "text/x-python",
   "name": "python",
   "nbconvert_exporter": "python",
   "pygments_lexer": "ipython3",
   "version": "3.5.2"
  }
 },
 "nbformat": 4,
 "nbformat_minor": 0
}
