{
 "cells": [
  {
   "cell_type": "markdown",
   "metadata": {
    "collapsed": true
   },
   "source": [
    "# Housing Inventory Export\n",
    "\n",
    "This notebook imports the cleaned (by \"Housing Inventory Import.ipynb\") SF Housing Inventory data from the SF open data portal. This is an alternative to development activity from the SF Development Pipeline, which I used for my CP 255 final project. "
   ]
  },
  {
   "cell_type": "code",
   "execution_count": 80,
   "metadata": {
    "collapsed": true
   },
   "outputs": [],
   "source": [
    "#import pandas\n",
    "import pandas as pd\n",
    "import numpy as np\n",
    "import re as re\n",
    "import os\n",
    "import requests  # library for accessing content from web URLs\n",
    "import pprint  # library for making Python data structures readable\n",
    "pp = pprint.PrettyPrinter()\n",
    "import json    # library for working with JSON-formatted text strings\n",
    "import time\n",
    "from geopy.geocoders import GoogleV3 #google geocoding\n",
    "pd.set_option('display.max_row', 1000) #sets max rows to be seen\n",
    "pd.set_option('display.max_columns', 50) #Set max column width to 50"
   ]
  },
  {
   "cell_type": "markdown",
   "metadata": {},
   "source": [
    "# Export Data to GeoJson"
   ]
  },
  {
   "cell_type": "code",
   "execution_count": 81,
   "metadata": {
    "collapsed": true
   },
   "outputs": [],
   "source": [
    "#set file path\n",
    "root = '/Users/briangoggin/Dropbox/CP 255/SF Development Project'"
   ]
  },
  {
   "cell_type": "code",
   "execution_count": 82,
   "metadata": {
    "collapsed": false
   },
   "outputs": [],
   "source": [
    "#import cleaned data\n",
    "import_path = root+\"/Code/Maps/Examples Under Construction\"\n",
    "full_df = pd.read_csv(import_path+\"/intermediate_HI.csv\")"
   ]
  },
  {
   "cell_type": "code",
   "execution_count": 83,
   "metadata": {
    "collapsed": true
   },
   "outputs": [],
   "source": [
    "#Define function to create categories for javascript maps. Each category will be separate dot color\n",
    "def cats(value):\n",
    "    if value['net_units'] <0: \n",
    "        field = 0\n",
    "        \n",
    "    elif (value['net_units'] >=0) & (value['net_units']<=15):\n",
    "        field = 1\n",
    "        \n",
    "    elif (value['net_units'] >=16) & (value['net_units']<=30):\n",
    "        field = 2\n",
    "        \n",
    "    elif (value['net_units'] >=31) & (value['net_units']<=50):\n",
    "        field = 3\n",
    "        \n",
    "    elif (value['net_units'] >=51) & (value['net_units']<=100):\n",
    "        field = 4  \n",
    "        \n",
    "    else: \n",
    "        field = 5\n",
    "        \n",
    "    return field\n",
    "\n",
    "\n",
    "full_df['unitcat'] = full_df.apply(cats, axis = 1)"
   ]
  },
  {
   "cell_type": "code",
   "execution_count": 84,
   "metadata": {
    "collapsed": false
   },
   "outputs": [],
   "source": [
    "#get rid of empty latlngs (temporary until I fix geocoding issues)\n",
    "full_df = full_df[full_df['lat'].notnull()]"
   ]
  },
  {
   "cell_type": "code",
   "execution_count": 85,
   "metadata": {
    "collapsed": true
   },
   "outputs": [],
   "source": [
    "#write function to export point data\n",
    "def df_to_geojson(df, properties, lat='latitude', lon='longitude'):\n",
    "    # create a new python dict to contain our geojson data, using geojson format\n",
    "    geojson = {'type':'FeatureCollection', 'features':[]}\n",
    "\n",
    "    # loop through each row in the dataframe and convert each row to geojson format\n",
    "    for _, row in df.iterrows():\n",
    "        # create a feature template to fill in\n",
    "        feature = {'type':'Feature',\n",
    "                   'properties':{},\n",
    "                   'geometry':{'type':'Point',\n",
    "                               'coordinates':[]}}\n",
    "\n",
    "        # fill in the coordinates\n",
    "        feature['geometry']['coordinates'] = [row[lon],row[lat]]\n",
    "\n",
    "        # for each column, get the value and add it as a new feature property\n",
    "        for prop in properties:\n",
    "            feature['properties'][prop] = row[prop]\n",
    "        \n",
    "        # add this feature (aka, converted dataframe row) to the list of features inside our dict\n",
    "        geojson['features'].append(feature)\n",
    "    \n",
    "    return geojson"
   ]
  },
  {
   "cell_type": "code",
   "execution_count": 86,
   "metadata": {
    "collapsed": false
   },
   "outputs": [],
   "source": [
    "# Omitting \"Latest Date\" variable here because it does not work with json output. Not needed for now anyway\n",
    "varlist = ['address', 'block', 'lot', 'status', 'units', \n",
    "           'net_units', 'affordable_units', 'zone', 'year', 'unitcat']\n",
    "\n",
    "geojson = df_to_geojson(full_df, varlist, 'lat', 'lon')"
   ]
  },
  {
   "cell_type": "code",
   "execution_count": 87,
   "metadata": {
    "collapsed": false
   },
   "outputs": [],
   "source": [
    "# save the geojson result to a file\n",
    "output_path = root+'/Code/Maps/Examples Under Construction/Housing Inventory'\n",
    "output_filename = output_path+'/data.js'\n",
    "with open(output_filename, 'w') as output_file:\n",
    "    output_file.write('var dataset = {};'.format(json.dumps(geojson, indent=4)))"
   ]
  },
  {
   "cell_type": "code",
   "execution_count": 88,
   "metadata": {
    "collapsed": false
   },
   "outputs": [
    {
     "data": {
      "text/html": [
       "<div>\n",
       "<table border=\"1\" class=\"dataframe\">\n",
       "  <thead>\n",
       "    <tr style=\"text-align: right;\">\n",
       "      <th></th>\n",
       "      <th>Unnamed: 0</th>\n",
       "      <th>address</th>\n",
       "      <th>affordable_units</th>\n",
       "      <th>block</th>\n",
       "      <th>lat</th>\n",
       "      <th>latest_date</th>\n",
       "      <th>latlng</th>\n",
       "      <th>lon</th>\n",
       "      <th>lot</th>\n",
       "      <th>net_units</th>\n",
       "      <th>status</th>\n",
       "      <th>units</th>\n",
       "      <th>year</th>\n",
       "      <th>zone</th>\n",
       "      <th>unitcat</th>\n",
       "    </tr>\n",
       "  </thead>\n",
       "  <tbody>\n",
       "    <tr>\n",
       "      <th>371</th>\n",
       "      <td>19</td>\n",
       "      <td>125 TRENTON ST, San Francisco, CA</td>\n",
       "      <td>1</td>\n",
       "      <td>179</td>\n",
       "      <td>37.796159</td>\n",
       "      <td>03-Sep-14</td>\n",
       "      <td>37.7961585,-122.4093167,OK</td>\n",
       "      <td>-122.409317</td>\n",
       "      <td>30</td>\n",
       "      <td>1.0</td>\n",
       "      <td>OK</td>\n",
       "      <td>5.0</td>\n",
       "      <td>2014</td>\n",
       "      <td>CRNC</td>\n",
       "      <td>1</td>\n",
       "    </tr>\n",
       "    <tr>\n",
       "      <th>600</th>\n",
       "      <td>19</td>\n",
       "      <td>125 TRENTON ST, San Francisco, CA</td>\n",
       "      <td>NaN</td>\n",
       "      <td>1127</td>\n",
       "      <td>37.796159</td>\n",
       "      <td>2013-05-15T00:00:00.000</td>\n",
       "      <td>37.7961585,-122.4093167,OK</td>\n",
       "      <td>-122.409317</td>\n",
       "      <td>64</td>\n",
       "      <td>19.0</td>\n",
       "      <td>OK</td>\n",
       "      <td>19.0</td>\n",
       "      <td>2013</td>\n",
       "      <td>RC-4</td>\n",
       "      <td>2</td>\n",
       "    </tr>\n",
       "    <tr>\n",
       "      <th>818</th>\n",
       "      <td>19</td>\n",
       "      <td>125 TRENTON ST, San Francisco, CA</td>\n",
       "      <td>2</td>\n",
       "      <td>3726</td>\n",
       "      <td>37.796159</td>\n",
       "      <td>12-Feb-12</td>\n",
       "      <td>37.7961585,-122.4093167,OK</td>\n",
       "      <td>-122.409317</td>\n",
       "      <td>75</td>\n",
       "      <td>11.0</td>\n",
       "      <td>OK</td>\n",
       "      <td>11.0</td>\n",
       "      <td>2012</td>\n",
       "      <td>RED</td>\n",
       "      <td>1</td>\n",
       "    </tr>\n",
       "    <tr>\n",
       "      <th>968</th>\n",
       "      <td>19</td>\n",
       "      <td>125 TRENTON ST, San Francisco, CA</td>\n",
       "      <td>NaN</td>\n",
       "      <td>3580</td>\n",
       "      <td>37.796159</td>\n",
       "      <td>NaN</td>\n",
       "      <td>37.7961585,-122.4093167,OK</td>\n",
       "      <td>-122.409317</td>\n",
       "      <td>035</td>\n",
       "      <td>3.0</td>\n",
       "      <td>OK</td>\n",
       "      <td>3.0</td>\n",
       "      <td>2011</td>\n",
       "      <td>RM-1</td>\n",
       "      <td>1</td>\n",
       "    </tr>\n",
       "  </tbody>\n",
       "</table>\n",
       "</div>"
      ],
      "text/plain": [
       "     Unnamed: 0                            address affordable_units block  \\\n",
       "371          19  125 TRENTON ST, San Francisco, CA                1   179   \n",
       "600          19  125 TRENTON ST, San Francisco, CA              NaN  1127   \n",
       "818          19  125 TRENTON ST, San Francisco, CA                2  3726   \n",
       "968          19  125 TRENTON ST, San Francisco, CA              NaN  3580   \n",
       "\n",
       "           lat              latest_date                      latlng  \\\n",
       "371  37.796159                03-Sep-14  37.7961585,-122.4093167,OK   \n",
       "600  37.796159  2013-05-15T00:00:00.000  37.7961585,-122.4093167,OK   \n",
       "818  37.796159                12-Feb-12  37.7961585,-122.4093167,OK   \n",
       "968  37.796159                      NaN  37.7961585,-122.4093167,OK   \n",
       "\n",
       "            lon  lot  net_units status  units  year  zone  unitcat  \n",
       "371 -122.409317   30        1.0     OK    5.0  2014  CRNC        1  \n",
       "600 -122.409317   64       19.0     OK   19.0  2013  RC-4        2  \n",
       "818 -122.409317   75       11.0     OK   11.0  2012   RED        1  \n",
       "968 -122.409317  035        3.0     OK    3.0  2011  RM-1        1  "
      ]
     },
     "execution_count": 88,
     "metadata": {},
     "output_type": "execute_result"
    }
   ],
   "source": [
    "full_df[full_df['address'] == '125 TRENTON ST, San Francisco, CA']"
   ]
  },
  {
   "cell_type": "code",
   "execution_count": null,
   "metadata": {
    "collapsed": true
   },
   "outputs": [],
   "source": []
  }
 ],
 "metadata": {
  "anaconda-cloud": {},
  "kernelspec": {
   "display_name": "Python [Root]",
   "language": "python",
   "name": "Python [Root]"
  },
  "language_info": {
   "codemirror_mode": {
    "name": "ipython",
    "version": 3
   },
   "file_extension": ".py",
   "mimetype": "text/x-python",
   "name": "python",
   "nbconvert_exporter": "python",
   "pygments_lexer": "ipython3",
   "version": "3.5.2"
  }
 },
 "nbformat": 4,
 "nbformat_minor": 0
}
