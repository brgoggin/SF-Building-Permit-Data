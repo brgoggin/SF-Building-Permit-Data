{
 "cells": [
  {
   "cell_type": "markdown",
   "metadata": {},
   "source": [
    "# Map Neighborhood\n",
    "In this notebook, I use the development pipeline data of SF development in order to create an online map of residential construction by PDAs. \n"
   ]
  },
  {
   "cell_type": "code",
   "execution_count": 19,
   "metadata": {
    "collapsed": false
   },
   "outputs": [],
   "source": [
    "#import packages\n",
    "import pandas as pd\n",
    "import numpy as np\n",
    "import re as re\n",
    "import json    # library for working with JSON-formatted text strings\n",
    "import requests  # library for accessing content from web URLs\n",
    "import pprint  # library for making Python data structures readable\n",
    "pp = pprint.PrettyPrinter()\n",
    "import geopandas as gpd\n",
    "from geopandas import GeoDataFrame\n",
    "from shapely.geometry import Point\n",
    "from geopy.distance import great_circle\n",
    "# magic command to display matplotlib plots inline within the ipython notebook\n",
    "%matplotlib inline\n",
    "\n",
    "pd.options.display.float_format = '{:.2f}'.format #display series descriptions in normal format (i.e. not scientific notation)"
   ]
  },
  {
   "cell_type": "code",
   "execution_count": 20,
   "metadata": {
    "collapsed": true
   },
   "outputs": [],
   "source": [
    "#specify file paths\n",
    "import_path = '../../Intermediate Files'\n",
    "code_path = '../../Code/Maps/'"
   ]
  },
  {
   "cell_type": "markdown",
   "metadata": {},
   "source": [
    "# Section 1: Create polygons with recently completed development"
   ]
  },
  {
   "cell_type": "markdown",
   "metadata": {},
   "source": [
    "## Determine constructed units over time"
   ]
  },
  {
   "cell_type": "markdown",
   "metadata": {},
   "source": [
    "First, I assume that units were constructed in the latest quarter for which the project had \"construction\" as a project status. I identify these observations."
   ]
  },
  {
   "cell_type": "code",
   "execution_count": 21,
   "metadata": {
    "collapsed": false
   },
   "outputs": [],
   "source": [
    "full_df = pd.read_csv(import_path+\"/pipeline.csv\")"
   ]
  },
  {
   "cell_type": "code",
   "execution_count": 22,
   "metadata": {
    "collapsed": true
   },
   "outputs": [],
   "source": [
    "#(03/02/2016) dropping Hunters Point shipyard until more robust solution. See Github issues for further explanation\n",
    "full_df = full_df[full_df['address'] != 'HUNTERS POINT SHIPYARD, PHASE II']"
   ]
  },
  {
   "cell_type": "code",
   "execution_count": 23,
   "metadata": {
    "collapsed": false
   },
   "outputs": [],
   "source": [
    "#create dataframe for construction ending over time. This is a method to identify where construction ended,\n",
    "#at which point the data drops out of the pipeline\n",
    "cons_end = full_df[full_df['status'] == \"CONSTRUCTION\"].groupby(['lot_number'], as_index=False)['quarter_order'].max()\n",
    "cons_end.rename(columns = {'quarter_order': 'consdate'}, inplace = True)\n",
    "#merge data together to identify quarter that projects were built\n",
    "full_df2 = full_df.merge(cons_end, on = 'lot_number', how = \"outer\")\n",
    "full_df2 = full_df2[full_df2['consdate'] == full_df2['quarter_order']]\n",
    "full_df2 = full_df2[full_df2['quarter_order'] != 19]"
   ]
  },
  {
   "cell_type": "markdown",
   "metadata": {},
   "source": [
    "## Create Point Data"
   ]
  },
  {
   "cell_type": "code",
   "execution_count": 24,
   "metadata": {
    "collapsed": false
   },
   "outputs": [],
   "source": [
    "crs = {'init' :'epsg:4326'}\n",
    "geometry = [Point(xy) for xy in zip(full_df2.lon, full_df2.lat)]\n",
    "construction = GeoDataFrame(full_df2, crs=crs, geometry=geometry)\n",
    "#construction.plot();"
   ]
  },
  {
   "cell_type": "code",
   "execution_count": 25,
   "metadata": {
    "collapsed": false
   },
   "outputs": [
    {
     "data": {
      "text/html": [
       "<div>\n",
       "<table border=\"1\" class=\"dataframe\">\n",
       "  <thead>\n",
       "    <tr style=\"text-align: right;\">\n",
       "      <th></th>\n",
       "      <th>Unnamed: 0</th>\n",
       "      <th>address</th>\n",
       "      <th>affordable_units</th>\n",
       "      <th>cie</th>\n",
       "      <th>cie_net</th>\n",
       "      <th>comm_sqft</th>\n",
       "      <th>comm_sqft_net</th>\n",
       "      <th>desc</th>\n",
       "      <th>ind</th>\n",
       "      <th>ind_net</th>\n",
       "      <th>...</th>\n",
       "      <th>status</th>\n",
       "      <th>units</th>\n",
       "      <th>vis</th>\n",
       "      <th>vis_net</th>\n",
       "      <th>zone</th>\n",
       "      <th>lon</th>\n",
       "      <th>lat</th>\n",
       "      <th>quarter_order</th>\n",
       "      <th>consdate</th>\n",
       "      <th>geometry</th>\n",
       "    </tr>\n",
       "  </thead>\n",
       "  <tbody>\n",
       "    <tr>\n",
       "      <th>16</th>\n",
       "      <td>940</td>\n",
       "      <td>721 BEACH ST</td>\n",
       "      <td>0.00</td>\n",
       "      <td>nan</td>\n",
       "      <td>nan</td>\n",
       "      <td>5589.00</td>\n",
       "      <td>5589.00</td>\n",
       "      <td>TO ERECT 3 STORIES, 1 UNIT RESIDENTIAL / COMME...</td>\n",
       "      <td>nan</td>\n",
       "      <td>nan</td>\n",
       "      <td>...</td>\n",
       "      <td>CONSTRUCTION</td>\n",
       "      <td>1.00</td>\n",
       "      <td>nan</td>\n",
       "      <td>nan</td>\n",
       "      <td>C-2</td>\n",
       "      <td>-122.42</td>\n",
       "      <td>37.81</td>\n",
       "      <td>14</td>\n",
       "      <td>14.00</td>\n",
       "      <td>POINT (-122.42095 37.806318)</td>\n",
       "    </tr>\n",
       "    <tr>\n",
       "      <th>41</th>\n",
       "      <td>1195</td>\n",
       "      <td>827 NORTH POINT ST</td>\n",
       "      <td>0.00</td>\n",
       "      <td>nan</td>\n",
       "      <td>nan</td>\n",
       "      <td>0.00</td>\n",
       "      <td>0.00</td>\n",
       "      <td>ERECT NEW 4-STORY 3 DWELLING UNITS CONDO.</td>\n",
       "      <td>nan</td>\n",
       "      <td>nan</td>\n",
       "      <td>...</td>\n",
       "      <td>CONSTRUCTION</td>\n",
       "      <td>3.00</td>\n",
       "      <td>nan</td>\n",
       "      <td>nan</td>\n",
       "      <td>RH-3</td>\n",
       "      <td>-122.42</td>\n",
       "      <td>37.81</td>\n",
       "      <td>16</td>\n",
       "      <td>16.00</td>\n",
       "      <td>POINT (-122.420870283 37.805369032)</td>\n",
       "    </tr>\n",
       "    <tr>\n",
       "      <th>143</th>\n",
       "      <td>159</td>\n",
       "      <td>853 LOMBARD ST</td>\n",
       "      <td>0.00</td>\n",
       "      <td>nan</td>\n",
       "      <td>nan</td>\n",
       "      <td>0.00</td>\n",
       "      <td>0.00</td>\n",
       "      <td>REVISE PA 2015-08-19-4706, CREATE 3RD UNIT- ch...</td>\n",
       "      <td>nan</td>\n",
       "      <td>nan</td>\n",
       "      <td>...</td>\n",
       "      <td>CONSTRUCTION</td>\n",
       "      <td>3.00</td>\n",
       "      <td>nan</td>\n",
       "      <td>nan</td>\n",
       "      <td>RM-1</td>\n",
       "      <td>-122.42</td>\n",
       "      <td>37.80</td>\n",
       "      <td>18</td>\n",
       "      <td>18.00</td>\n",
       "      <td>POINT (-122.415517 37.802228)</td>\n",
       "    </tr>\n",
       "    <tr>\n",
       "      <th>299</th>\n",
       "      <td>373</td>\n",
       "      <td>1945 Hyde St</td>\n",
       "      <td>nan</td>\n",
       "      <td>nan</td>\n",
       "      <td>nan</td>\n",
       "      <td>0.00</td>\n",
       "      <td>0.00</td>\n",
       "      <td>SITE PERMIT - CHANGE OF USE FROM PARKING GARAG...</td>\n",
       "      <td>nan</td>\n",
       "      <td>nan</td>\n",
       "      <td>...</td>\n",
       "      <td>CONSTRUCTION</td>\n",
       "      <td>7.00</td>\n",
       "      <td>nan</td>\n",
       "      <td>nan</td>\n",
       "      <td>NC-1</td>\n",
       "      <td>-122.42</td>\n",
       "      <td>37.80</td>\n",
       "      <td>9</td>\n",
       "      <td>9.00</td>\n",
       "      <td>POINT (-122.419267 37.798827)</td>\n",
       "    </tr>\n",
       "    <tr>\n",
       "      <th>323</th>\n",
       "      <td>754</td>\n",
       "      <td>778 VALLEJO ST</td>\n",
       "      <td>0.00</td>\n",
       "      <td>nan</td>\n",
       "      <td>nan</td>\n",
       "      <td>0.00</td>\n",
       "      <td>0.00</td>\n",
       "      <td>PROPOSED CONVERSION OF (E) STORAGE TO CONDITIO...</td>\n",
       "      <td>nan</td>\n",
       "      <td>nan</td>\n",
       "      <td>...</td>\n",
       "      <td>CONSTRUCTION</td>\n",
       "      <td>3.00</td>\n",
       "      <td>nan</td>\n",
       "      <td>nan</td>\n",
       "      <td>NCD</td>\n",
       "      <td>-122.41</td>\n",
       "      <td>37.80</td>\n",
       "      <td>14</td>\n",
       "      <td>14.00</td>\n",
       "      <td>POINT (-122.410102 37.798608)</td>\n",
       "    </tr>\n",
       "  </tbody>\n",
       "</table>\n",
       "<p>5 rows × 32 columns</p>\n",
       "</div>"
      ],
      "text/plain": [
       "     Unnamed: 0             address  affordable_units  cie  cie_net  \\\n",
       "16          940        721 BEACH ST              0.00  nan      nan   \n",
       "41         1195  827 NORTH POINT ST              0.00  nan      nan   \n",
       "143         159      853 LOMBARD ST              0.00  nan      nan   \n",
       "299         373        1945 Hyde St               nan  nan      nan   \n",
       "323         754      778 VALLEJO ST              0.00  nan      nan   \n",
       "\n",
       "     comm_sqft  comm_sqft_net  \\\n",
       "16     5589.00        5589.00   \n",
       "41        0.00           0.00   \n",
       "143       0.00           0.00   \n",
       "299       0.00           0.00   \n",
       "323       0.00           0.00   \n",
       "\n",
       "                                                  desc  ind  ind_net  \\\n",
       "16   TO ERECT 3 STORIES, 1 UNIT RESIDENTIAL / COMME...  nan      nan   \n",
       "41           ERECT NEW 4-STORY 3 DWELLING UNITS CONDO.  nan      nan   \n",
       "143  REVISE PA 2015-08-19-4706, CREATE 3RD UNIT- ch...  nan      nan   \n",
       "299  SITE PERMIT - CHANGE OF USE FROM PARKING GARAG...  nan      nan   \n",
       "323  PROPOSED CONVERSION OF (E) STORAGE TO CONDITIO...  nan      nan   \n",
       "\n",
       "                    ...                         status units vis  vis_net  \\\n",
       "16                  ...                   CONSTRUCTION  1.00 nan      nan   \n",
       "41                  ...                   CONSTRUCTION  3.00 nan      nan   \n",
       "143                 ...                   CONSTRUCTION  3.00 nan      nan   \n",
       "299                 ...                   CONSTRUCTION  7.00 nan      nan   \n",
       "323                 ...                   CONSTRUCTION  3.00 nan      nan   \n",
       "\n",
       "     zone     lon   lat  quarter_order  consdate  \\\n",
       "16    C-2 -122.42 37.81             14     14.00   \n",
       "41   RH-3 -122.42 37.81             16     16.00   \n",
       "143  RM-1 -122.42 37.80             18     18.00   \n",
       "299  NC-1 -122.42 37.80              9      9.00   \n",
       "323   NCD -122.41 37.80             14     14.00   \n",
       "\n",
       "                                geometry  \n",
       "16          POINT (-122.42095 37.806318)  \n",
       "41   POINT (-122.420870283 37.805369032)  \n",
       "143        POINT (-122.415517 37.802228)  \n",
       "299        POINT (-122.419267 37.798827)  \n",
       "323        POINT (-122.410102 37.798608)  \n",
       "\n",
       "[5 rows x 32 columns]"
      ]
     },
     "execution_count": 25,
     "metadata": {},
     "output_type": "execute_result"
    }
   ],
   "source": [
    "construction.head()"
   ]
  },
  {
   "cell_type": "markdown",
   "metadata": {},
   "source": [
    "## Import PDA Boundaries"
   ]
  },
  {
   "cell_type": "code",
   "execution_count": 26,
   "metadata": {
    "collapsed": false
   },
   "outputs": [],
   "source": [
    "root = '../../Raw Data'\n",
    "boundaries = gpd.read_file(root+'/PDAs/PDAs.shp')"
   ]
  },
  {
   "cell_type": "code",
   "execution_count": 27,
   "metadata": {
    "collapsed": false
   },
   "outputs": [
    {
     "data": {
      "text/html": [
       "<div>\n",
       "<table border=\"1\" class=\"dataframe\">\n",
       "  <thead>\n",
       "    <tr style=\"text-align: right;\">\n",
       "      <th></th>\n",
       "      <th>abagstatus</th>\n",
       "      <th>fipco</th>\n",
       "      <th>futurept1</th>\n",
       "      <th>geometry</th>\n",
       "      <th>grossacres</th>\n",
       "      <th>joinkey</th>\n",
       "      <th>lead</th>\n",
       "      <th>name</th>\n",
       "      <th>netacres</th>\n",
       "      <th>planstatus</th>\n",
       "      <th>subregion</th>\n",
       "    </tr>\n",
       "  </thead>\n",
       "  <tbody>\n",
       "    <tr>\n",
       "      <th>0</th>\n",
       "      <td>Final</td>\n",
       "      <td>6001</td>\n",
       "      <td>Mixed-Use Corridor</td>\n",
       "      <td>POLYGON ((564538.7888000013 4190839.092299999,...</td>\n",
       "      <td>21.21</td>\n",
       "      <td>BER4</td>\n",
       "      <td>Berkeley</td>\n",
       "      <td>South Shattuck</td>\n",
       "      <td>15.74</td>\n",
       "      <td>Planned</td>\n",
       "      <td>None</td>\n",
       "    </tr>\n",
       "    <tr>\n",
       "      <th>1</th>\n",
       "      <td>Final</td>\n",
       "      <td>6001</td>\n",
       "      <td>Transit Town Center</td>\n",
       "      <td>POLYGON ((576838.6746000003 4173612.5673, 5767...</td>\n",
       "      <td>168.57</td>\n",
       "      <td>SLE1</td>\n",
       "      <td>San Leandro</td>\n",
       "      <td>Bay Fair Bay Area Rapid Transit Village</td>\n",
       "      <td>132.84</td>\n",
       "      <td>Potential</td>\n",
       "      <td>None</td>\n",
       "    </tr>\n",
       "    <tr>\n",
       "      <th>2</th>\n",
       "      <td>Final</td>\n",
       "      <td>6001</td>\n",
       "      <td>Suburban Center</td>\n",
       "      <td>POLYGON ((609334.0837999997 4171696.5306, 6093...</td>\n",
       "      <td>252.26</td>\n",
       "      <td>LIV1</td>\n",
       "      <td>Livermore</td>\n",
       "      <td>Downtown</td>\n",
       "      <td>199.94</td>\n",
       "      <td>Planned</td>\n",
       "      <td>None</td>\n",
       "    </tr>\n",
       "    <tr>\n",
       "      <th>3</th>\n",
       "      <td>Final</td>\n",
       "      <td>6001</td>\n",
       "      <td>City Center</td>\n",
       "      <td>POLYGON ((563510.1734999998 4187195.755100001,...</td>\n",
       "      <td>583.96</td>\n",
       "      <td>EME1</td>\n",
       "      <td>Emeryville</td>\n",
       "      <td>Mixed-Use Core</td>\n",
       "      <td>451.34</td>\n",
       "      <td>Planned</td>\n",
       "      <td>None</td>\n",
       "    </tr>\n",
       "    <tr>\n",
       "      <th>4</th>\n",
       "      <td>Final</td>\n",
       "      <td>6001</td>\n",
       "      <td>City Center</td>\n",
       "      <td>POLYGON ((586837.7620000003 4161493.234300001,...</td>\n",
       "      <td>142.97</td>\n",
       "      <td>UNI1</td>\n",
       "      <td>Union City</td>\n",
       "      <td>Intermodal Station District</td>\n",
       "      <td>129.46</td>\n",
       "      <td>Planned</td>\n",
       "      <td>None</td>\n",
       "    </tr>\n",
       "    <tr>\n",
       "      <th>5</th>\n",
       "      <td>Final</td>\n",
       "      <td>6001</td>\n",
       "      <td>Mixed-Use Corridor</td>\n",
       "      <td>POLYGON ((564307.4911999996 4189799.324600001,...</td>\n",
       "      <td>62.14</td>\n",
       "      <td>BER1</td>\n",
       "      <td>Berkeley</td>\n",
       "      <td>Adeline Street</td>\n",
       "      <td>41.93</td>\n",
       "      <td>Potential</td>\n",
       "      <td>None</td>\n",
       "    </tr>\n",
       "    <tr>\n",
       "      <th>6</th>\n",
       "      <td>Final</td>\n",
       "      <td>6001</td>\n",
       "      <td>Suburban Center</td>\n",
       "      <td>POLYGON ((601211.9889999997 4174629.0152, 6011...</td>\n",
       "      <td>675.84</td>\n",
       "      <td>DUB3</td>\n",
       "      <td>Dublin</td>\n",
       "      <td>Town Center</td>\n",
       "      <td>546.22</td>\n",
       "      <td>Planned</td>\n",
       "      <td>None</td>\n",
       "    </tr>\n",
       "    <tr>\n",
       "      <th>7</th>\n",
       "      <td>Final</td>\n",
       "      <td>6001</td>\n",
       "      <td>Suburban Center</td>\n",
       "      <td>POLYGON ((598426.6127999998 4173245.5955, 5984...</td>\n",
       "      <td>869.21</td>\n",
       "      <td>PLE1</td>\n",
       "      <td>Pleasanton</td>\n",
       "      <td>Hacienda</td>\n",
       "      <td>733.11</td>\n",
       "      <td>Potential</td>\n",
       "      <td>None</td>\n",
       "    </tr>\n",
       "    <tr>\n",
       "      <th>8</th>\n",
       "      <td>Final</td>\n",
       "      <td>6001</td>\n",
       "      <td>Suburban Center</td>\n",
       "      <td>POLYGON ((594865.2683999999 4173924.7032, 5948...</td>\n",
       "      <td>300.36</td>\n",
       "      <td>DUB1</td>\n",
       "      <td>Dublin</td>\n",
       "      <td>Downtown Specific Plan Area</td>\n",
       "      <td>249.02</td>\n",
       "      <td>Planned</td>\n",
       "      <td>None</td>\n",
       "    </tr>\n",
       "    <tr>\n",
       "      <th>9</th>\n",
       "      <td>Final</td>\n",
       "      <td>6001</td>\n",
       "      <td>Suburban Center</td>\n",
       "      <td>POLYGON ((597541.332199999 4174527.5897, 59754...</td>\n",
       "      <td>279.59</td>\n",
       "      <td>DUB2</td>\n",
       "      <td>Dublin</td>\n",
       "      <td>Transit Center/Dublin Crossings</td>\n",
       "      <td>244.94</td>\n",
       "      <td>Planned</td>\n",
       "      <td>None</td>\n",
       "    </tr>\n",
       "  </tbody>\n",
       "</table>\n",
       "</div>"
      ],
      "text/plain": [
       "  abagstatus  fipco            futurept1  \\\n",
       "0      Final   6001   Mixed-Use Corridor   \n",
       "1      Final   6001  Transit Town Center   \n",
       "2      Final   6001      Suburban Center   \n",
       "3      Final   6001          City Center   \n",
       "4      Final   6001          City Center   \n",
       "5      Final   6001   Mixed-Use Corridor   \n",
       "6      Final   6001      Suburban Center   \n",
       "7      Final   6001      Suburban Center   \n",
       "8      Final   6001      Suburban Center   \n",
       "9      Final   6001      Suburban Center   \n",
       "\n",
       "                                            geometry  grossacres joinkey  \\\n",
       "0  POLYGON ((564538.7888000013 4190839.092299999,...       21.21    BER4   \n",
       "1  POLYGON ((576838.6746000003 4173612.5673, 5767...      168.57    SLE1   \n",
       "2  POLYGON ((609334.0837999997 4171696.5306, 6093...      252.26    LIV1   \n",
       "3  POLYGON ((563510.1734999998 4187195.755100001,...      583.96    EME1   \n",
       "4  POLYGON ((586837.7620000003 4161493.234300001,...      142.97    UNI1   \n",
       "5  POLYGON ((564307.4911999996 4189799.324600001,...       62.14    BER1   \n",
       "6  POLYGON ((601211.9889999997 4174629.0152, 6011...      675.84    DUB3   \n",
       "7  POLYGON ((598426.6127999998 4173245.5955, 5984...      869.21    PLE1   \n",
       "8  POLYGON ((594865.2683999999 4173924.7032, 5948...      300.36    DUB1   \n",
       "9  POLYGON ((597541.332199999 4174527.5897, 59754...      279.59    DUB2   \n",
       "\n",
       "          lead                                     name  netacres planstatus  \\\n",
       "0     Berkeley                           South Shattuck     15.74    Planned   \n",
       "1  San Leandro  Bay Fair Bay Area Rapid Transit Village    132.84  Potential   \n",
       "2    Livermore                                 Downtown    199.94    Planned   \n",
       "3   Emeryville                           Mixed-Use Core    451.34    Planned   \n",
       "4   Union City              Intermodal Station District    129.46    Planned   \n",
       "5     Berkeley                           Adeline Street     41.93  Potential   \n",
       "6       Dublin                              Town Center    546.22    Planned   \n",
       "7   Pleasanton                                 Hacienda    733.11  Potential   \n",
       "8       Dublin              Downtown Specific Plan Area    249.02    Planned   \n",
       "9       Dublin          Transit Center/Dublin Crossings    244.94    Planned   \n",
       "\n",
       "  subregion  \n",
       "0      None  \n",
       "1      None  \n",
       "2      None  \n",
       "3      None  \n",
       "4      None  \n",
       "5      None  \n",
       "6      None  \n",
       "7      None  \n",
       "8      None  \n",
       "9      None  "
      ]
     },
     "execution_count": 27,
     "metadata": {},
     "output_type": "execute_result"
    }
   ],
   "source": [
    "boundaries.head(10)"
   ]
  },
  {
   "cell_type": "code",
   "execution_count": 28,
   "metadata": {
    "collapsed": true
   },
   "outputs": [],
   "source": [
    "#Keep only PDAs in SF\n",
    "boundaries = boundaries[boundaries['lead']=='San Francisco']\n",
    "#Dropping Treasure Island for now\n",
    "boundaries = boundaries[boundaries['name']!='Treasure Island & Yerba Buena Island']"
   ]
  },
  {
   "cell_type": "code",
   "execution_count": 29,
   "metadata": {
    "collapsed": false
   },
   "outputs": [
    {
     "data": {
      "text/plain": [
       "<matplotlib.axes._subplots.AxesSubplot at 0x10f3bf208>"
      ]
     },
     "execution_count": 29,
     "metadata": {},
     "output_type": "execute_result"
    },
    {
     "data": {
      "image/png": "[encoded data removed]",
      "text/plain": [
       "<matplotlib.figure.Figure at 0x10f3bcb38>"
      ]
     },
     "metadata": {},
     "output_type": "display_data"
    }
   ],
   "source": [
    "boundaries.plot()"
   ]
  },
  {
   "cell_type": "code",
   "execution_count": 30,
   "metadata": {
    "collapsed": false
   },
   "outputs": [],
   "source": [
    "#convert boundaries to geographic coordinate system to conform to points\n",
    "boundaries = boundaries.to_crs({'init': 'epsg:4326'}) "
   ]
  },
  {
   "cell_type": "code",
   "execution_count": 31,
   "metadata": {
    "collapsed": false
   },
   "outputs": [
    {
     "data": {
      "text/plain": [
       "<matplotlib.axes._subplots.AxesSubplot at 0x10edd5ac8>"
      ]
     },
     "execution_count": 31,
     "metadata": {},
     "output_type": "execute_result"
    },
    {
     "data": {
      "image/png": "[encoded data removed]",
      "text/plain": [
       "<matplotlib.figure.Figure at 0x10edbc8d0>"
      ]
     },
     "metadata": {},
     "output_type": "display_data"
    }
   ],
   "source": [
    "boundaries.plot()"
   ]
  },
  {
   "cell_type": "code",
   "execution_count": 32,
   "metadata": {
    "collapsed": false
   },
   "outputs": [
    {
     "data": {
      "text/html": [
       "<div>\n",
       "<table border=\"1\" class=\"dataframe\">\n",
       "  <thead>\n",
       "    <tr style=\"text-align: right;\">\n",
       "      <th></th>\n",
       "      <th>abagstatus</th>\n",
       "      <th>fipco</th>\n",
       "      <th>futurept1</th>\n",
       "      <th>geometry</th>\n",
       "      <th>grossacres</th>\n",
       "      <th>joinkey</th>\n",
       "      <th>lead</th>\n",
       "      <th>name</th>\n",
       "      <th>netacres</th>\n",
       "      <th>planstatus</th>\n",
       "      <th>subregion</th>\n",
       "    </tr>\n",
       "  </thead>\n",
       "  <tbody>\n",
       "    <tr>\n",
       "      <th>123</th>\n",
       "      <td>Final</td>\n",
       "      <td>6075</td>\n",
       "      <td>Mixed-Use Corridor</td>\n",
       "      <td>(POLYGON ((-122.3709869998455 37.7333309997252...</td>\n",
       "      <td>811.33</td>\n",
       "      <td>SFO6</td>\n",
       "      <td>San Francisco</td>\n",
       "      <td>Port of San Francisco</td>\n",
       "      <td>677.81</td>\n",
       "      <td>Planned</td>\n",
       "      <td>None</td>\n",
       "    </tr>\n",
       "    <tr>\n",
       "      <th>124</th>\n",
       "      <td>Final</td>\n",
       "      <td>6075</td>\n",
       "      <td>Transit Neighborhood</td>\n",
       "      <td>POLYGON ((-122.447916931002 37.7282174885926, ...</td>\n",
       "      <td>207.29</td>\n",
       "      <td>SFO2</td>\n",
       "      <td>San Francisco</td>\n",
       "      <td>Balboa Park</td>\n",
       "      <td>136.30</td>\n",
       "      <td>Planned</td>\n",
       "      <td>None</td>\n",
       "    </tr>\n",
       "    <tr>\n",
       "      <th>125</th>\n",
       "      <td>Final</td>\n",
       "      <td>6075</td>\n",
       "      <td>Urban Neighborhood</td>\n",
       "      <td>POLYGON ((-122.3912231544804 37.77747172378415...</td>\n",
       "      <td>290.48</td>\n",
       "      <td>SFO5</td>\n",
       "      <td>San Francisco</td>\n",
       "      <td>Mission Bay</td>\n",
       "      <td>238.40</td>\n",
       "      <td>Planned</td>\n",
       "      <td>None</td>\n",
       "    </tr>\n",
       "    <tr>\n",
       "      <th>126</th>\n",
       "      <td>Final</td>\n",
       "      <td>6075</td>\n",
       "      <td>Transit Town Center</td>\n",
       "      <td>POLYGON ((-122.458905755934 37.70849256750056,...</td>\n",
       "      <td>1163.14</td>\n",
       "      <td>SFO10</td>\n",
       "      <td>San Francisco</td>\n",
       "      <td>19th Avenue</td>\n",
       "      <td>893.44</td>\n",
       "      <td>Potential</td>\n",
       "      <td>None</td>\n",
       "    </tr>\n",
       "    <tr>\n",
       "      <th>127</th>\n",
       "      <td>Final</td>\n",
       "      <td>6075</td>\n",
       "      <td>Urban Neighborhood</td>\n",
       "      <td>(POLYGON ((-122.390457615822 37.77686101235072...</td>\n",
       "      <td>2291.40</td>\n",
       "      <td>SFO4</td>\n",
       "      <td>San Francisco</td>\n",
       "      <td>Eastern Neighborhoods</td>\n",
       "      <td>1632.28</td>\n",
       "      <td>Planned</td>\n",
       "      <td>None</td>\n",
       "    </tr>\n",
       "  </tbody>\n",
       "</table>\n",
       "</div>"
      ],
      "text/plain": [
       "    abagstatus  fipco             futurept1  \\\n",
       "123      Final   6075    Mixed-Use Corridor   \n",
       "124      Final   6075  Transit Neighborhood   \n",
       "125      Final   6075    Urban Neighborhood   \n",
       "126      Final   6075   Transit Town Center   \n",
       "127      Final   6075    Urban Neighborhood   \n",
       "\n",
       "                                              geometry  grossacres joinkey  \\\n",
       "123  (POLYGON ((-122.3709869998455 37.7333309997252...      811.33    SFO6   \n",
       "124  POLYGON ((-122.447916931002 37.7282174885926, ...      207.29    SFO2   \n",
       "125  POLYGON ((-122.3912231544804 37.77747172378415...      290.48    SFO5   \n",
       "126  POLYGON ((-122.458905755934 37.70849256750056,...     1163.14   SFO10   \n",
       "127  (POLYGON ((-122.390457615822 37.77686101235072...     2291.40    SFO4   \n",
       "\n",
       "              lead                   name  netacres planstatus subregion  \n",
       "123  San Francisco  Port of San Francisco    677.81    Planned      None  \n",
       "124  San Francisco            Balboa Park    136.30    Planned      None  \n",
       "125  San Francisco            Mission Bay    238.40    Planned      None  \n",
       "126  San Francisco            19th Avenue    893.44  Potential      None  \n",
       "127  San Francisco  Eastern Neighborhoods   1632.28    Planned      None  "
      ]
     },
     "execution_count": 32,
     "metadata": {},
     "output_type": "execute_result"
    }
   ],
   "source": [
    "boundaries.head()"
   ]
  },
  {
   "cell_type": "markdown",
   "metadata": {},
   "source": [
    "## Combine Layers"
   ]
  },
  {
   "cell_type": "code",
   "execution_count": 33,
   "metadata": {
    "collapsed": false
   },
   "outputs": [],
   "source": [
    "#First, spatial join between points and neighborhood boundaries. Set 'how' to 'right' to preserve polygon geometries.\n",
    "nbcum = gpd.sjoin(construction, boundaries, how = 'right', op='within')"
   ]
  },
  {
   "cell_type": "code",
   "execution_count": 34,
   "metadata": {
    "collapsed": false
   },
   "outputs": [],
   "source": [
    "#Next, dissolve by neighborhoods to get sum of units\n",
    "nbcum = nbcum[['name', 'geometry', 'net_units', 'net_affordable_units']]\n",
    "nb_map = nbcum.dissolve(by=['name'], aggfunc='sum')\n",
    "\n",
    "nb_map['net_units'].fillna(0, inplace = True)\n",
    "nb_map['net_affordable_units'].fillna(0, inplace = True)\n",
    "\n",
    "nb_map['net_units'] = nb_map['net_units'].astype(int)\n",
    "nb_map['net_affordable_units'] = nb_map['net_affordable_units'].astype(int)\n",
    "\n",
    "nb_map['name']=nb_map.index"
   ]
  },
  {
   "cell_type": "code",
   "execution_count": 36,
   "metadata": {
    "collapsed": true
   },
   "outputs": [],
   "source": [
    "#Define function to create categories for javascript maps. Each category will be separate dot color\n",
    "def cats(value):\n",
    "    if (value['net_units'] >=0) & (value['net_units']<=50): \n",
    "        field = 0\n",
    "        \n",
    "    elif (value['net_units'] >=51) & (value['net_units']<=200):\n",
    "        field = 1\n",
    "        \n",
    "    elif (value['net_units'] >=201) & (value['net_units']<=500):\n",
    "        field = 2\n",
    "        \n",
    "    elif (value['net_units'] >=501) & (value['net_units']<=2000):\n",
    "        field = 3\n",
    "    else: \n",
    "        field = 4\n",
    "        \n",
    "    return field\n",
    "\n",
    "\n",
    "nb_map['unitcat'] = nb_map.apply(cats, axis = 1)"
   ]
  },
  {
   "cell_type": "code",
   "execution_count": 37,
   "metadata": {
    "collapsed": true
   },
   "outputs": [],
   "source": [
    "#make variables into a string with commas before export\n",
    "nb_map['net_units'] = nb_map['net_units'].astype(int)\n",
    "nb_map['net_units'] = nb_map['net_units'].map(lambda x: '{:,}'.format(x), na_action='ignore')"
   ]
  },
  {
   "cell_type": "code",
   "execution_count": 38,
   "metadata": {
    "collapsed": false
   },
   "outputs": [],
   "source": [
    "#export to geojson object\n",
    "export_path = code_path\n",
    "with open(export_path+'/Neighborhood Maps/nbPDA_recent.js', 'w') as f:\n",
    "    f.write('var dataset9 = {};'.format(nb_map.to_json()))"
   ]
  },
  {
   "cell_type": "markdown",
   "metadata": {
    "collapsed": true
   },
   "source": [
    "# Section 2: Create polygons with currently proposed development only"
   ]
  },
  {
   "cell_type": "code",
   "execution_count": 39,
   "metadata": {
    "collapsed": true
   },
   "outputs": [],
   "source": [
    "#isolate currently proposed development\n",
    "current = full_df[full_df['quarter']=='Q1-2017']"
   ]
  },
  {
   "cell_type": "code",
   "execution_count": 40,
   "metadata": {
    "collapsed": true
   },
   "outputs": [],
   "source": [
    "#create geodataframe for current development\n",
    "crs = {'init' :'epsg:4326'}\n",
    "geometry = [Point(xy) for xy in zip(current.lon, current.lat)]\n",
    "current_geo = GeoDataFrame(current, crs=crs, geometry=geometry)"
   ]
  },
  {
   "cell_type": "code",
   "execution_count": 41,
   "metadata": {
    "collapsed": true
   },
   "outputs": [],
   "source": [
    "#First, spatial join between points and neighborhood boundaries. Set 'how' to 'right' to preserve polygon geometries.\n",
    "final_geo = gpd.sjoin(current_geo, boundaries, how = 'right', op='within')"
   ]
  },
  {
   "cell_type": "code",
   "execution_count": 42,
   "metadata": {
    "collapsed": true
   },
   "outputs": [],
   "source": [
    "#Next, dissolve by neighborhoods to get sum of units\n",
    "final_geo = final_geo[['name', 'geometry', 'net_units', 'net_affordable_units']]\n",
    "final_geo = final_geo.dissolve(by=['name'], aggfunc='sum')\n",
    "\n",
    "final_geo['net_units'].fillna(0, inplace = True)\n",
    "final_geo['net_affordable_units'].fillna(0, inplace = True)\n",
    "\n",
    "final_geo['net_units'] = final_geo['net_units'].astype(int)\n",
    "final_geo['net_affordable_units'] = final_geo['net_affordable_units'].astype(int)\n",
    "\n",
    "final_geo['name']=final_geo.index"
   ]
  },
  {
   "cell_type": "code",
   "execution_count": 43,
   "metadata": {
    "collapsed": true
   },
   "outputs": [],
   "source": [
    "#Define function to create categories for javascript maps. Each category will be separate dot color\n",
    "def cats(value):\n",
    "    if (value['net_units'] >=0) & (value['net_units']<=50): \n",
    "        field = 0\n",
    "        \n",
    "    elif (value['net_units'] >=51) & (value['net_units']<=200):\n",
    "        field = 1\n",
    "        \n",
    "    elif (value['net_units'] >=201) & (value['net_units']<=500):\n",
    "        field = 2\n",
    "        \n",
    "    elif (value['net_units'] >=501) & (value['net_units']<=2000):\n",
    "        field = 3\n",
    "    else: \n",
    "        field = 4\n",
    "        \n",
    "    return field\n",
    "\n",
    "\n",
    "final_geo['unitcat'] = final_geo.apply(cats, axis = 1)"
   ]
  },
  {
   "cell_type": "code",
   "execution_count": 44,
   "metadata": {
    "collapsed": true
   },
   "outputs": [],
   "source": [
    "#make variables into a string with commas before export\n",
    "final_geo['net_units'] = final_geo['net_units'].astype(int)\n",
    "final_geo['net_units'] = final_geo['net_units'].map(lambda x: '{:,}'.format(x), na_action='ignore')"
   ]
  },
  {
   "cell_type": "code",
   "execution_count": 45,
   "metadata": {
    "collapsed": true
   },
   "outputs": [],
   "source": [
    "#export to geojson object\n",
    "export_path = code_path\n",
    "with open(export_path+'/Neighborhood Maps/nbPDA_current.js', 'w') as f:\n",
    "    f.write('var dataset10 = {};'.format(final_geo.to_json()))"
   ]
  },
  {
   "cell_type": "markdown",
   "metadata": {
    "collapsed": true
   },
   "source": [
    "# Section 3. Create Polygons with Non-residential development - recently completed"
   ]
  },
  {
   "cell_type": "code",
   "execution_count": 46,
   "metadata": {
    "collapsed": true
   },
   "outputs": [],
   "source": [
    "#import commercial development data\n",
    "nr_df = pd.read_csv(import_path+\"/pipeline_com.csv\")"
   ]
  },
  {
   "cell_type": "code",
   "execution_count": 47,
   "metadata": {
    "collapsed": true
   },
   "outputs": [],
   "source": [
    "#some initial cleaning\n",
    "vars = ['comm_sqft', 'comm_sqft_net']\n",
    "#do some initial data cleaning\n",
    "for item in vars:\n",
    "    nr_df[item] = nr_df[item].fillna(0)"
   ]
  },
  {
   "cell_type": "code",
   "execution_count": 48,
   "metadata": {
    "collapsed": false
   },
   "outputs": [],
   "source": [
    "#create dataframe for construction ending over time. This is a method to identify where construction ended,\n",
    "#at which point the data drops out of the pipeline\n",
    "cons_end_nr = nr_df[nr_df['status'] == \"CONSTRUCTION\"].groupby(['lot_number'], as_index=False)['quarter_order'].max()\n",
    "cons_end_nr.rename(columns = {'quarter_order': 'consdate'}, inplace = True)\n",
    "#merge data together to identify quarter that projects were built\n",
    "nr_df2 = nr_df.merge(cons_end_nr, on = 'lot_number', how = \"outer\")\n",
    "nr_df2 = nr_df2[nr_df2['consdate'] == nr_df2['quarter_order']]\n",
    "nr_df2 = nr_df2[nr_df2['quarter_order'] != 19]"
   ]
  },
  {
   "cell_type": "code",
   "execution_count": 49,
   "metadata": {
    "collapsed": false
   },
   "outputs": [],
   "source": [
    "#create geodataframe for current development\n",
    "crs = {'init' :'epsg:4326'}\n",
    "geometry = [Point(xy) for xy in zip(nr_df2.lon, nr_df2.lat)]\n",
    "nr_geo = GeoDataFrame(nr_df2, crs=crs, geometry=geometry)"
   ]
  },
  {
   "cell_type": "code",
   "execution_count": 50,
   "metadata": {
    "collapsed": true
   },
   "outputs": [],
   "source": [
    "#First, spatial join between points and neighborhood boundaries. Set 'how' to 'right' to preserve polygon geometries.\n",
    "final_geo = gpd.sjoin(nr_geo, boundaries, how = 'right', op='within')"
   ]
  },
  {
   "cell_type": "code",
   "execution_count": 51,
   "metadata": {
    "collapsed": false
   },
   "outputs": [],
   "source": [
    "#Next, dissolve by neighborhoods to get sum of units\n",
    "final_geo = final_geo[['name', 'geometry', 'comm_sqft_net', 'comm_sqft']]\n",
    "final_geo = final_geo.dissolve(by=['name'], aggfunc='sum')\n",
    "\n",
    "final_geo['comm_sqft'].fillna(0, inplace = True)\n",
    "final_geo['comm_sqft_net'].fillna(0, inplace = True)\n",
    "\n",
    "final_geo['comm_sqft'] = final_geo['comm_sqft'].astype(int)\n",
    "final_geo['comm_sqft_net'] = final_geo['comm_sqft_net'].astype(int)\n",
    "\n",
    "final_geo['name']=final_geo.index"
   ]
  },
  {
   "cell_type": "code",
   "execution_count": 52,
   "metadata": {
    "collapsed": false
   },
   "outputs": [
    {
     "data": {
      "text/plain": [
       "count        10.00\n",
       "mean     427532.00\n",
       "std      744705.29\n",
       "min     -353860.00\n",
       "5%      -194623.00\n",
       "10%      -35386.00\n",
       "20%        6368.00\n",
       "30%       10773.30\n",
       "40%       78135.60\n",
       "50%      186846.00\n",
       "60%      256471.20\n",
       "70%      322673.40\n",
       "80%      660956.60\n",
       "90%     1524373.90\n",
       "95%     1784936.95\n",
       "max     2045500.00\n",
       "Name: comm_sqft_net, dtype: float64"
      ]
     },
     "execution_count": 52,
     "metadata": {},
     "output_type": "execute_result"
    }
   ],
   "source": [
    "final_geo['comm_sqft_net'].describe(percentiles = [.05, .1, .2, .3, .4, .5, .6, .7, .8, .9, .95])"
   ]
  },
  {
   "cell_type": "code",
   "execution_count": 53,
   "metadata": {
    "collapsed": true
   },
   "outputs": [],
   "source": [
    "#Define function to create categories for javascript maps. Each category will be separate dot color\n",
    "def cats(value):\n",
    "    if value['comm_sqft_net'] < -5000: \n",
    "        field = 0\n",
    "        \n",
    "    elif (value['comm_sqft_net'] >= -5000) & (value['comm_sqft_net']< 0):\n",
    "        field = 1\n",
    "        \n",
    "    elif (value['comm_sqft_net'] >= 0) & (value['comm_sqft_net'] <= 5000):\n",
    "        field = 2\n",
    "        \n",
    "    elif (value['comm_sqft_net'] >= 5001) & (value['comm_sqft_net'] <= 10000):\n",
    "        field = 3\n",
    "        \n",
    "    elif (value['comm_sqft_net'] >=10001) & (value['comm_sqft_net'] <= 50000):\n",
    "        field = 4  \n",
    "        \n",
    "    else: \n",
    "        field = 5\n",
    "        \n",
    "    return field\n",
    "\n",
    "\n",
    "final_geo['unitcat'] = final_geo.apply(cats, axis = 1)"
   ]
  },
  {
   "cell_type": "code",
   "execution_count": 54,
   "metadata": {
    "collapsed": true
   },
   "outputs": [],
   "source": [
    "#make variables into a string with commas before export\n",
    "final_geo['comm_sqft_net'] = final_geo['comm_sqft_net'].astype(int)\n",
    "final_geo['comm_sqft_net'] = final_geo['comm_sqft_net'].map(lambda x: '{:,}'.format(x), na_action='ignore')"
   ]
  },
  {
   "cell_type": "code",
   "execution_count": 55,
   "metadata": {
    "collapsed": true
   },
   "outputs": [],
   "source": [
    "#export to geojson object\n",
    "export_path = code_path\n",
    "with open(export_path+'/Neighborhood Maps/nbPDA_comm.js', 'w') as f:\n",
    "    f.write('var dataset11 = {};'.format(final_geo.to_json()))"
   ]
  },
  {
   "cell_type": "markdown",
   "metadata": {},
   "source": [
    "# Section 4. Create Polygons with Non-residential development -currently proposed"
   ]
  },
  {
   "cell_type": "code",
   "execution_count": 56,
   "metadata": {
    "collapsed": true
   },
   "outputs": [],
   "source": [
    "#isolate currently proposed development\n",
    "current = nr_df[nr_df['quarter']=='Q1-2017']"
   ]
  },
  {
   "cell_type": "code",
   "execution_count": 57,
   "metadata": {
    "collapsed": false
   },
   "outputs": [],
   "source": [
    "#create geodataframe for current development\n",
    "crs = {'init' :'epsg:4326'}\n",
    "geometry = [Point(xy) for xy in zip(current.lon, current.lat)]\n",
    "current_geo = GeoDataFrame(current, crs=crs, geometry=geometry)"
   ]
  },
  {
   "cell_type": "code",
   "execution_count": 58,
   "metadata": {
    "collapsed": true
   },
   "outputs": [],
   "source": [
    "#First, spatial join between points and neighborhood boundaries. Set 'how' to 'right' to preserve polygon geometries.\n",
    "final_geo = gpd.sjoin(current_geo, boundaries, how = 'right', op='within')"
   ]
  },
  {
   "cell_type": "code",
   "execution_count": 59,
   "metadata": {
    "collapsed": true
   },
   "outputs": [],
   "source": [
    "#Next, dissolve by neighborhoods to get sum of units\n",
    "final_geo = final_geo[['name', 'geometry', 'comm_sqft_net', 'comm_sqft']]\n",
    "final_geo = final_geo.dissolve(by=['name'], aggfunc='sum')\n",
    "\n",
    "final_geo['comm_sqft'].fillna(0, inplace = True)\n",
    "final_geo['comm_sqft_net'].fillna(0, inplace = True)\n",
    "\n",
    "final_geo['comm_sqft'] = final_geo['comm_sqft'].astype(int)\n",
    "final_geo['comm_sqft_net'] = final_geo['comm_sqft_net'].astype(int)\n",
    "\n",
    "final_geo['name']=final_geo.index"
   ]
  },
  {
   "cell_type": "code",
   "execution_count": 60,
   "metadata": {
    "collapsed": true
   },
   "outputs": [],
   "source": [
    "#Define function to create categories for javascript maps. Each category will be separate dot color\n",
    "def cats(value):\n",
    "    if value['comm_sqft_net'] < -5000: \n",
    "        field = 0\n",
    "        \n",
    "    elif (value['comm_sqft_net'] >= -5000) & (value['comm_sqft_net']< 0):\n",
    "        field = 1\n",
    "        \n",
    "    elif (value['comm_sqft_net'] >= 0) & (value['comm_sqft_net'] <= 5000):\n",
    "        field = 2\n",
    "        \n",
    "    elif (value['comm_sqft_net'] >= 5001) & (value['comm_sqft_net'] <= 10000):\n",
    "        field = 3\n",
    "        \n",
    "    elif (value['comm_sqft_net'] >=10001) & (value['comm_sqft_net'] <= 50000):\n",
    "        field = 4  \n",
    "        \n",
    "    else: \n",
    "        field = 5\n",
    "        \n",
    "    return field\n",
    "\n",
    "\n",
    "final_geo['unitcat'] = final_geo.apply(cats, axis = 1)"
   ]
  },
  {
   "cell_type": "code",
   "execution_count": 61,
   "metadata": {
    "collapsed": true
   },
   "outputs": [],
   "source": [
    "#make variables into a string with commas before export\n",
    "final_geo['comm_sqft_net'] = final_geo['comm_sqft_net'].astype(int)\n",
    "final_geo['comm_sqft_net'] = final_geo['comm_sqft_net'].map(lambda x: '{:,}'.format(x), na_action='ignore')"
   ]
  },
  {
   "cell_type": "code",
   "execution_count": 62,
   "metadata": {
    "collapsed": true
   },
   "outputs": [],
   "source": [
    "#export to geojson object\n",
    "export_path = code_path\n",
    "with open(export_path+'/Neighborhood Maps/nbPDA_comm_curr.js', 'w') as f:\n",
    "    f.write('var dataset12 = {};'.format(final_geo.to_json()))"
   ]
  },
  {
   "cell_type": "code",
   "execution_count": null,
   "metadata": {
    "collapsed": false
   },
   "outputs": [],
   "source": [
    "final_geo.head()"
   ]
  },
  {
   "cell_type": "code",
   "execution_count": null,
   "metadata": {
    "collapsed": true
   },
   "outputs": [],
   "source": []
  }
 ],
 "metadata": {
  "anaconda-cloud": {},
  "kernelspec": {
   "display_name": "Python [Root]",
   "language": "python",
   "name": "Python [Root]"
  },
  "language_info": {
   "codemirror_mode": {
    "name": "ipython",
    "version": 3
   },
   "file_extension": ".py",
   "mimetype": "text/x-python",
   "name": "python",
   "nbconvert_exporter": "python",
   "pygments_lexer": "ipython3",
   "version": "3.5.2"
  }
 },
 "nbformat": 4,
 "nbformat_minor": 0
}
