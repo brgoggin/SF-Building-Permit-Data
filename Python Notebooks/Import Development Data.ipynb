{
 "cells": [
  {
   "cell_type": "markdown",
   "metadata": {},
   "source": [
    "# Final Project Import Development Data\n",
    "## Brian Goggin\n",
    "In this assignment, I import data from the San Francisco development pipeline from SF Open data's API. I import quarterly data from the fourth quarter of 2012 to the third quarter of 2016. In the first section of the notebook, I import, append, and clean the data. In other notebooks, I use this data to explore development activity in SF. "
   ]
  },
  {
   "cell_type": "markdown",
   "metadata": {},
   "source": [
    "## Section 1: Import and Clean Data"
   ]
  },
  {
   "cell_type": "markdown",
   "metadata": {},
   "source": [
    "First, import the packages necessary for calling an API. "
   ]
  },
  {
   "cell_type": "code",
   "execution_count": 38,
   "metadata": {
    "collapsed": false
   },
   "outputs": [],
   "source": [
    "#import packages\n",
    "import pandas as pd\n",
    "import numpy as np\n",
    "import re as re\n",
    "import json    # library for working with JSON-formatted text strings\n",
    "import requests  # library for accessing content from web URLs\n",
    "import pprint  # library for making Python data structures readable\n",
    "pp = pprint.PrettyPrinter()"
   ]
  },
  {
   "cell_type": "markdown",
   "metadata": {},
   "source": [
    "The SF Planning Department releases this data quarterly. Quarterly reports go back all the way to 2012. However, this data is messy and inconsistent. Therefore, each quarterly file has to be imported individually."
   ]
  },
  {
   "cell_type": "code",
   "execution_count": 39,
   "metadata": {
    "collapsed": true
   },
   "outputs": [],
   "source": [
    "Q42016 = 'https://data.sfgov.org/resource/nba4-2xjv.json'\n",
    "Q32016 = 'https://data.sfgov.org/resource/qwfj-9mts.json'\n",
    "Q22016 = 'https://data.sfgov.org/resource/3n2r-nn4r.json'\n",
    "Q12016 = 'https://data.sfgov.org/resource/6iid-qfaz.json'\n",
    "Q42015 = 'https://data.sfgov.org/resource/6jnk-ty34.json'\n",
    "Q32015 = 'https://data.sfgov.org/resource/8qip-pyye.json'\n",
    "Q22015 = 'https://data.sfgov.org/resource/b6nb-tyvq.json'\n",
    "Q12015 = 'https://data.sfgov.org/resource/auw5-vpae.json'\n",
    "Q42014 = 'https://data.sfgov.org/resource/ia2z-a7eh.json'\n",
    "Q32014 = 'https://data.sfgov.org/resource/9xqb-guwy.json' #Problem - this json does not have best date information that the raw csv file does\n",
    "Q22014 = 'https://data.sfgov.org/resource/tkr2-mzci.json'\n",
    "Q12014 = 'https://data.sfgov.org/resource/fq62-z4pc.json'\n",
    "Q42013 = 'https://data.sfgov.org/resource/s42z-x9np.json'\n",
    "Q32013 = 'https://data.sfgov.org/resource/h2ky-3rra.json'\n",
    "Q22013 = 'https://data.sfgov.org/resource/ixti-hd8i.json'\n",
    "Q12013 = 'https://data.sfgov.org/resource/662u-bk2r.json'\n",
    "Q42012 = 'https://data.sfgov.org/resource/fpzh-9ii5.json'"
   ]
  },
  {
   "cell_type": "markdown",
   "metadata": {},
   "source": [
    "Next, I define a function for importing the data from each API into a dataframe."
   ]
  },
  {
   "cell_type": "code",
   "execution_count": 40,
   "metadata": {
    "collapsed": true
   },
   "outputs": [],
   "source": [
    "def importdata(quarter, quartervalue, field1, field2, field3, field4, \n",
    "               field5, field6, field7, field8, field9, field10, field11, \n",
    "               field12, geogfield1, geogfield2):\n",
    "    '''\n",
    "    This function calls the API endpoint quarter and returns a dataframe with the desired columns.\n",
    "    field'n' = 'name' represent the desired fields as they are named at the API endpoint\n",
    "    '''\n",
    "    \n",
    "    def includekey(field):\n",
    "        '''\n",
    "        This function takes a given field from the API endpoint and creates a list out of its entires.\n",
    "        '''\n",
    "        list = []\n",
    "        for item in data: \n",
    "            if field in item.keys():\n",
    "                list.append(item[field])\n",
    "            else:\n",
    "                list.append(np.nan)\n",
    "        return list\n",
    "\n",
    "    def include_coor_key(one, two):\n",
    "        '''\n",
    "        This function takes a given geographic field from the API endpoint and creates a list out of its entires.\n",
    "        '''\n",
    "        list = []\n",
    "        for item in data: \n",
    "            if one in item.keys():\n",
    "                list.append(item[one][two])\n",
    "            else:\n",
    "                list.append(np.nan)\n",
    "        return list\n",
    "    \n",
    "    response = requests.get(quarter)\n",
    "    results = response.text\n",
    "    data = json.loads(results) #data is a list at this point\n",
    "    \n",
    "    #import fields\n",
    "    d = {}\n",
    "    d['lot_number'] = includekey(field1)\n",
    "    d['address'] = includekey(field2)\n",
    "    d['status'] = includekey(field3)\n",
    "    d['latest_date'] = includekey(field4)\n",
    "    d['units'] = includekey(field5)\n",
    "    d['net_units'] = includekey(field6)\n",
    "    d['affordable_units'] = includekey(field7)\n",
    "    d['net_affordable_units'] = includekey(field8)\n",
    "    d['zone'] = includekey(field9)\n",
    "    d['desc'] = includekey(field10)\n",
    "    d['comm_sqft'] = includekey(field11)\n",
    "    d['comm_sqft_net'] = includekey(field12)\n",
    "    d['lat_lon'] = include_coor_key(geogfield1, geogfield2)\n",
    "    \n",
    "    df = pd.DataFrame.from_dict(d)\n",
    "    df['quarter'] = quartervalue\n",
    "    \n",
    "    return df"
   ]
  },
  {
   "cell_type": "markdown",
   "metadata": {},
   "source": [
    "Import all of the data (one for each quarter)."
   ]
  },
  {
   "cell_type": "code",
   "execution_count": 41,
   "metadata": {
    "collapsed": false
   },
   "outputs": [],
   "source": [
    "Q32016df = importdata(Q32016, 'Q32016', 'apn', 'nameaddr', 'beststat', 'bestdate', 'units', 'unitsnet', 'affordable', 'affnet', 'zoning_sim', 'dbidesc', 'total_gsf', 'net_gsf', 'location', 'coordinates')\n",
    "Q22016df = importdata(Q22016, 'Q22016', 'apn', 'nameaddr', 'beststat', 'bestdate', 'units', 'unitsnet', 'aff', 'affnet', 'zoning_sim', 'dbi_desc', 'total_gsf', 'net_gsf', 'location', 'coordinates')   \n",
    "#Q12016df = importdata(Q12016, 'Q12016', 'apn', 'nameaddr', 'beststat', 'bestdate', 'units', 'unitsnet', 'affordable', 'affordable_net', 'zoning', 'dbidesc', 'total_gsf', 'net_gsf', 'location', 'coordinates')\n",
    "Q42015df = importdata(Q42015, 'Q42015','apn', 'nameaddr', 'beststat', 'bestdate', 'units', 'unitsnet', 'affordable', 'affordab_1', 'zoning_sim','dbidesc', 'total_gsf', 'net_gsf', 'geography', 'coordinates')\n",
    "Q32015df = importdata(Q32015, 'Q32015','apn', 'nameaddr', 'beststat', 'bestdate', 'units', 'unitsnet', 'affordable', 'affordablenet', 'zoning_sim', 'dbidesc', 'total_gsf', 'net_gsf', 'location', 'coordinates')\n",
    "Q22015df = importdata(Q22015,'Q22015', 'apn', 'nameaddr', 'beststat', 'bestdate', 'units', 'unitsnet', 'affordable', 'affordablenet', 'zoning_sim', 'dbidesc', 'total_gsf', 'net_gsf', 'geography', 'coordinates')\n",
    "Q12015df = importdata(Q12015, 'Q12015','blklot', 'nameaddr', 'beststat', 'bestdate', 'units', 'unitsnet', 'aff', 'affnet', 'zoning_sim','dbidesc', 'total_gsf', 'net_gsf', 'geography', 'coordinates')\n",
    "Q42014df = importdata(Q42014, 'Q42014','blklot', 'nameaddr', 'beststat', 'bestdate', 'units', 'unitsnet', 'affordable', 'affnet', 'zoning_sim', 'dbidesc', 'total_gsf', 'net_gsf', 'geography', 'coordinates')\n",
    "Q32014df = importdata(Q32014, 'Q32014','block_lot', 'location_1_address', 'best_stat', 'best_date', 'units', 'net_added_units', 'affordable', 'affnet', 'zoning', 'dbi_project_description', 'total_gsf_commercial', 'net_added_sf', 'location_1', 'coordinates')\n",
    "Q22014df = importdata(Q22014, 'Q22014','block_lot', 'location_1_address', 'best_stat', 'best_date', 'units', 'net_added_units', 'affordable', 'affordablenet', 'zoning_simplified', 'planning_project_description', 'total_gsf_commercial', 'net_added_sf', 'location_1', 'coordinates')\n",
    "Q12014df = importdata(Q12014,'Q12014', 'block_lot', 'location_1_address', 'best_stat', 'best_date', 'units', 'net_added_units', 'affordable', 'affordablenet', 'zoning_simplified','planning_project_description', 'total_gsf_commercial', 'net_added_sf', 'location_1', 'coordinates')\n",
    "Q42013df = importdata(Q42013,'Q42013', 'block_lot', 'location_1_address', 'best_stat', 'best_date', 'units', 'net_added_units', 'affordable', 'affordablenet', 'zoning_simplified','planning_project_description', 'total_gsf_commercial', 'net_added_sf', 'location_1', 'coordinates')\n",
    "Q32013df = importdata(Q32013, 'Q32013','block_lot', 'location_1_address', 'best_stat', 'best_date', 'units', 'net_added_units', 'affordable', 'affordablenet', 'zoning_simplified', 'planning_project_description', 'total_gsf_commercial', 'net_added_sf', 'location_1', 'coordinates')\n",
    "Q22013df = importdata(Q22013, 'Q22013','block_lot', 'location_1_address', 'best_stat', 'best_date', 'units', 'net_added_units', 'affordable', 'affordablenet', 'zoning_simplified', 'dbi_project_description', 'total_gsf_commercial', 'net_added_sf', 'location_1', 'coordinates')\n",
    "Q12013df = importdata(Q12013, 'Q12013','block_lot', 'location_1_address', 'best_stat', 'best_date', 'units', 'net_added_units', 'affordable', 'affordablenet', 'zoning_simplified', 'dbi_project_description','total_gsf_commercial', 'net_added_sf', 'location_1', 'coordinates')\n",
    "Q42012df = importdata(Q42012, 'Q42012','block_lot', 'location_1_address', 'best_stat', 'best_date', 'units', 'net_added_units', 'affordable', 'affordablenet', 'zoning_simplified', 'dbi_project_description','total_gsf_commercial', 'net_added_sf', 'location_1', 'coordinates')\n"
   ]
  },
  {
   "cell_type": "markdown",
   "metadata": {},
   "source": [
    "# Import Q1 2016\n",
    "Define a second import function for just Q1 2016 - need different importation because it is missing summation for commercial "
   ]
  },
  {
   "cell_type": "code",
   "execution_count": 42,
   "metadata": {
    "collapsed": false
   },
   "outputs": [],
   "source": [
    "def importdata(quarter, quartervalue, field1, field2, field3, \n",
    "               field4, field5, field6, field7, field8, field9, field10, \n",
    "               field11, field12, field13, field14, field15, field16, field17, field18, field19, \n",
    "               field20, field21, field22, geogfield1, geogfield2):\n",
    "    '''\n",
    "    This function calls the API endpoint quarter and returns a dataframe with the desired columns.\n",
    "    field'n' = 'name' represent the desired fields as they are named at the API endpoint\n",
    "    '''\n",
    "    \n",
    "    def includekey(field):\n",
    "        '''\n",
    "        This function takes a given field from the API endpoint and creates a list out of its entires.\n",
    "        '''\n",
    "        list = []\n",
    "        for item in data: \n",
    "            if field in item.keys():\n",
    "                list.append(item[field])\n",
    "            else:\n",
    "                list.append(np.nan)\n",
    "        return list\n",
    "\n",
    "    def include_coor_key(one, two):\n",
    "        '''\n",
    "        This function takes a given geographic field from the API endpoint and creates a list out of its entires.\n",
    "        '''\n",
    "        list = []\n",
    "        for item in data: \n",
    "            if one in item.keys():\n",
    "                list.append(item[one][two])\n",
    "            else:\n",
    "                list.append(np.nan)\n",
    "        return list\n",
    "    \n",
    "    response = requests.get(quarter)\n",
    "    results = response.text\n",
    "    data = json.loads(results) #data is a list at this point\n",
    "    \n",
    "    #import fields\n",
    "    d = {}\n",
    "    d['lot_number'] = includekey(field1)\n",
    "    d['address'] = includekey(field2)\n",
    "    d['status'] = includekey(field3)\n",
    "    d['latest_date'] = includekey(field4)\n",
    "    d['units'] = includekey(field5)\n",
    "    d['net_units'] = includekey(field6)\n",
    "    d['affordable_units'] = includekey(field7)\n",
    "    d['net_affordable_units'] = includekey(field8)\n",
    "    d['zone'] = includekey(field9)\n",
    "    d['desc'] = includekey(field10)\n",
    "    d['retail'] = includekey(field11)\n",
    "    d['retail_net'] = includekey(field12)\n",
    "    d['office'] = includekey(field13)\n",
    "    d['office_net'] = includekey(field14)\n",
    "    d['ind'] = includekey(field15)\n",
    "    d['ind_net'] = includekey(field16)\n",
    "    d['med'] = includekey(field17)\n",
    "    d['med_net'] = includekey(field18)\n",
    "    d['vis'] = includekey(field19)\n",
    "    d['vis_net'] = includekey(field20)\n",
    "    d['cie'] = includekey(field21)\n",
    "    d['cie_net'] = includekey(field22)\n",
    "    d['lat_lon'] = include_coor_key(geogfield1, geogfield2)\n",
    "    \n",
    "    df = pd.DataFrame.from_dict(d)\n",
    "    df['quarter'] = quartervalue\n",
    "    \n",
    "    return df"
   ]
  },
  {
   "cell_type": "code",
   "execution_count": 43,
   "metadata": {
    "collapsed": false
   },
   "outputs": [],
   "source": [
    "Q12016df = importdata(Q12016, 'Q12016', 'apn', 'nameaddr', 'beststat', \n",
    "                      'bestdate', 'units', 'unitsnet', 'affordable', \n",
    "                      'affordable_net', 'zoning', 'dbidesc', \n",
    "                      'retailcomm_proposed','retailcomm_net', 'office_proposed', 'office_net', \n",
    "                      'industrial_proposed', 'industrial_net', 'medical_proposed', \n",
    "                      'medical_net', 'visitor_proposed', 'visitor_net', \n",
    "                      'cie_proposed', 'cie_net', 'location', 'coordinates')"
   ]
  },
  {
   "cell_type": "code",
   "execution_count": 44,
   "metadata": {
    "collapsed": false
   },
   "outputs": [],
   "source": [
    "#convert variables to floats\n",
    "vars = ['retail', 'office', 'ind', 'med', 'vis', 'cie']\n",
    "\n",
    "for i in vars:\n",
    "    Q12016df[i] = Q12016df[i].astype(int)\n",
    "    Q12016df[i+'_net'] = Q12016df[i+'_net'].astype(int)\n"
   ]
  },
  {
   "cell_type": "code",
   "execution_count": 45,
   "metadata": {
    "collapsed": true
   },
   "outputs": [],
   "source": [
    "#define sums for total and net commercial square footage\n",
    "Q12016df['comm_sqft'] = Q12016df[['retail', 'office', 'ind', 'med', 'vis', 'cie']].sum(axis = 1)\n",
    "Q12016df['comm_sqft_net'] = Q12016df[['retail_net', 'office_net', 'ind_net', 'med_net', 'vis_net', 'cie_net']].sum(axis = 1)\n"
   ]
  },
  {
   "cell_type": "code",
   "execution_count": 46,
   "metadata": {
    "collapsed": false
   },
   "outputs": [
    {
     "data": {
      "text/html": [
       "<div>\n",
       "<table border=\"1\" class=\"dataframe\">\n",
       "  <thead>\n",
       "    <tr style=\"text-align: right;\">\n",
       "      <th></th>\n",
       "      <th>address</th>\n",
       "      <th>affordable_units</th>\n",
       "      <th>cie</th>\n",
       "      <th>cie_net</th>\n",
       "      <th>desc</th>\n",
       "      <th>ind</th>\n",
       "      <th>ind_net</th>\n",
       "      <th>lat_lon</th>\n",
       "      <th>latest_date</th>\n",
       "      <th>lot_number</th>\n",
       "      <th>...</th>\n",
       "      <th>retail</th>\n",
       "      <th>retail_net</th>\n",
       "      <th>status</th>\n",
       "      <th>units</th>\n",
       "      <th>vis</th>\n",
       "      <th>vis_net</th>\n",
       "      <th>zone</th>\n",
       "      <th>quarter</th>\n",
       "      <th>comm_sqft</th>\n",
       "      <th>comm_sqft_net</th>\n",
       "    </tr>\n",
       "  </thead>\n",
       "  <tbody>\n",
       "    <tr>\n",
       "      <th>0</th>\n",
       "      <td>247 MONTANA ST</td>\n",
       "      <td>0</td>\n",
       "      <td>0</td>\n",
       "      <td>0</td>\n",
       "      <td>LEGALIZE SECOND UNIT AS PER SF ORDINANCE 43-14.</td>\n",
       "      <td>0</td>\n",
       "      <td>0</td>\n",
       "      <td>[-122.460794, 37.716342]</td>\n",
       "      <td>2015-11-06T00:00:00.000</td>\n",
       "      <td>APN 7069030</td>\n",
       "      <td>...</td>\n",
       "      <td>0</td>\n",
       "      <td>0</td>\n",
       "      <td>BP FILED</td>\n",
       "      <td>2</td>\n",
       "      <td>0</td>\n",
       "      <td>0</td>\n",
       "      <td>RH-1</td>\n",
       "      <td>Q12016</td>\n",
       "      <td>0</td>\n",
       "      <td>0</td>\n",
       "    </tr>\n",
       "    <tr>\n",
       "      <th>1</th>\n",
       "      <td>827 34TH AV</td>\n",
       "      <td>0</td>\n",
       "      <td>0</td>\n",
       "      <td>0</td>\n",
       "      <td>1ST FLOOR: CONVERT PORTION OF THE 1ST FLLOR TO...</td>\n",
       "      <td>0</td>\n",
       "      <td>0</td>\n",
       "      <td>[-122.494256, 37.77343]</td>\n",
       "      <td>2016-03-07T00:00:00.000</td>\n",
       "      <td>APN 1677004</td>\n",
       "      <td>...</td>\n",
       "      <td>0</td>\n",
       "      <td>0</td>\n",
       "      <td>BP ISSUED</td>\n",
       "      <td>2</td>\n",
       "      <td>0</td>\n",
       "      <td>0</td>\n",
       "      <td>RH-2</td>\n",
       "      <td>Q12016</td>\n",
       "      <td>0</td>\n",
       "      <td>0</td>\n",
       "    </tr>\n",
       "    <tr>\n",
       "      <th>2</th>\n",
       "      <td>427 MORAGA ST</td>\n",
       "      <td>0</td>\n",
       "      <td>0</td>\n",
       "      <td>0</td>\n",
       "      <td>NEW 3RD FLOOR ADDITION TO (E); ADD MASTER BEDR...</td>\n",
       "      <td>0</td>\n",
       "      <td>0</td>\n",
       "      <td>[-122.467379, 37.756267]</td>\n",
       "      <td>2008-07-03T00:00:00.000</td>\n",
       "      <td>APN 2039044</td>\n",
       "      <td>...</td>\n",
       "      <td>0</td>\n",
       "      <td>0</td>\n",
       "      <td>BP FILED</td>\n",
       "      <td>2</td>\n",
       "      <td>0</td>\n",
       "      <td>0</td>\n",
       "      <td>RH-2</td>\n",
       "      <td>Q12016</td>\n",
       "      <td>0</td>\n",
       "      <td>0</td>\n",
       "    </tr>\n",
       "    <tr>\n",
       "      <th>3</th>\n",
       "      <td>1000 07TH ST (BLDG 2 OF 3)</td>\n",
       "      <td>0</td>\n",
       "      <td>0</td>\n",
       "      <td>0</td>\n",
       "      <td>CONSTRUCT (N) MERCANTILE/RETAIL/PDR BUILDING.</td>\n",
       "      <td>142784</td>\n",
       "      <td>56252</td>\n",
       "      <td>[-122.399391, 37.768687]</td>\n",
       "      <td>2015-12-17T00:00:00.000</td>\n",
       "      <td>APN 3808003</td>\n",
       "      <td>...</td>\n",
       "      <td>0</td>\n",
       "      <td>0</td>\n",
       "      <td>BP ISSUED</td>\n",
       "      <td>0</td>\n",
       "      <td>0</td>\n",
       "      <td>0</td>\n",
       "      <td>PDR-1-D</td>\n",
       "      <td>Q12016</td>\n",
       "      <td>427255</td>\n",
       "      <td>340723</td>\n",
       "    </tr>\n",
       "    <tr>\n",
       "      <th>4</th>\n",
       "      <td>175 BREWSTER ST</td>\n",
       "      <td>0</td>\n",
       "      <td>0</td>\n",
       "      <td>0</td>\n",
       "      <td>ERECT 4 STORY, TYPE 5, SINGLE FAMILY DWELLING ...</td>\n",
       "      <td>0</td>\n",
       "      <td>0</td>\n",
       "      <td>[-122.407147, 37.743678]</td>\n",
       "      <td>2015-11-24T00:00:00.000</td>\n",
       "      <td>APN 5577012</td>\n",
       "      <td>...</td>\n",
       "      <td>0</td>\n",
       "      <td>0</td>\n",
       "      <td>BP ISSUED</td>\n",
       "      <td>1</td>\n",
       "      <td>0</td>\n",
       "      <td>0</td>\n",
       "      <td>RH-1</td>\n",
       "      <td>Q12016</td>\n",
       "      <td>0</td>\n",
       "      <td>0</td>\n",
       "    </tr>\n",
       "    <tr>\n",
       "      <th>5</th>\n",
       "      <td>657 VALENCIA ST</td>\n",
       "      <td>0</td>\n",
       "      <td>0</td>\n",
       "      <td>0</td>\n",
       "      <td>ERECT 5 STORIES OF 4 DWELLING UNIT . TYPE 5</td>\n",
       "      <td>0</td>\n",
       "      <td>0</td>\n",
       "      <td>[-122.421365, 37.762418]</td>\n",
       "      <td>2015-10-23T00:00:00.000</td>\n",
       "      <td>APN 3576061</td>\n",
       "      <td>...</td>\n",
       "      <td>0</td>\n",
       "      <td>0</td>\n",
       "      <td>BP FILED</td>\n",
       "      <td>4</td>\n",
       "      <td>0</td>\n",
       "      <td>0</td>\n",
       "      <td>NCT-VALENCIA</td>\n",
       "      <td>Q12016</td>\n",
       "      <td>0</td>\n",
       "      <td>0</td>\n",
       "    </tr>\n",
       "    <tr>\n",
       "      <th>6</th>\n",
       "      <td>546 34TH AV</td>\n",
       "      <td>0</td>\n",
       "      <td>0</td>\n",
       "      <td>0</td>\n",
       "      <td>NaN</td>\n",
       "      <td>0</td>\n",
       "      <td>0</td>\n",
       "      <td>[-122.493982, 37.77871]</td>\n",
       "      <td>2015-04-06T00:00:00.000</td>\n",
       "      <td>APN 1511034</td>\n",
       "      <td>...</td>\n",
       "      <td>0</td>\n",
       "      <td>0</td>\n",
       "      <td>CONSTRUCTION</td>\n",
       "      <td>2</td>\n",
       "      <td>0</td>\n",
       "      <td>0</td>\n",
       "      <td>RH-2</td>\n",
       "      <td>Q12016</td>\n",
       "      <td>0</td>\n",
       "      <td>0</td>\n",
       "    </tr>\n",
       "    <tr>\n",
       "      <th>7</th>\n",
       "      <td>259 CLARA ST</td>\n",
       "      <td>0</td>\n",
       "      <td>0</td>\n",
       "      <td>0</td>\n",
       "      <td>ERECT 5-STORY, TYPE 5, 1 BASEMENT, 8 UNITS DWE...</td>\n",
       "      <td>0</td>\n",
       "      <td>-4000</td>\n",
       "      <td>[-122.403506, 37.778347]</td>\n",
       "      <td>2015-05-13T00:00:00.000</td>\n",
       "      <td>APN 3753042</td>\n",
       "      <td>...</td>\n",
       "      <td>0</td>\n",
       "      <td>0</td>\n",
       "      <td>BP ISSUED</td>\n",
       "      <td>8</td>\n",
       "      <td>0</td>\n",
       "      <td>0</td>\n",
       "      <td>MUR</td>\n",
       "      <td>Q12016</td>\n",
       "      <td>945</td>\n",
       "      <td>-3055</td>\n",
       "    </tr>\n",
       "    <tr>\n",
       "      <th>8</th>\n",
       "      <td>1631 OAKDALE AV</td>\n",
       "      <td>0</td>\n",
       "      <td>0</td>\n",
       "      <td>0</td>\n",
       "      <td>TO ERECT 4 STORIES, NO BASEMENT, 2 FAMILY DWEL...</td>\n",
       "      <td>0</td>\n",
       "      <td>0</td>\n",
       "      <td>[-122.391494, 37.734952]</td>\n",
       "      <td>2015-10-16T00:00:00.000</td>\n",
       "      <td>APN 5322032</td>\n",
       "      <td>...</td>\n",
       "      <td>0</td>\n",
       "      <td>0</td>\n",
       "      <td>BP FILED</td>\n",
       "      <td>2</td>\n",
       "      <td>0</td>\n",
       "      <td>0</td>\n",
       "      <td>RH-2</td>\n",
       "      <td>Q12016</td>\n",
       "      <td>0</td>\n",
       "      <td>0</td>\n",
       "    </tr>\n",
       "    <tr>\n",
       "      <th>9</th>\n",
       "      <td>2034 CLEMENT ST</td>\n",
       "      <td>0</td>\n",
       "      <td>0</td>\n",
       "      <td>0</td>\n",
       "      <td>ERECT 4 STORIES, 3 UNITS, TYPE 5 BUILDING.</td>\n",
       "      <td>0</td>\n",
       "      <td>0</td>\n",
       "      <td>[-122.481284, 37.782524]</td>\n",
       "      <td>2014-04-10T00:00:00.000</td>\n",
       "      <td>APN 1412019</td>\n",
       "      <td>...</td>\n",
       "      <td>0</td>\n",
       "      <td>0</td>\n",
       "      <td>CONSTRUCTION</td>\n",
       "      <td>3</td>\n",
       "      <td>0</td>\n",
       "      <td>0</td>\n",
       "      <td>NCD-OUTER CLEMENT</td>\n",
       "      <td>Q12016</td>\n",
       "      <td>0</td>\n",
       "      <td>-2305</td>\n",
       "    </tr>\n",
       "  </tbody>\n",
       "</table>\n",
       "<p>10 rows × 26 columns</p>\n",
       "</div>"
      ],
      "text/plain": [
       "                      address affordable_units  cie  cie_net  \\\n",
       "0              247 MONTANA ST                0    0        0   \n",
       "1                 827 34TH AV                0    0        0   \n",
       "2               427 MORAGA ST                0    0        0   \n",
       "3  1000 07TH ST (BLDG 2 OF 3)                0    0        0   \n",
       "4             175 BREWSTER ST                0    0        0   \n",
       "5             657 VALENCIA ST                0    0        0   \n",
       "6                 546 34TH AV                0    0        0   \n",
       "7                259 CLARA ST                0    0        0   \n",
       "8             1631 OAKDALE AV                0    0        0   \n",
       "9             2034 CLEMENT ST                0    0        0   \n",
       "\n",
       "                                                desc     ind  ind_net  \\\n",
       "0    LEGALIZE SECOND UNIT AS PER SF ORDINANCE 43-14.       0        0   \n",
       "1  1ST FLOOR: CONVERT PORTION OF THE 1ST FLLOR TO...       0        0   \n",
       "2  NEW 3RD FLOOR ADDITION TO (E); ADD MASTER BEDR...       0        0   \n",
       "3      CONSTRUCT (N) MERCANTILE/RETAIL/PDR BUILDING.  142784    56252   \n",
       "4  ERECT 4 STORY, TYPE 5, SINGLE FAMILY DWELLING ...       0        0   \n",
       "5        ERECT 5 STORIES OF 4 DWELLING UNIT . TYPE 5       0        0   \n",
       "6                                                NaN       0        0   \n",
       "7  ERECT 5-STORY, TYPE 5, 1 BASEMENT, 8 UNITS DWE...       0    -4000   \n",
       "8  TO ERECT 4 STORIES, NO BASEMENT, 2 FAMILY DWEL...       0        0   \n",
       "9         ERECT 4 STORIES, 3 UNITS, TYPE 5 BUILDING.       0        0   \n",
       "\n",
       "                    lat_lon              latest_date   lot_number  \\\n",
       "0  [-122.460794, 37.716342]  2015-11-06T00:00:00.000  APN 7069030   \n",
       "1   [-122.494256, 37.77343]  2016-03-07T00:00:00.000  APN 1677004   \n",
       "2  [-122.467379, 37.756267]  2008-07-03T00:00:00.000  APN 2039044   \n",
       "3  [-122.399391, 37.768687]  2015-12-17T00:00:00.000  APN 3808003   \n",
       "4  [-122.407147, 37.743678]  2015-11-24T00:00:00.000  APN 5577012   \n",
       "5  [-122.421365, 37.762418]  2015-10-23T00:00:00.000  APN 3576061   \n",
       "6   [-122.493982, 37.77871]  2015-04-06T00:00:00.000  APN 1511034   \n",
       "7  [-122.403506, 37.778347]  2015-05-13T00:00:00.000  APN 3753042   \n",
       "8  [-122.391494, 37.734952]  2015-10-16T00:00:00.000  APN 5322032   \n",
       "9  [-122.481284, 37.782524]  2014-04-10T00:00:00.000  APN 1412019   \n",
       "\n",
       "       ...       retail  retail_net        status units  vis  vis_net  \\\n",
       "0      ...            0           0      BP FILED     2    0        0   \n",
       "1      ...            0           0     BP ISSUED     2    0        0   \n",
       "2      ...            0           0      BP FILED     2    0        0   \n",
       "3      ...            0           0     BP ISSUED     0    0        0   \n",
       "4      ...            0           0     BP ISSUED     1    0        0   \n",
       "5      ...            0           0      BP FILED     4    0        0   \n",
       "6      ...            0           0  CONSTRUCTION     2    0        0   \n",
       "7      ...            0           0     BP ISSUED     8    0        0   \n",
       "8      ...            0           0      BP FILED     2    0        0   \n",
       "9      ...            0           0  CONSTRUCTION     3    0        0   \n",
       "\n",
       "                zone  quarter comm_sqft comm_sqft_net  \n",
       "0               RH-1   Q12016         0             0  \n",
       "1               RH-2   Q12016         0             0  \n",
       "2               RH-2   Q12016         0             0  \n",
       "3            PDR-1-D   Q12016    427255        340723  \n",
       "4               RH-1   Q12016         0             0  \n",
       "5       NCT-VALENCIA   Q12016         0             0  \n",
       "6               RH-2   Q12016         0             0  \n",
       "7                MUR   Q12016       945         -3055  \n",
       "8               RH-2   Q12016         0             0  \n",
       "9  NCD-OUTER CLEMENT   Q12016         0         -2305  \n",
       "\n",
       "[10 rows x 26 columns]"
      ]
     },
     "execution_count": 46,
     "metadata": {},
     "output_type": "execute_result"
    }
   ],
   "source": [
    "Q12016df.head(10)"
   ]
  },
  {
   "cell_type": "markdown",
   "metadata": {},
   "source": [
    "# Append Data Together\n",
    "Append the dataframes together for one panel dataset."
   ]
  },
  {
   "cell_type": "code",
   "execution_count": 47,
   "metadata": {
    "collapsed": false
   },
   "outputs": [
    {
     "data": {
      "text/plain": [
       "(14666, 26)"
      ]
     },
     "execution_count": 47,
     "metadata": {},
     "output_type": "execute_result"
    }
   ],
   "source": [
    "#Append data together\n",
    "quarters = [Q22016df, Q12016df, Q42015df, Q32015df, Q22015df, Q12015df, Q42014df, \n",
    "            Q32014df, Q22014df, Q12014df, Q42013df, Q32013df, Q22013df, Q12013df,\n",
    "           Q42012df]\n",
    "full_df = Q32016df.append(quarters)\n",
    "full_df.shape"
   ]
  },
  {
   "cell_type": "markdown",
   "metadata": {},
   "source": [
    "Clean data after appending."
   ]
  },
  {
   "cell_type": "code",
   "execution_count": 48,
   "metadata": {
    "collapsed": false
   },
   "outputs": [],
   "source": [
    "#clean affordable units variables\n",
    "full_df.loc[full_df['affordable_units'] == '0E-11', 'affordable_units'] = 0\n",
    "full_df.loc[full_df['net_affordable_units'] == '0E-11', 'net_affordable_units'] = 0\n",
    "#full_df.head()\n"
   ]
  },
  {
   "cell_type": "code",
   "execution_count": 49,
   "metadata": {
    "collapsed": false
   },
   "outputs": [],
   "source": [
    "#Clean data after importing\n",
    "full_df['lon'] = full_df['lat_lon'].astype(str).str.split(',').str[0].str.strip('[')\n",
    "full_df['lat'] = full_df['lat_lon'].astype(str).str.split(',').str[1].str.strip(']')\n",
    "full_df['lon'] = full_df['lon'].astype(float)\n",
    "full_df['lat'] = full_df['lat'].astype(float)\n",
    "full_df['net_units'] = full_df['net_units'].astype(float) #convert to float\n",
    "full_df['units'] = full_df['units'].astype(float) #convert to float\n",
    "full_df['net_affordable_units'] = full_df['net_affordable_units'].astype(float) #convert to float\n",
    "full_df['affordable_units'] = full_df['affordable_units'].astype(float) #convert to float\n",
    "full_df['lot_number'] = full_df['lot_number'].str.strip('APN ').str.zfill(7)\n",
    "full_df['comm_sqft'] = full_df['comm_sqft'].astype(float) #convert to float\n",
    "full_df['comm_sqft_net'] = full_df['comm_sqft_net'].astype(float) #convert to float"
   ]
  },
  {
   "cell_type": "code",
   "execution_count": 50,
   "metadata": {
    "collapsed": true
   },
   "outputs": [],
   "source": [
    "#create a dictionary for which quarter a project is in and then sort by quarters\n",
    "quarter_dict = {'Q32016': 17, 'Q22016': 16, 'Q12016': 15, 'Q42015': 14, 'Q32015': 13, 'Q22015': 12, 'Q12015': 11, 'Q42014': 10, \n",
    "                'Q32014': 9, 'Q22014': 8, 'Q22014': 7, 'Q12014': 6, 'Q42013': 5, 'Q32013': 4, 'Q22013': 3, \n",
    "                'Q12013': 2, 'Q42012': 1}\n",
    "\n",
    "full_df['quarter_order'] = full_df['quarter'].map(quarter_dict)\n",
    "full_df.sort_values(['lot_number', 'quarter_order'], ascending=True, inplace = True)"
   ]
  },
  {
   "cell_type": "code",
   "execution_count": 51,
   "metadata": {
    "collapsed": true
   },
   "outputs": [],
   "source": [
    "#Clean status column\n",
    "def change(value):\n",
    "    if value['status'] == 'BP Filed': \n",
    "        field = 'BP FILED'\n",
    "        \n",
    "    elif value['status'] == 'PL Filed':\n",
    "        field = 'PL FILED'\n",
    "        \n",
    "    elif value['status'] == 'PL Approved':\n",
    "        field = 'PL APPROVED'\n",
    "        \n",
    "    else: \n",
    "        field = value['status']\n",
    "    return field\n",
    "\n",
    "\n",
    "full_df['status'] = full_df.apply(change, axis = 1)"
   ]
  },
  {
   "cell_type": "code",
   "execution_count": 52,
   "metadata": {
    "collapsed": false
   },
   "outputs": [
    {
     "data": {
      "text/plain": [
       "BP FILED         5680\n",
       "CONSTRUCTION     2913\n",
       "BP ISSUED        2058\n",
       "PL FILED         1875\n",
       "PL APPROVED      1322\n",
       "BP APPROVED       509\n",
       "BP REINSTATED     309\n",
       "Name: status, dtype: int64"
      ]
     },
     "execution_count": 52,
     "metadata": {},
     "output_type": "execute_result"
    }
   ],
   "source": [
    "full_df['status'].value_counts() #check to see that each category is mutually exclusive"
   ]
  },
  {
   "cell_type": "code",
   "execution_count": 53,
   "metadata": {
    "collapsed": false
   },
   "outputs": [],
   "source": [
    "#Make Quarter variable nicer\n",
    "full_df['quarter'] = full_df['quarter'].str[:2] + '-' + full_df['quarter'].str[2:]"
   ]
  },
  {
   "cell_type": "markdown",
   "metadata": {},
   "source": [
    "# Export Residential Projects"
   ]
  },
  {
   "cell_type": "markdown",
   "metadata": {},
   "source": [
    "In the next step, I filter out projects that have no impact on residential development. I define these as those projects with either both zeros for total units and total net units constructed or both nulls for total units and total net units constructed."
   ]
  },
  {
   "cell_type": "code",
   "execution_count": 54,
   "metadata": {
    "collapsed": true
   },
   "outputs": [],
   "source": [
    "#filter out those observations that have no impact on residential construction (0 or null net units and 0 or null units)\n",
    "full_df_res = full_df[(full_df['units'] != 0) | (full_df['net_units'] != 0)]\n",
    "full_df_res = full_df_res[(full_df_res['units'].notnull()) | (full_df_res['net_units'].notnull())]\n"
   ]
  },
  {
   "cell_type": "markdown",
   "metadata": {},
   "source": [
    "In this step, I create a new variable to order the quarters in the dataset."
   ]
  },
  {
   "cell_type": "code",
   "execution_count": 55,
   "metadata": {
    "collapsed": false
   },
   "outputs": [],
   "source": [
    "#export data to csv\n",
    "export_path = \"/Users/briangoggin/Dropbox/CP 255/SF Development Project/Intermediate Files/\"\n",
    "full_df_res.to_csv(export_path+'/pipeline.csv')"
   ]
  },
  {
   "cell_type": "markdown",
   "metadata": {
    "collapsed": true
   },
   "source": [
    "# Export Commercial Projects"
   ]
  },
  {
   "cell_type": "markdown",
   "metadata": {},
   "source": [
    "Finally, I filter out projects that have no impact on commercial development. I define these as those projects with either both zeros for total units and total net units constructed or both nulls for total units and total net units constructed."
   ]
  },
  {
   "cell_type": "code",
   "execution_count": 56,
   "metadata": {
    "collapsed": true
   },
   "outputs": [],
   "source": [
    "full_df_com = full_df[(full_df['comm_sqft'] != 0) | (full_df['comm_sqft_net'] != 0)]\n",
    "full_df_com = full_df_com[(full_df_com['comm_sqft'].notnull()) | (full_df_com['comm_sqft_net'].notnull())]"
   ]
  },
  {
   "cell_type": "code",
   "execution_count": 57,
   "metadata": {
    "collapsed": true
   },
   "outputs": [],
   "source": [
    "#export data to csv\n",
    "export_path = \"/Users/briangoggin/Dropbox/CP 255/SF Development Project/Intermediate Files/\"\n",
    "full_df_com.to_csv(export_path+'/pipeline_com.csv')"
   ]
  },
  {
   "cell_type": "code",
   "execution_count": null,
   "metadata": {
    "collapsed": true
   },
   "outputs": [],
   "source": []
  }
 ],
 "metadata": {
  "anaconda-cloud": {},
  "kernelspec": {
   "display_name": "Python [Root]",
   "language": "python",
   "name": "Python [Root]"
  },
  "language_info": {
   "codemirror_mode": {
    "name": "ipython",
    "version": 3
   },
   "file_extension": ".py",
   "mimetype": "text/x-python",
   "name": "python",
   "nbconvert_exporter": "python",
   "pygments_lexer": "ipython3",
   "version": "3.5.2"
  }
 },
 "nbformat": 4,
 "nbformat_minor": 0
}
