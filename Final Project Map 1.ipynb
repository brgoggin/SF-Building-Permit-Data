{
 "cells": [
  {
   "cell_type": "markdown",
   "metadata": {},
   "source": [
    "# Final Project Map 1\n",
    "## Brian Goggin\n",
    "In this assignment, I use the development pipeline data of SF development in order to create an online map of residential construction by Zillow neighborhood. \n"
   ]
  },
  {
   "cell_type": "code",
   "execution_count": 44,
   "metadata": {
    "collapsed": false
   },
   "outputs": [],
   "source": [
    "#import packages\n",
    "import pandas as pd\n",
    "import numpy as np\n",
    "import re as re\n",
    "import json    # library for working with JSON-formatted text strings\n",
    "import requests  # library for accessing content from web URLs\n",
    "import pprint  # library for making Python data structures readable\n",
    "pp = pprint.PrettyPrinter()\n",
    "import geopandas as gpd\n",
    "from geopandas import GeoDataFrame\n",
    "from shapely.geometry import Point\n",
    "from geopy.distance import great_circle\n",
    "from scipy import ndimage\n",
    "import pysal #packaged required for changing mapping schemes (e.g. quantile versus equal interval)\n",
    "import os"
   ]
  },
  {
   "cell_type": "markdown",
   "metadata": {},
   "source": [
    "## Determine constructed unites over time"
   ]
  },
  {
   "cell_type": "markdown",
   "metadata": {},
   "source": [
    "First, I assume that units were constructed in the latest quarter for which the project had \"construction\" as a project status. I identify these observations."
   ]
  },
  {
   "cell_type": "code",
   "execution_count": 45,
   "metadata": {
    "collapsed": true
   },
   "outputs": [],
   "source": [
    "import_path = \"/Users/briangoggin/Dropbox/CP 255/Permit Project/Intermediate Files/\"\n",
    "full_df = pd.read_csv(import_path+\"/pipeline.csv\")"
   ]
  },
  {
   "cell_type": "code",
   "execution_count": 46,
   "metadata": {
    "collapsed": false
   },
   "outputs": [],
   "source": [
    "#create dataframes for line graph of construction, BP, and BI starts over time\n",
    "cons_end = full_df[full_df['status'] == \"CONSTRUCTION\"].groupby(['lot_number'], as_index=False)['quarter_order'].max()\n",
    "cons_end.rename(columns = {'quarter_order': 'consdate'}, inplace = True)\n",
    "#merge data together to identify quarter that projects were built\n",
    "full_df2 = full_df.merge(cons_end, on = 'lot_number', how = \"outer\")\n",
    "full_df2 = full_df2[full_df2['consdate'] == full_df2['quarter_order']]\n",
    "full_df2 = full_df2[full_df2['quarter_order'] != 16]\n",
    "full_df2 = full_df2[full_df2['net_units'].notnull()] #keep only those projects that have nonmissing net units"
   ]
  },
  {
   "cell_type": "markdown",
   "metadata": {},
   "source": [
    "# Create Point Data"
   ]
  },
  {
   "cell_type": "code",
   "execution_count": 47,
   "metadata": {
    "collapsed": false
   },
   "outputs": [],
   "source": [
    "crs = {'init' :'epsg:4326'}\n",
    "geometry = [Point(xy) for xy in zip(full_df2.lon, full_df2.lat)]\n",
    "construction = GeoDataFrame(full_df2, crs=crs, geometry=geometry)\n",
    "#construction.plot();"
   ]
  },
  {
   "cell_type": "markdown",
   "metadata": {},
   "source": [
    "# Import Zillow Neighborhood Boundaries"
   ]
  },
  {
   "cell_type": "code",
   "execution_count": 48,
   "metadata": {
    "collapsed": false
   },
   "outputs": [],
   "source": [
    "root = '/Users/briangoggin/Dropbox/CP 255/Permit Project/Raw Data'\n",
    "\n",
    "boundaries = gpd.read_file(root+'/ZillowNeighborhoods-CA/ZillowNeighborhoods-CA.shp')"
   ]
  },
  {
   "cell_type": "code",
   "execution_count": 49,
   "metadata": {
    "collapsed": false
   },
   "outputs": [],
   "source": [
    "boundaries = boundaries[boundaries['COUNTY']=='San Francisco'] #keep only SF neighborhoods\n",
    "#boundaries.plot();"
   ]
  },
  {
   "cell_type": "code",
   "execution_count": 50,
   "metadata": {
    "collapsed": false
   },
   "outputs": [
    {
     "data": {
      "text/html": [
       "<div>\n",
       "<table border=\"1\" class=\"dataframe\">\n",
       "  <thead>\n",
       "    <tr style=\"text-align: right;\">\n",
       "      <th></th>\n",
       "      <th>CITY</th>\n",
       "      <th>COUNTY</th>\n",
       "      <th>NAME</th>\n",
       "      <th>REGIONID</th>\n",
       "      <th>STATE</th>\n",
       "      <th>geometry</th>\n",
       "    </tr>\n",
       "  </thead>\n",
       "  <tbody>\n",
       "    <tr>\n",
       "      <th>789</th>\n",
       "      <td>San Francisco</td>\n",
       "      <td>San Francisco</td>\n",
       "      <td>Bayview</td>\n",
       "      <td>272885.0</td>\n",
       "      <td>CA</td>\n",
       "      <td>POLYGON ((-122.380496615061 37.7507156475919, ...</td>\n",
       "    </tr>\n",
       "    <tr>\n",
       "      <th>790</th>\n",
       "      <td>San Francisco</td>\n",
       "      <td>San Francisco</td>\n",
       "      <td>Bernal Heights</td>\n",
       "      <td>268020.0</td>\n",
       "      <td>CA</td>\n",
       "      <td>POLYGON ((-122.403862539662 37.7494769720709, ...</td>\n",
       "    </tr>\n",
       "    <tr>\n",
       "      <th>791</th>\n",
       "      <td>San Francisco</td>\n",
       "      <td>San Francisco</td>\n",
       "      <td>Castro-Upper Market</td>\n",
       "      <td>276241.0</td>\n",
       "      <td>CA</td>\n",
       "      <td>POLYGON ((-122.426029676707 37.7697778521009, ...</td>\n",
       "    </tr>\n",
       "    <tr>\n",
       "      <th>792</th>\n",
       "      <td>San Francisco</td>\n",
       "      <td>San Francisco</td>\n",
       "      <td>Chinatown</td>\n",
       "      <td>114291.0</td>\n",
       "      <td>CA</td>\n",
       "      <td>POLYGON ((-122.41020215338 37.7974876723953, -...</td>\n",
       "    </tr>\n",
       "    <tr>\n",
       "      <th>793</th>\n",
       "      <td>San Francisco</td>\n",
       "      <td>San Francisco</td>\n",
       "      <td>Crocker Amazon</td>\n",
       "      <td>273404.0</td>\n",
       "      <td>CA</td>\n",
       "      <td>POLYGON ((-122.454085201694 37.7082065558492, ...</td>\n",
       "    </tr>\n",
       "  </tbody>\n",
       "</table>\n",
       "</div>"
      ],
      "text/plain": [
       "              CITY         COUNTY                 NAME  REGIONID STATE  \\\n",
       "789  San Francisco  San Francisco              Bayview  272885.0    CA   \n",
       "790  San Francisco  San Francisco       Bernal Heights  268020.0    CA   \n",
       "791  San Francisco  San Francisco  Castro-Upper Market  276241.0    CA   \n",
       "792  San Francisco  San Francisco            Chinatown  114291.0    CA   \n",
       "793  San Francisco  San Francisco       Crocker Amazon  273404.0    CA   \n",
       "\n",
       "                                              geometry  \n",
       "789  POLYGON ((-122.380496615061 37.7507156475919, ...  \n",
       "790  POLYGON ((-122.403862539662 37.7494769720709, ...  \n",
       "791  POLYGON ((-122.426029676707 37.7697778521009, ...  \n",
       "792  POLYGON ((-122.41020215338 37.7974876723953, -...  \n",
       "793  POLYGON ((-122.454085201694 37.7082065558492, ...  "
      ]
     },
     "execution_count": 50,
     "metadata": {},
     "output_type": "execute_result"
    }
   ],
   "source": [
    "boundaries.head()"
   ]
  },
  {
   "cell_type": "code",
   "execution_count": 51,
   "metadata": {
    "collapsed": false
   },
   "outputs": [],
   "source": [
    "#set boundaries into same geographic coordinate system as points\n",
    "boundaries.crs = {'init' :'epsg:4326'}"
   ]
  },
  {
   "cell_type": "markdown",
   "metadata": {},
   "source": [
    "# Combine Layers"
   ]
  },
  {
   "cell_type": "code",
   "execution_count": 52,
   "metadata": {
    "collapsed": true
   },
   "outputs": [],
   "source": [
    "#First, spatial join between points and neighborhood boundaries. Set 'how' to 'right' to preserve polygon geometries.\n",
    "nbcum = gpd.sjoin(construction, boundaries, how = 'right', op='within')"
   ]
  },
  {
   "cell_type": "code",
   "execution_count": 53,
   "metadata": {
    "collapsed": false
   },
   "outputs": [],
   "source": [
    "#Next, dissolve by neighborhoods to get sum of units\n",
    "nbcum = nbcum[['NAME', 'geometry', 'net_units', 'net_affordable_units']]\n",
    "nb_map = nbcum.dissolve(by='NAME', aggfunc='sum')\n",
    "\n",
    "nb_map['net_units'].fillna(0, inplace = True)\n",
    "nb_map['net_affordable_units'].fillna(0, inplace = True)\n",
    "\n",
    "nb_map['net_units'] = nb_map['net_units'].astype(int)\n",
    "nb_map['net_affordable_units'] = nb_map['net_affordable_units'].astype(int)\n",
    "\n",
    "nb_map['name'] = nb_map.index\n",
    "#nb_map.head(20)"
   ]
  },
  {
   "cell_type": "code",
   "execution_count": 54,
   "metadata": {
    "collapsed": true
   },
   "outputs": [],
   "source": [
    "#export to geojson object\n",
    "export_path = \"/Users/briangoggin/Dropbox/CP 255/Permit Project/Code/Pipeline Map\"\n",
    "with open(export_path+'/nb_map.js', 'w') as f:\n",
    "    f.write('var dataset = {};'.format(nb_map.to_json()))"
   ]
  },
  {
   "cell_type": "code",
   "execution_count": 55,
   "metadata": {
    "collapsed": false
   },
   "outputs": [
    {
     "data": {
      "text/plain": [
       "count      34.000000\n",
       "mean      410.294118\n",
       "std      1228.877772\n",
       "min         0.000000\n",
       "25%        13.500000\n",
       "50%        30.500000\n",
       "75%       176.000000\n",
       "max      6920.000000\n",
       "Name: net_units, dtype: float64"
      ]
     },
     "execution_count": 55,
     "metadata": {},
     "output_type": "execute_result"
    }
   ],
   "source": [
    "nb_map['net_units'].describe()"
   ]
  },
  {
   "cell_type": "code",
   "execution_count": null,
   "metadata": {
    "collapsed": true
   },
   "outputs": [],
   "source": []
  }
 ],
 "metadata": {
  "anaconda-cloud": {},
  "kernelspec": {
   "display_name": "Python [Root]",
   "language": "python",
   "name": "Python [Root]"
  },
  "language_info": {
   "codemirror_mode": {
    "name": "ipython",
    "version": 3
   },
   "file_extension": ".py",
   "mimetype": "text/x-python",
   "name": "python",
   "nbconvert_exporter": "python",
   "pygments_lexer": "ipython3",
   "version": "3.5.2"
  }
 },
 "nbformat": 4,
 "nbformat_minor": 0
}
