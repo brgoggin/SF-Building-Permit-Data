{
 "cells": [
  {
   "cell_type": "markdown",
   "metadata": {
    "collapsed": true
   },
   "source": [
    "# Housing Inventory Import\n",
    "\n",
    "This notebook imports the SF Housing Inventory data from the SF open data portal. This is an alternative to development activity from the SF Development Pipeline, which I used for my CP 255 final project. "
   ]
  },
  {
   "cell_type": "code",
   "execution_count": 110,
   "metadata": {
    "collapsed": true
   },
   "outputs": [],
   "source": [
    "#import pandas\n",
    "import pandas as pd\n",
    "import numpy as np\n",
    "import re as re\n",
    "import os\n",
    "import requests  # library for accessing content from web URLs\n",
    "import pprint  # library for making Python data structures readable\n",
    "pp = pprint.PrettyPrinter()\n",
    "import json    # library for working with JSON-formatted text strings\n",
    "import time\n",
    "from geopy.geocoders import GoogleV3 #google geocoding\n",
    "pd.set_option('display.max_row', 1000) #sets max rows to be seen\n",
    "pd.set_option('display.max_columns', 50) #Set max column width to 50"
   ]
  },
  {
   "cell_type": "markdown",
   "metadata": {},
   "source": [
    "# Import Data"
   ]
  },
  {
   "cell_type": "code",
   "execution_count": 111,
   "metadata": {
    "collapsed": false
   },
   "outputs": [],
   "source": [
    "#set directory for one file not available through API\n",
    "root = '/Users/briangoggin/Dropbox/CP 255/SF Development Project'\n",
    "raw = root+'/Raw Data/'\n",
    "\n",
    "d2014 = 'https://data.sfgov.org/resource/b8d6-zthg.json'\n",
    "d2013 = 'https://data.sfgov.org/resource/sjse-8gyy.json'\n",
    "d2012 = 'https://data.sfgov.org/resource/a64c-96a5.json'\n",
    "d2011 = 'https://data.sfgov.org/resource/pwiv-ej3p.json'"
   ]
  },
  {
   "cell_type": "code",
   "execution_count": 112,
   "metadata": {
    "collapsed": false
   },
   "outputs": [],
   "source": [
    "#import via excel\n",
    "df2015 = pd.read_excel(raw+'Housing Inventory/2015_datasf.xlsx', sheetname = '2015Completes')"
   ]
  },
  {
   "cell_type": "code",
   "execution_count": 113,
   "metadata": {
    "collapsed": false
   },
   "outputs": [
    {
     "data": {
      "text/html": [
       "<div>\n",
       "<table border=\"1\" class=\"dataframe\">\n",
       "  <thead>\n",
       "    <tr style=\"text-align: right;\">\n",
       "      <th></th>\n",
       "      <th>address</th>\n",
       "      <th>block</th>\n",
       "      <th>lot</th>\n",
       "      <th>status</th>\n",
       "      <th>latest_date</th>\n",
       "      <th>units</th>\n",
       "      <th>net_units</th>\n",
       "      <th>affordable_units</th>\n",
       "      <th>zone</th>\n",
       "      <th>year</th>\n",
       "    </tr>\n",
       "  </thead>\n",
       "  <tbody>\n",
       "    <tr>\n",
       "      <th>0</th>\n",
       "      <td>1400 MISSION ST</td>\n",
       "      <td>3507</td>\n",
       "      <td>042</td>\n",
       "      <td>COMPLETE</td>\n",
       "      <td>2015-12-22</td>\n",
       "      <td>190.0</td>\n",
       "      <td>190.0</td>\n",
       "      <td>167.0</td>\n",
       "      <td>C-3-G</td>\n",
       "      <td>2015</td>\n",
       "    </tr>\n",
       "    <tr>\n",
       "      <th>1</th>\n",
       "      <td>255 BROADWAY *</td>\n",
       "      <td>0165</td>\n",
       "      <td>021</td>\n",
       "      <td>COMPLETE</td>\n",
       "      <td>2015-02-12</td>\n",
       "      <td>75.0</td>\n",
       "      <td>75.0</td>\n",
       "      <td>74.0</td>\n",
       "      <td>C-2</td>\n",
       "      <td>2015</td>\n",
       "    </tr>\n",
       "    <tr>\n",
       "      <th>2</th>\n",
       "      <td>1100 OCEAN AV</td>\n",
       "      <td>3180</td>\n",
       "      <td>001</td>\n",
       "      <td>COMPLETE</td>\n",
       "      <td>2015-02-23</td>\n",
       "      <td>71.0</td>\n",
       "      <td>71.0</td>\n",
       "      <td>70.0</td>\n",
       "      <td>OCEAN AVE NCT</td>\n",
       "      <td>2015</td>\n",
       "    </tr>\n",
       "    <tr>\n",
       "      <th>3</th>\n",
       "      <td>280 BEALE ST</td>\n",
       "      <td>3738</td>\n",
       "      <td>004</td>\n",
       "      <td>TCO ISSUED</td>\n",
       "      <td>2015-06-23</td>\n",
       "      <td>70.0</td>\n",
       "      <td>70.0</td>\n",
       "      <td>69.0</td>\n",
       "      <td>TB DTR</td>\n",
       "      <td>2015</td>\n",
       "    </tr>\n",
       "    <tr>\n",
       "      <th>4</th>\n",
       "      <td>100 VAN NESS AV</td>\n",
       "      <td>0814</td>\n",
       "      <td>020</td>\n",
       "      <td>PRE-FINAL</td>\n",
       "      <td>2015-05-05</td>\n",
       "      <td>399.0</td>\n",
       "      <td>399.0</td>\n",
       "      <td>48.0</td>\n",
       "      <td>C-3-G</td>\n",
       "      <td>2015</td>\n",
       "    </tr>\n",
       "  </tbody>\n",
       "</table>\n",
       "</div>"
      ],
      "text/plain": [
       "           address block  lot      status latest_date  units  net_units  \\\n",
       "0  1400 MISSION ST  3507  042    COMPLETE  2015-12-22  190.0      190.0   \n",
       "1   255 BROADWAY *  0165  021    COMPLETE  2015-02-12   75.0       75.0   \n",
       "2    1100 OCEAN AV  3180  001    COMPLETE  2015-02-23   71.0       71.0   \n",
       "3     280 BEALE ST  3738  004  TCO ISSUED  2015-06-23   70.0       70.0   \n",
       "4  100 VAN NESS AV  0814  020   PRE-FINAL  2015-05-05  399.0      399.0   \n",
       "\n",
       "   affordable_units           zone  year  \n",
       "0             167.0          C-3-G  2015  \n",
       "1              74.0            C-2  2015  \n",
       "2              70.0  OCEAN AVE NCT  2015  \n",
       "3              69.0         TB DTR  2015  \n",
       "4              48.0          C-3-G  2015  "
      ]
     },
     "execution_count": 113,
     "metadata": {},
     "output_type": "execute_result"
    }
   ],
   "source": [
    "df2015['address'] = df2015['Address']\n",
    "df2015['block'] = df2015['BLOCK']\n",
    "df2015['lot'] = df2015['LOT']\n",
    "df2015['status'] = df2015['ACTION']\n",
    "df2015['latest_date'] = df2015['ACTDATE']\n",
    "df2015['units'] = df2015['UNITS']\n",
    "df2015['net_units'] = df2015['NETUNITS']\n",
    "df2015['affordable_units'] = df2015['AFFHSG']\n",
    "df2015['zone'] = df2015['ZONING']\n",
    "df2015['year'] = '2015'\n",
    "\n",
    "varlist = ['address', 'block', 'lot', 'status', 'latest_date', 'units', \n",
    "           'net_units', 'affordable_units', 'zone', 'year']\n",
    "\n",
    "df2015= df2015[varlist]\n",
    "df2015.head()"
   ]
  },
  {
   "cell_type": "code",
   "execution_count": 114,
   "metadata": {
    "collapsed": true
   },
   "outputs": [],
   "source": [
    "#define function for importing other data\n",
    "\n",
    "def importdata(year, yearvalue, field1, field2, field3, field4, field5, field6, field7, field8, field9):\n",
    "    '''\n",
    "    This function calls the API endpoint year and returns a dataframe with the desired columns.\n",
    "    field1=geogfield2 represent the desired fields as they are named at the API endpoint\n",
    "    '''\n",
    "    \n",
    "    def includekey(field):\n",
    "        '''\n",
    "        This function takes a given field from the API endpoint and creates a list out of its entires.\n",
    "        '''\n",
    "        list = []\n",
    "        for item in data: \n",
    "            if field in item.keys():\n",
    "                list.append(item[field])\n",
    "            else:\n",
    "                list.append(np.nan)\n",
    "        return list\n",
    "    \n",
    "    response = requests.get(year)\n",
    "    results = response.text\n",
    "    data = json.loads(results) #data is a list at this point\n",
    "    \n",
    "    #import fields\n",
    "    d = {}\n",
    "    d['block'] = includekey(field1)\n",
    "    d['lot'] = includekey(field2)\n",
    "    d['address'] = includekey(field3)\n",
    "    d['status'] = includekey(field4)\n",
    "    d['latest_date'] = includekey(field5)\n",
    "    d['units'] = includekey(field6)\n",
    "    d['net_units'] = includekey(field7)\n",
    "    d['affordable_units'] = includekey(field8)\n",
    "    d['zone'] = includekey(field9)\n",
    "\n",
    "    df = pd.DataFrame.from_dict(d)\n",
    "    df['year'] = yearvalue\n",
    "    \n",
    "    return df"
   ]
  },
  {
   "cell_type": "code",
   "execution_count": 115,
   "metadata": {
    "collapsed": false
   },
   "outputs": [
    {
     "name": "stdout",
     "output_type": "stream",
     "text": [
      "1.6651020050048828\n"
     ]
    }
   ],
   "source": [
    "#import data\n",
    "start = time.time()\n",
    "df2014 = importdata(d2014, '2014', 'block', 'lot', 'stdadd', 'action', 'actdate', 'units', 'netunits', 'affhsg', 'zoning')\n",
    "df2013 = importdata(d2013, '2013', 'block', 'lot', 'standardaddress', 'change_type', 'actdate', 'units', 'netunits', 'aff_hsg', 'zoning')\n",
    "df2012 = importdata(d2012, '2012', 'block', 'lot', 'standardaddress', 'change_type', 'actdate', 'units', 'netunits', 'aff_hsg', 'zoning')\n",
    "df2011 = importdata(d2011, '2011', 'block', 'lot', 'standardad', 'change_type', 'actdate', 'units', 'netunits', 'affordable', 'zoning')\n",
    "end = time.time()\n",
    "print(end - start)"
   ]
  },
  {
   "cell_type": "code",
   "execution_count": 116,
   "metadata": {
    "collapsed": true
   },
   "outputs": [],
   "source": [
    "#append data together\n",
    "years = [df2014, df2013, df2012, df2011]\n",
    "full_df = df2015.append(years)"
   ]
  },
  {
   "cell_type": "code",
   "execution_count": 117,
   "metadata": {
    "collapsed": false
   },
   "outputs": [
    {
     "data": {
      "text/html": [
       "<div>\n",
       "<table border=\"1\" class=\"dataframe\">\n",
       "  <thead>\n",
       "    <tr style=\"text-align: right;\">\n",
       "      <th></th>\n",
       "      <th>address</th>\n",
       "      <th>affordable_units</th>\n",
       "      <th>block</th>\n",
       "      <th>latest_date</th>\n",
       "      <th>lot</th>\n",
       "      <th>net_units</th>\n",
       "      <th>status</th>\n",
       "      <th>units</th>\n",
       "      <th>year</th>\n",
       "      <th>zone</th>\n",
       "    </tr>\n",
       "  </thead>\n",
       "  <tbody>\n",
       "    <tr>\n",
       "      <th>0</th>\n",
       "      <td>1400 MISSION ST</td>\n",
       "      <td>167</td>\n",
       "      <td>3507</td>\n",
       "      <td>2015-12-22 00:00:00</td>\n",
       "      <td>042</td>\n",
       "      <td>190</td>\n",
       "      <td>COMPLETE</td>\n",
       "      <td>190</td>\n",
       "      <td>2015</td>\n",
       "      <td>C-3-G</td>\n",
       "    </tr>\n",
       "    <tr>\n",
       "      <th>1</th>\n",
       "      <td>255 BROADWAY *</td>\n",
       "      <td>74</td>\n",
       "      <td>0165</td>\n",
       "      <td>2015-02-12 00:00:00</td>\n",
       "      <td>021</td>\n",
       "      <td>75</td>\n",
       "      <td>COMPLETE</td>\n",
       "      <td>75</td>\n",
       "      <td>2015</td>\n",
       "      <td>C-2</td>\n",
       "    </tr>\n",
       "    <tr>\n",
       "      <th>2</th>\n",
       "      <td>1100 OCEAN AV</td>\n",
       "      <td>70</td>\n",
       "      <td>3180</td>\n",
       "      <td>2015-02-23 00:00:00</td>\n",
       "      <td>001</td>\n",
       "      <td>71</td>\n",
       "      <td>COMPLETE</td>\n",
       "      <td>71</td>\n",
       "      <td>2015</td>\n",
       "      <td>OCEAN AVE NCT</td>\n",
       "    </tr>\n",
       "    <tr>\n",
       "      <th>3</th>\n",
       "      <td>280 BEALE ST</td>\n",
       "      <td>69</td>\n",
       "      <td>3738</td>\n",
       "      <td>2015-06-23 00:00:00</td>\n",
       "      <td>004</td>\n",
       "      <td>70</td>\n",
       "      <td>TCO ISSUED</td>\n",
       "      <td>70</td>\n",
       "      <td>2015</td>\n",
       "      <td>TB DTR</td>\n",
       "    </tr>\n",
       "    <tr>\n",
       "      <th>4</th>\n",
       "      <td>100 VAN NESS AV</td>\n",
       "      <td>48</td>\n",
       "      <td>0814</td>\n",
       "      <td>2015-05-05 00:00:00</td>\n",
       "      <td>020</td>\n",
       "      <td>399</td>\n",
       "      <td>PRE-FINAL</td>\n",
       "      <td>399</td>\n",
       "      <td>2015</td>\n",
       "      <td>C-3-G</td>\n",
       "    </tr>\n",
       "  </tbody>\n",
       "</table>\n",
       "</div>"
      ],
      "text/plain": [
       "           address affordable_units block          latest_date  lot net_units  \\\n",
       "0  1400 MISSION ST              167  3507  2015-12-22 00:00:00  042       190   \n",
       "1   255 BROADWAY *               74  0165  2015-02-12 00:00:00  021        75   \n",
       "2    1100 OCEAN AV               70  3180  2015-02-23 00:00:00  001        71   \n",
       "3     280 BEALE ST               69  3738  2015-06-23 00:00:00  004        70   \n",
       "4  100 VAN NESS AV               48  0814  2015-05-05 00:00:00  020       399   \n",
       "\n",
       "       status units  year           zone  \n",
       "0    COMPLETE   190  2015          C-3-G  \n",
       "1    COMPLETE    75  2015            C-2  \n",
       "2    COMPLETE    71  2015  OCEAN AVE NCT  \n",
       "3  TCO ISSUED    70  2015         TB DTR  \n",
       "4   PRE-FINAL   399  2015          C-3-G  "
      ]
     },
     "execution_count": 117,
     "metadata": {},
     "output_type": "execute_result"
    }
   ],
   "source": [
    "full_df.head()"
   ]
  },
  {
   "cell_type": "code",
   "execution_count": 118,
   "metadata": {
    "collapsed": false
   },
   "outputs": [],
   "source": [
    "full_df[full_df['address'].isnull()] #only a few empty rows in 2015 with no address. Get rid of these\n",
    "full_df = full_df[full_df['address'].notnull()]"
   ]
  },
  {
   "cell_type": "code",
   "execution_count": 119,
   "metadata": {
    "collapsed": true
   },
   "outputs": [],
   "source": [
    "# Fill out address field prior to geocoding\n",
    "full_df['address'] = df2014['address'] + \", San Francisco, CA\""
   ]
  },
  {
   "cell_type": "markdown",
   "metadata": {},
   "source": [
    "# Geocoding"
   ]
  },
  {
   "cell_type": "code",
   "execution_count": 120,
   "metadata": {
    "collapsed": true
   },
   "outputs": [],
   "source": [
    "# set the pause duration between api requests\n",
    "pause = 0.1"
   ]
  },
  {
   "cell_type": "code",
   "execution_count": 121,
   "metadata": {
    "collapsed": true
   },
   "outputs": [],
   "source": [
    "# function that accepts an address string, sends it to the Google API, and returns the lat-long API result\n",
    "def geocode(address):\n",
    "    time.sleep(pause) #pause for some duration before each request, to not hammer their server\n",
    "    url = 'http://maps.googleapis.com/maps/api/geocode/json?address={}&sensor=false' #api url with placeholders\n",
    "    request = url.format(address) #fill in the placeholder with a variable\n",
    "    response = requests.get(request) #send the request to the server and get the response\n",
    "    data = response.json() #convert the response json string into a dict\n",
    "    \n",
    "    if len(data['results']) > 0: #if google was able to geolocate our address, extract lat-long from result\n",
    "        latitude = data['results'][0]['geometry']['location']['lat']\n",
    "        longitude = data['results'][0]['geometry']['location']['lng']\n",
    "        return '{},{}'.format(latitude, longitude) #return lat-long as a string in the format google likes"
   ]
  },
  {
   "cell_type": "code",
   "execution_count": 122,
   "metadata": {
    "collapsed": false
   },
   "outputs": [
    {
     "name": "stdout",
     "output_type": "stream",
     "text": [
      "503.7457609176636\n"
     ]
    }
   ],
   "source": [
    "# for each value in the address column, geocode it, save results as new df column\n",
    "start = time.time()\n",
    "full_df['latlng'] = full_df['address'].map(geocode)\n",
    "full_df['lat'] = full_df['latlng'].str.split(',').str[0]\n",
    "full_df['lon'] = full_df['latlng'].str.split(',').str[1]\n",
    "end = time.time()\n",
    "print(end - start)"
   ]
  },
  {
   "cell_type": "code",
   "execution_count": null,
   "metadata": {
    "collapsed": false
   },
   "outputs": [],
   "source": [
    "# round values\n",
    "def round(x):\n",
    "    y = float(x)\n",
    "    return y\n",
    "\n",
    "full_df['lat'] = full_df['lat'].map(round)\n",
    "full_df['lon'] = full_df['lon'].map(round)"
   ]
  },
  {
   "cell_type": "markdown",
   "metadata": {},
   "source": [
    "# Export Data"
   ]
  },
  {
   "cell_type": "code",
   "execution_count": 151,
   "metadata": {
    "collapsed": true
   },
   "outputs": [],
   "source": [
    "#write function to export point data\n",
    "def df_to_geojson(df, properties, lat='latitude', lon='longitude'):\n",
    "    # create a new python dict to contain our geojson data, using geojson format\n",
    "    geojson = {'type':'FeatureCollection', 'features':[]}\n",
    "\n",
    "    # loop through each row in the dataframe and convert each row to geojson format\n",
    "    for _, row in df.iterrows():\n",
    "        # create a feature template to fill in\n",
    "        feature = {'type':'Feature',\n",
    "                   'properties':{},\n",
    "                   'geometry':{'type':'Point',\n",
    "                               'coordinates':[]}}\n",
    "\n",
    "        # fill in the coordinates\n",
    "        feature['geometry']['coordinates'] = [row[lon],row[lat]]\n",
    "\n",
    "        # for each column, get the value and add it as a new feature property\n",
    "        for prop in properties:\n",
    "            feature['properties'][prop] = row[prop]\n",
    "        \n",
    "        # add this feature (aka, converted dataframe row) to the list of features inside our dict\n",
    "        geojson['features'].append(feature)\n",
    "    \n",
    "    return geojson"
   ]
  },
  {
   "cell_type": "code",
   "execution_count": 152,
   "metadata": {
    "collapsed": false
   },
   "outputs": [],
   "source": [
    "# Omitting \"Latest Date\" variable here because it does not work with json output. Not needed for now anyway\n",
    "varlist = ['address', 'block', 'lot', 'status', 'units', \n",
    "           'net_units', 'affordable_units', 'zone', 'year']\n",
    "\n",
    "geojson = df_to_geojson(full_df, varlist, 'lat', 'lon')"
   ]
  },
  {
   "cell_type": "code",
   "execution_count": 153,
   "metadata": {
    "collapsed": false
   },
   "outputs": [],
   "source": [
    "# save the geojson result to a file\n",
    "output_path = root+'/Code/Maps/Housing Inventory'\n",
    "output_filename = output_path+'/data.js'\n",
    "with open(output_filename, 'w') as output_file:\n",
    "    output_file.write('var dataset = {};'.format(json.dumps(geojson, indent=4)))"
   ]
  },
  {
   "cell_type": "code",
   "execution_count": null,
   "metadata": {
    "collapsed": true
   },
   "outputs": [],
   "source": []
  }
 ],
 "metadata": {
  "kernelspec": {
   "display_name": "Python [Root]",
   "language": "python",
   "name": "Python [Root]"
  },
  "language_info": {
   "codemirror_mode": {
    "name": "ipython",
    "version": 3
   },
   "file_extension": ".py",
   "mimetype": "text/x-python",
   "name": "python",
   "nbconvert_exporter": "python",
   "pygments_lexer": "ipython3",
   "version": "3.5.2"
  }
 },
 "nbformat": 4,
 "nbformat_minor": 0
}
